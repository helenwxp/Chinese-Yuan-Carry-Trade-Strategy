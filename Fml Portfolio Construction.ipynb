{
 "cells": [
  {
   "cell_type": "code",
   "execution_count": 1,
   "metadata": {},
   "outputs": [],
   "source": [
    "import pandas as pd"
   ]
  },
  {
   "cell_type": "markdown",
   "metadata": {},
   "source": [
    "## One month interbank rate_monthly"
   ]
  },
  {
   "cell_type": "code",
   "execution_count": 2,
   "metadata": {},
   "outputs": [
    {
     "data": {
      "text/html": [
       "<div>\n",
       "<style scoped>\n",
       "    .dataframe tbody tr th:only-of-type {\n",
       "        vertical-align: middle;\n",
       "    }\n",
       "\n",
       "    .dataframe tbody tr th {\n",
       "        vertical-align: top;\n",
       "    }\n",
       "\n",
       "    .dataframe thead th {\n",
       "        text-align: right;\n",
       "    }\n",
       "</style>\n",
       "<table border=\"1\" class=\"dataframe\">\n",
       "  <thead>\n",
       "    <tr style=\"text-align: right;\">\n",
       "      <th></th>\n",
       "      <th>date</th>\n",
       "      <th>LIBOR:美元:隔夜</th>\n",
       "      <th>LIBOR:美元:1周</th>\n",
       "      <th>LIBOR:美元:1个月</th>\n",
       "      <th>LIBOR:美元:2个月</th>\n",
       "      <th>LIBOR:美元:3个月</th>\n",
       "      <th>LIBOR:美元:6个月</th>\n",
       "      <th>LIBOR:美元:12个月</th>\n",
       "      <th>LIBOR:欧元:隔夜</th>\n",
       "      <th>LIBOR:欧元:1周</th>\n",
       "      <th>...</th>\n",
       "      <th>LIBOR:英镑:3个月</th>\n",
       "      <th>LIBOR:英镑:6个月</th>\n",
       "      <th>LIBOR:英镑:12个月</th>\n",
       "      <th>LIBOR:瑞郎:隔夜</th>\n",
       "      <th>LIBOR:瑞郎:1周</th>\n",
       "      <th>LIBOR:瑞郎:1个月</th>\n",
       "      <th>LIBOR:瑞郎:2个月</th>\n",
       "      <th>LIBOR:瑞郎:3个月</th>\n",
       "      <th>LIBOR:瑞郎:6个月</th>\n",
       "      <th>LIBOR:瑞郎:12个月</th>\n",
       "    </tr>\n",
       "  </thead>\n",
       "  <tbody>\n",
       "    <tr>\n",
       "      <td>2</td>\n",
       "      <td>1986-01-02 00:00:00</td>\n",
       "      <td>NaN</td>\n",
       "      <td>NaN</td>\n",
       "      <td>8.125</td>\n",
       "      <td>NaN</td>\n",
       "      <td>8</td>\n",
       "      <td>8</td>\n",
       "      <td>8.0625</td>\n",
       "      <td>NaN</td>\n",
       "      <td>NaN</td>\n",
       "      <td>...</td>\n",
       "      <td>11.875</td>\n",
       "      <td>11.875</td>\n",
       "      <td>11.75</td>\n",
       "      <td>NaN</td>\n",
       "      <td>NaN</td>\n",
       "      <td>NaN</td>\n",
       "      <td>NaN</td>\n",
       "      <td>NaN</td>\n",
       "      <td>NaN</td>\n",
       "      <td>NaN</td>\n",
       "    </tr>\n",
       "    <tr>\n",
       "      <td>3</td>\n",
       "      <td>1986-01-03 00:00:00</td>\n",
       "      <td>NaN</td>\n",
       "      <td>NaN</td>\n",
       "      <td>8.125</td>\n",
       "      <td>NaN</td>\n",
       "      <td>8.0625</td>\n",
       "      <td>8.0625</td>\n",
       "      <td>8.125</td>\n",
       "      <td>NaN</td>\n",
       "      <td>NaN</td>\n",
       "      <td>...</td>\n",
       "      <td>11.875</td>\n",
       "      <td>11.875</td>\n",
       "      <td>11.8125</td>\n",
       "      <td>NaN</td>\n",
       "      <td>NaN</td>\n",
       "      <td>NaN</td>\n",
       "      <td>NaN</td>\n",
       "      <td>NaN</td>\n",
       "      <td>NaN</td>\n",
       "      <td>NaN</td>\n",
       "    </tr>\n",
       "    <tr>\n",
       "      <td>4</td>\n",
       "      <td>1986-01-06 00:00:00</td>\n",
       "      <td>NaN</td>\n",
       "      <td>NaN</td>\n",
       "      <td>8.1875</td>\n",
       "      <td>NaN</td>\n",
       "      <td>8.125</td>\n",
       "      <td>8.125</td>\n",
       "      <td>8.125</td>\n",
       "      <td>NaN</td>\n",
       "      <td>NaN</td>\n",
       "      <td>...</td>\n",
       "      <td>11.9063</td>\n",
       "      <td>11.9375</td>\n",
       "      <td>11.875</td>\n",
       "      <td>NaN</td>\n",
       "      <td>NaN</td>\n",
       "      <td>NaN</td>\n",
       "      <td>NaN</td>\n",
       "      <td>NaN</td>\n",
       "      <td>NaN</td>\n",
       "      <td>NaN</td>\n",
       "    </tr>\n",
       "    <tr>\n",
       "      <td>5</td>\n",
       "      <td>1986-01-07 00:00:00</td>\n",
       "      <td>NaN</td>\n",
       "      <td>NaN</td>\n",
       "      <td>8.125</td>\n",
       "      <td>NaN</td>\n",
       "      <td>8.125</td>\n",
       "      <td>8.125</td>\n",
       "      <td>8.125</td>\n",
       "      <td>NaN</td>\n",
       "      <td>NaN</td>\n",
       "      <td>...</td>\n",
       "      <td>12.0313</td>\n",
       "      <td>12.0625</td>\n",
       "      <td>12.0625</td>\n",
       "      <td>NaN</td>\n",
       "      <td>NaN</td>\n",
       "      <td>NaN</td>\n",
       "      <td>NaN</td>\n",
       "      <td>NaN</td>\n",
       "      <td>NaN</td>\n",
       "      <td>NaN</td>\n",
       "    </tr>\n",
       "    <tr>\n",
       "      <td>6</td>\n",
       "      <td>1986-01-08 00:00:00</td>\n",
       "      <td>NaN</td>\n",
       "      <td>NaN</td>\n",
       "      <td>8</td>\n",
       "      <td>NaN</td>\n",
       "      <td>8</td>\n",
       "      <td>8</td>\n",
       "      <td>8.0625</td>\n",
       "      <td>NaN</td>\n",
       "      <td>NaN</td>\n",
       "      <td>...</td>\n",
       "      <td>12.5</td>\n",
       "      <td>12.5</td>\n",
       "      <td>12.4375</td>\n",
       "      <td>NaN</td>\n",
       "      <td>NaN</td>\n",
       "      <td>NaN</td>\n",
       "      <td>NaN</td>\n",
       "      <td>NaN</td>\n",
       "      <td>NaN</td>\n",
       "      <td>NaN</td>\n",
       "    </tr>\n",
       "    <tr>\n",
       "      <td>...</td>\n",
       "      <td>...</td>\n",
       "      <td>...</td>\n",
       "      <td>...</td>\n",
       "      <td>...</td>\n",
       "      <td>...</td>\n",
       "      <td>...</td>\n",
       "      <td>...</td>\n",
       "      <td>...</td>\n",
       "      <td>...</td>\n",
       "      <td>...</td>\n",
       "      <td>...</td>\n",
       "      <td>...</td>\n",
       "      <td>...</td>\n",
       "      <td>...</td>\n",
       "      <td>...</td>\n",
       "      <td>...</td>\n",
       "      <td>...</td>\n",
       "      <td>...</td>\n",
       "      <td>...</td>\n",
       "      <td>...</td>\n",
       "      <td>...</td>\n",
       "    </tr>\n",
       "    <tr>\n",
       "      <td>8692</td>\n",
       "      <td>2020-02-14 00:00:00</td>\n",
       "      <td>1.57613</td>\n",
       "      <td>1.58325</td>\n",
       "      <td>1.65825</td>\n",
       "      <td>1.6625</td>\n",
       "      <td>1.69175</td>\n",
       "      <td>1.71</td>\n",
       "      <td>1.79838</td>\n",
       "      <td>-0.56714</td>\n",
       "      <td>-0.54643</td>\n",
       "      <td>...</td>\n",
       "      <td>0.75375</td>\n",
       "      <td>0.80638</td>\n",
       "      <td>0.89475</td>\n",
       "      <td>-0.7818</td>\n",
       "      <td>-0.7962</td>\n",
       "      <td>-0.7772</td>\n",
       "      <td>-0.7402</td>\n",
       "      <td>-0.706</td>\n",
       "      <td>-0.6624</td>\n",
       "      <td>-0.5334</td>\n",
       "    </tr>\n",
       "    <tr>\n",
       "      <td>8693</td>\n",
       "      <td>2020-02-17 00:00:00</td>\n",
       "      <td>NaN</td>\n",
       "      <td>1.58225</td>\n",
       "      <td>1.64675</td>\n",
       "      <td>1.64575</td>\n",
       "      <td>1.69288</td>\n",
       "      <td>1.72488</td>\n",
       "      <td>1.79275</td>\n",
       "      <td>-0.56714</td>\n",
       "      <td>-0.54743</td>\n",
       "      <td>...</td>\n",
       "      <td>0.7585</td>\n",
       "      <td>0.80525</td>\n",
       "      <td>0.9025</td>\n",
       "      <td>-0.7854</td>\n",
       "      <td>-0.798</td>\n",
       "      <td>-0.7778</td>\n",
       "      <td>-0.738</td>\n",
       "      <td>-0.7074</td>\n",
       "      <td>-0.6634</td>\n",
       "      <td>-0.5316</td>\n",
       "    </tr>\n",
       "    <tr>\n",
       "      <td>8694</td>\n",
       "      <td>2020-02-18 00:00:00</td>\n",
       "      <td>1.56338</td>\n",
       "      <td>1.58338</td>\n",
       "      <td>1.647</td>\n",
       "      <td>1.66038</td>\n",
       "      <td>1.69463</td>\n",
       "      <td>1.71488</td>\n",
       "      <td>1.77188</td>\n",
       "      <td>-0.568</td>\n",
       "      <td>-0.54729</td>\n",
       "      <td>...</td>\n",
       "      <td>0.75625</td>\n",
       "      <td>0.80438</td>\n",
       "      <td>0.89375</td>\n",
       "      <td>-0.7896</td>\n",
       "      <td>-0.8004</td>\n",
       "      <td>-0.7756</td>\n",
       "      <td>-0.7406</td>\n",
       "      <td>-0.7078</td>\n",
       "      <td>-0.6596</td>\n",
       "      <td>-0.5376</td>\n",
       "    </tr>\n",
       "    <tr>\n",
       "      <td>8695</td>\n",
       "      <td>2020-02-19 00:00:00</td>\n",
       "      <td>1.57688</td>\n",
       "      <td>1.58238</td>\n",
       "      <td>1.63938</td>\n",
       "      <td>1.68875</td>\n",
       "      <td>1.696</td>\n",
       "      <td>1.69875</td>\n",
       "      <td>1.76888</td>\n",
       "      <td>-0.56614</td>\n",
       "      <td>-0.54729</td>\n",
       "      <td>...</td>\n",
       "      <td>0.75438</td>\n",
       "      <td>0.80325</td>\n",
       "      <td>0.88925</td>\n",
       "      <td>-0.7896</td>\n",
       "      <td>-0.8002</td>\n",
       "      <td>-0.785</td>\n",
       "      <td>-0.7454</td>\n",
       "      <td>-0.709</td>\n",
       "      <td>-0.6744</td>\n",
       "      <td>-0.5438</td>\n",
       "    </tr>\n",
       "    <tr>\n",
       "      <td>8696</td>\n",
       "      <td>2020-02-20 00:00:00</td>\n",
       "      <td>1.56713</td>\n",
       "      <td>1.58138</td>\n",
       "      <td>1.62888</td>\n",
       "      <td>1.68163</td>\n",
       "      <td>1.68275</td>\n",
       "      <td>1.69563</td>\n",
       "      <td>1.76175</td>\n",
       "      <td>-0.56671</td>\n",
       "      <td>-0.54529</td>\n",
       "      <td>...</td>\n",
       "      <td>0.751</td>\n",
       "      <td>0.80375</td>\n",
       "      <td>0.89075</td>\n",
       "      <td>-0.787</td>\n",
       "      <td>-0.801</td>\n",
       "      <td>-0.7842</td>\n",
       "      <td>-0.7482</td>\n",
       "      <td>-0.712</td>\n",
       "      <td>-0.6712</td>\n",
       "      <td>-0.5464</td>\n",
       "    </tr>\n",
       "  </tbody>\n",
       "</table>\n",
       "<p>8695 rows × 36 columns</p>\n",
       "</div>"
      ],
      "text/plain": [
       "                     date LIBOR:美元:隔夜 LIBOR:美元:1周 LIBOR:美元:1个月 LIBOR:美元:2个月  \\\n",
       "2     1986-01-02 00:00:00         NaN         NaN        8.125          NaN   \n",
       "3     1986-01-03 00:00:00         NaN         NaN        8.125          NaN   \n",
       "4     1986-01-06 00:00:00         NaN         NaN       8.1875          NaN   \n",
       "5     1986-01-07 00:00:00         NaN         NaN        8.125          NaN   \n",
       "6     1986-01-08 00:00:00         NaN         NaN            8          NaN   \n",
       "...                   ...         ...         ...          ...          ...   \n",
       "8692  2020-02-14 00:00:00     1.57613     1.58325      1.65825       1.6625   \n",
       "8693  2020-02-17 00:00:00         NaN     1.58225      1.64675      1.64575   \n",
       "8694  2020-02-18 00:00:00     1.56338     1.58338        1.647      1.66038   \n",
       "8695  2020-02-19 00:00:00     1.57688     1.58238      1.63938      1.68875   \n",
       "8696  2020-02-20 00:00:00     1.56713     1.58138      1.62888      1.68163   \n",
       "\n",
       "     LIBOR:美元:3个月 LIBOR:美元:6个月 LIBOR:美元:12个月 LIBOR:欧元:隔夜 LIBOR:欧元:1周  ...  \\\n",
       "2               8            8        8.0625         NaN         NaN  ...   \n",
       "3          8.0625       8.0625         8.125         NaN         NaN  ...   \n",
       "4           8.125        8.125         8.125         NaN         NaN  ...   \n",
       "5           8.125        8.125         8.125         NaN         NaN  ...   \n",
       "6               8            8        8.0625         NaN         NaN  ...   \n",
       "...           ...          ...           ...         ...         ...  ...   \n",
       "8692      1.69175         1.71       1.79838    -0.56714    -0.54643  ...   \n",
       "8693      1.69288      1.72488       1.79275    -0.56714    -0.54743  ...   \n",
       "8694      1.69463      1.71488       1.77188      -0.568    -0.54729  ...   \n",
       "8695        1.696      1.69875       1.76888    -0.56614    -0.54729  ...   \n",
       "8696      1.68275      1.69563       1.76175    -0.56671    -0.54529  ...   \n",
       "\n",
       "     LIBOR:英镑:3个月 LIBOR:英镑:6个月 LIBOR:英镑:12个月 LIBOR:瑞郎:隔夜 LIBOR:瑞郎:1周  \\\n",
       "2          11.875       11.875         11.75         NaN         NaN   \n",
       "3          11.875       11.875       11.8125         NaN         NaN   \n",
       "4         11.9063      11.9375        11.875         NaN         NaN   \n",
       "5         12.0313      12.0625       12.0625         NaN         NaN   \n",
       "6            12.5         12.5       12.4375         NaN         NaN   \n",
       "...           ...          ...           ...         ...         ...   \n",
       "8692      0.75375      0.80638       0.89475     -0.7818     -0.7962   \n",
       "8693       0.7585      0.80525        0.9025     -0.7854      -0.798   \n",
       "8694      0.75625      0.80438       0.89375     -0.7896     -0.8004   \n",
       "8695      0.75438      0.80325       0.88925     -0.7896     -0.8002   \n",
       "8696        0.751      0.80375       0.89075      -0.787      -0.801   \n",
       "\n",
       "     LIBOR:瑞郎:1个月 LIBOR:瑞郎:2个月 LIBOR:瑞郎:3个月 LIBOR:瑞郎:6个月 LIBOR:瑞郎:12个月  \n",
       "2             NaN          NaN          NaN          NaN           NaN  \n",
       "3             NaN          NaN          NaN          NaN           NaN  \n",
       "4             NaN          NaN          NaN          NaN           NaN  \n",
       "5             NaN          NaN          NaN          NaN           NaN  \n",
       "6             NaN          NaN          NaN          NaN           NaN  \n",
       "...           ...          ...          ...          ...           ...  \n",
       "8692      -0.7772      -0.7402       -0.706      -0.6624       -0.5334  \n",
       "8693      -0.7778       -0.738      -0.7074      -0.6634       -0.5316  \n",
       "8694      -0.7756      -0.7406      -0.7078      -0.6596       -0.5376  \n",
       "8695       -0.785      -0.7454       -0.709      -0.6744       -0.5438  \n",
       "8696      -0.7842      -0.7482       -0.712      -0.6712       -0.5464  \n",
       "\n",
       "[8695 rows x 36 columns]"
      ]
     },
     "execution_count": 2,
     "metadata": {},
     "output_type": "execute_result"
    }
   ],
   "source": [
    "liborfive = pd.read_excel('LIBOR_USDEUDJPYGBPCHF.xlsx')\n",
    "liborfive = liborfive.drop([0,1,8697,8698])\n",
    "liborfive.rename(columns = {'指标名称':'date'},inplace = True)\n",
    "# liborfive = liborfive.set_index('date')\n",
    "# liborfive['ym'] = liborfive['date'].map(lambda x: 100*x.year + x.month)\n",
    "# liborfive.drop_duplicates('ym','last',inplace = True)\n",
    "# liborfive = liborfive.set_index('ym')\n",
    "# liborfive['date'] = liborfive['date'].dt.strftime('%Y/%m/%d')\n",
    "# liborfive = liborfive.drop([202002])\n",
    "liborfive"
   ]
  },
  {
   "cell_type": "code",
   "execution_count": 3,
   "metadata": {},
   "outputs": [],
   "source": [
    "colname = list(liborfive.columns)\n",
    "colname\n",
    "coln = [colname[7*i+1:7*(i+1)+1] for i in range(5)]\n",
    "coln\n",
    "[colnus,colneu,colnjp,colngb,colnsw] = [coln[i] for i in range(5)]"
   ]
  },
  {
   "cell_type": "code",
   "execution_count": 4,
   "metadata": {},
   "outputs": [
    {
     "data": {
      "text/plain": [
       "['LIBOR:美元:隔夜',\n",
       " 'LIBOR:美元:1周',\n",
       " 'LIBOR:美元:1个月',\n",
       " 'LIBOR:美元:2个月',\n",
       " 'LIBOR:美元:3个月',\n",
       " 'LIBOR:美元:6个月',\n",
       " 'LIBOR:美元:12个月']"
      ]
     },
     "execution_count": 4,
     "metadata": {},
     "output_type": "execute_result"
    }
   ],
   "source": [
    "colnus"
   ]
  },
  {
   "cell_type": "code",
   "execution_count": 5,
   "metadata": {},
   "outputs": [
    {
     "data": {
      "text/plain": [
       "['LIBOR:欧元:隔夜',\n",
       " 'LIBOR:欧元:1周',\n",
       " 'LIBOR:欧元:1个月',\n",
       " 'LIBOR:欧元:2个月',\n",
       " 'LIBOR:欧元:3个月',\n",
       " 'LIBOR:欧元:6个月',\n",
       " 'LIBOR:欧元:12个月']"
      ]
     },
     "execution_count": 5,
     "metadata": {},
     "output_type": "execute_result"
    }
   ],
   "source": [
    "colneu"
   ]
  },
  {
   "cell_type": "code",
   "execution_count": 6,
   "metadata": {},
   "outputs": [
    {
     "data": {
      "text/plain": [
       "['LIBOR:日元:隔夜',\n",
       " 'LIBOR:日元:1周',\n",
       " 'LIBOR:日元:1个月',\n",
       " 'LIBOR:日元:2个月',\n",
       " 'LIBOR:日元:3个月',\n",
       " 'LIBOR:日元:6个月',\n",
       " 'LIBOR:日元:12个月']"
      ]
     },
     "execution_count": 6,
     "metadata": {},
     "output_type": "execute_result"
    }
   ],
   "source": [
    "colnjp"
   ]
  },
  {
   "cell_type": "code",
   "execution_count": 7,
   "metadata": {},
   "outputs": [
    {
     "data": {
      "text/plain": [
       "['LIBOR:英镑:隔夜',\n",
       " 'LIBOR:英镑:1周',\n",
       " 'LIBOR:英镑:1个月',\n",
       " 'LIBOR:英镑:2个月',\n",
       " 'LIBOR:英镑:3个月',\n",
       " 'LIBOR:英镑:6个月',\n",
       " 'LIBOR:英镑:12个月']"
      ]
     },
     "execution_count": 7,
     "metadata": {},
     "output_type": "execute_result"
    }
   ],
   "source": [
    "colngb"
   ]
  },
  {
   "cell_type": "code",
   "execution_count": 8,
   "metadata": {},
   "outputs": [
    {
     "data": {
      "text/plain": [
       "['LIBOR:瑞郎:隔夜',\n",
       " 'LIBOR:瑞郎:1周',\n",
       " 'LIBOR:瑞郎:1个月',\n",
       " 'LIBOR:瑞郎:2个月',\n",
       " 'LIBOR:瑞郎:3个月',\n",
       " 'LIBOR:瑞郎:6个月',\n",
       " 'LIBOR:瑞郎:12个月']"
      ]
     },
     "execution_count": 8,
     "metadata": {},
     "output_type": "execute_result"
    }
   ],
   "source": [
    "colnsw"
   ]
  },
  {
   "cell_type": "code",
   "execution_count": 9,
   "metadata": {},
   "outputs": [
    {
     "data": {
      "text/plain": [
       "['LiborON', 'Libor1W', 'Libor1M', 'Libor2M', 'Libor3M', 'Libor6M', 'Libor12M']"
      ]
     },
     "execution_count": 9,
     "metadata": {},
     "output_type": "execute_result"
    }
   ],
   "source": [
    "s = list('Libor' + i for i in ['ON','1W','1M','2M','3M','6M','12M'])\n",
    "s"
   ]
  },
  {
   "cell_type": "markdown",
   "metadata": {},
   "source": [
    "### US"
   ]
  },
  {
   "cell_type": "code",
   "execution_count": 10,
   "metadata": {},
   "outputs": [
    {
     "data": {
      "text/plain": [
       "ym\n",
       "198601     0.080625\n",
       "198602     0.079375\n",
       "198603        0.075\n",
       "198604     0.069375\n",
       "198605      0.07125\n",
       "            ...    \n",
       "201909    0.0201563\n",
       "201910    0.0178488\n",
       "201911    0.0169713\n",
       "201912     0.017625\n",
       "202001    0.0166188\n",
       "Name: USLibor1M, Length: 409, dtype: object"
      ]
     },
     "execution_count": 10,
     "metadata": {},
     "output_type": "execute_result"
    }
   ],
   "source": [
    "liborus = liborfive.loc[:,['date'] + colnus]\n",
    "liborus.columns = ['date'] + list('US' + i for i in s)\n",
    "us = liborus.loc[:,['date'] + ['USLibor1M']]\n",
    "us = us.dropna()\n",
    "us['ym'] = us['date'].map(lambda x: 100*x.year + x.month)\n",
    "us.drop_duplicates('ym','last',inplace = True)\n",
    "us = us.set_index('ym')\n",
    "us['date'] = us['date'].dt.strftime('%Y/%m/%d')\n",
    "us.to_excel('implied i_idollar.xlsx')\n",
    "us = us.drop([202002])\n",
    "us = us.loc[:,'USLibor1M'] / 100\n",
    "us\n",
    "# liborus\n",
    "# us = liborus.loc[:,'USLibor1M'] / 100\n",
    "# us"
   ]
  },
  {
   "cell_type": "markdown",
   "metadata": {},
   "source": [
    "### EU"
   ]
  },
  {
   "cell_type": "code",
   "execution_count": 20,
   "metadata": {},
   "outputs": [
    {
     "data": {
      "text/plain": [
       "ym\n",
       "199707     0.043125\n",
       "199708     0.043125\n",
       "199709    0.0428125\n",
       "199710    0.0452734\n",
       "199711    0.0453125\n",
       "            ...    \n",
       "201909   -0.0050643\n",
       "201910   -0.0051457\n",
       "201911   -0.0051557\n",
       "201912   -0.0051357\n",
       "202001   -0.0050786\n",
       "Name: EULibor1M, Length: 271, dtype: object"
      ]
     },
     "execution_count": 20,
     "metadata": {},
     "output_type": "execute_result"
    }
   ],
   "source": [
    "liboreu = liborfive.loc[:,['date'] + colneu]\n",
    "liboreu.columns = ['date'] + list('EU' + i for i in s)\n",
    "eu = liboreu.loc[:,['date'] + ['EULibor1M']]\n",
    "eu = eu.dropna()\n",
    "eu['ym'] = eu['date'].map(lambda x: 100*x.year + x.month)\n",
    "eu.drop_duplicates('ym','last',inplace = True)\n",
    "eu = eu.set_index('ym')\n",
    "# eu['date'] = eu['date'].dt.strftime('%Y/%m/%d')\n",
    "eu = eu.drop([202002])\n",
    "eu = eu.loc[:,'EULibor1M'] / 100\n",
    "eu"
   ]
  },
  {
   "cell_type": "markdown",
   "metadata": {},
   "source": [
    "### JP"
   ]
  },
  {
   "cell_type": "code",
   "execution_count": 21,
   "metadata": {},
   "outputs": [
    {
     "data": {
      "text/plain": [
       "ym\n",
       "198601     0.064375\n",
       "198602      0.06625\n",
       "198603      0.05625\n",
       "198604         0.05\n",
       "198605      0.04875\n",
       "            ...    \n",
       "201909   -0.0010867\n",
       "201910   -0.0011167\n",
       "201911     -0.00191\n",
       "201912   -0.0008467\n",
       "202001   -0.0008383\n",
       "Name: JPLibor1M, Length: 409, dtype: object"
      ]
     },
     "execution_count": 21,
     "metadata": {},
     "output_type": "execute_result"
    }
   ],
   "source": [
    "liborjp = liborfive.loc[:,['date'] + colnjp]\n",
    "liborjp.columns = ['date'] + list('JP' + i for i in s)\n",
    "liborjp\n",
    "jp = liborjp.loc[:,['date'] + ['JPLibor1M']]\n",
    "jp = jp.dropna()\n",
    "jp['ym'] = jp['date'].map(lambda x: 100*x.year + x.month)\n",
    "jp.drop_duplicates('ym','last',inplace = True)\n",
    "jp = jp.set_index('ym')\n",
    "# jp['date'] = jp['date'].dt.strftime('%Y/%m/%d')\n",
    "jp = jp.drop([202002])\n",
    "jp = jp.loc[:,'JPLibor1M'] / 100\n",
    "jp"
   ]
  },
  {
   "cell_type": "markdown",
   "metadata": {},
   "source": [
    "### GB"
   ]
  },
  {
   "cell_type": "code",
   "execution_count": 22,
   "metadata": {},
   "outputs": [
    {
     "data": {
      "text/plain": [
       "ym\n",
       "198601     0.128125\n",
       "198602     0.126875\n",
       "198603     0.119375\n",
       "198604      0.10875\n",
       "198605      0.10125\n",
       "            ...    \n",
       "201909    0.0071525\n",
       "201910    0.0071325\n",
       "201911    0.0070538\n",
       "201912    0.0070388\n",
       "202001      0.00708\n",
       "Name: GBLibor1M, Length: 409, dtype: object"
      ]
     },
     "execution_count": 22,
     "metadata": {},
     "output_type": "execute_result"
    }
   ],
   "source": [
    "liborgb = liborfive.loc[:,['date'] + colngb]\n",
    "liborgb.columns = ['date'] + list('GB' + i for i in s)\n",
    "liborgb\n",
    "gb = liborgb.loc[:,['date'] + ['GBLibor1M']]\n",
    "gb = gb.dropna()\n",
    "gb['ym'] = gb['date'].map(lambda x: 100*x.year + x.month)\n",
    "gb.drop_duplicates('ym','last',inplace = True)\n",
    "gb = gb.set_index('ym')\n",
    "# gb['date'] = gb['date'].dt.strftime('%Y/%m/%d')\n",
    "gb = gb.drop([202002])\n",
    "gb = gb.loc[:,'GBLibor1M'] / 100\n",
    "gb"
   ]
  },
  {
   "cell_type": "markdown",
   "metadata": {},
   "source": [
    "### SW"
   ]
  },
  {
   "cell_type": "code",
   "execution_count": 23,
   "metadata": {},
   "outputs": [
    {
     "data": {
      "text/plain": [
       "ym\n",
       "198901    0.056875\n",
       "198902        0.06\n",
       "198903    0.056875\n",
       "198904     0.06625\n",
       "198905    0.084375\n",
       "            ...   \n",
       "201909     -0.0081\n",
       "201910     -0.0079\n",
       "201911   -0.008298\n",
       "201912   -0.007806\n",
       "202001   -0.007734\n",
       "Name: SWLibor1M, Length: 373, dtype: object"
      ]
     },
     "execution_count": 23,
     "metadata": {},
     "output_type": "execute_result"
    }
   ],
   "source": [
    "liborsw = liborfive.loc[:,['date'] + colnsw]\n",
    "liborsw.columns = ['date'] + list('SW' + i for i in s)\n",
    "liborsw\n",
    "sw = liborsw.loc[:,['date'] + ['SWLibor1M']]\n",
    "sw = sw.dropna()\n",
    "sw['ym'] = sw['date'].map(lambda x: 100*x.year + x.month)\n",
    "sw.drop_duplicates('ym','last',inplace = True)\n",
    "sw = sw.set_index('ym')\n",
    "# sw['date'] = sw['date'].dt.strftime('%Y/%m/%d')\n",
    "sw = sw.drop([202002])\n",
    "sw = sw.loc[:,'SWLibor1M'] / 100\n",
    "sw"
   ]
  },
  {
   "cell_type": "markdown",
   "metadata": {},
   "source": [
    "### HK"
   ]
  },
  {
   "cell_type": "code",
   "execution_count": 24,
   "metadata": {},
   "outputs": [
    {
     "data": {
      "text/html": [
       "<div>\n",
       "<style scoped>\n",
       "    .dataframe tbody tr th:only-of-type {\n",
       "        vertical-align: middle;\n",
       "    }\n",
       "\n",
       "    .dataframe tbody tr th {\n",
       "        vertical-align: top;\n",
       "    }\n",
       "\n",
       "    .dataframe thead th {\n",
       "        text-align: right;\n",
       "    }\n",
       "</style>\n",
       "<table border=\"1\" class=\"dataframe\">\n",
       "  <thead>\n",
       "    <tr style=\"text-align: right;\">\n",
       "      <th></th>\n",
       "      <th>date</th>\n",
       "      <th>HIBOR:隔夜</th>\n",
       "      <th>HIBOR:1周</th>\n",
       "      <th>HIBOR:2周</th>\n",
       "      <th>HIBOR:1个月</th>\n",
       "      <th>HIBOR:2个月</th>\n",
       "      <th>HIBOR:3个月</th>\n",
       "      <th>HIBOR:6个月</th>\n",
       "      <th>HIBOR:12个月</th>\n",
       "    </tr>\n",
       "    <tr>\n",
       "      <th>ym</th>\n",
       "      <th></th>\n",
       "      <th></th>\n",
       "      <th></th>\n",
       "      <th></th>\n",
       "      <th></th>\n",
       "      <th></th>\n",
       "      <th></th>\n",
       "      <th></th>\n",
       "      <th></th>\n",
       "    </tr>\n",
       "  </thead>\n",
       "  <tbody>\n",
       "    <tr>\n",
       "      <td>200203</td>\n",
       "      <td>2002/03/28</td>\n",
       "      <td>NaN</td>\n",
       "      <td>NaN</td>\n",
       "      <td>NaN</td>\n",
       "      <td>2.125</td>\n",
       "      <td>2.18527</td>\n",
       "      <td>2.27009</td>\n",
       "      <td>2.5625</td>\n",
       "      <td>3.27009</td>\n",
       "    </tr>\n",
       "    <tr>\n",
       "      <td>200204</td>\n",
       "      <td>2002/04/30</td>\n",
       "      <td>NaN</td>\n",
       "      <td>NaN</td>\n",
       "      <td>NaN</td>\n",
       "      <td>1.89063</td>\n",
       "      <td>1.91741</td>\n",
       "      <td>1.95982</td>\n",
       "      <td>2.16071</td>\n",
       "      <td>2.75</td>\n",
       "    </tr>\n",
       "    <tr>\n",
       "      <td>200205</td>\n",
       "      <td>2002/05/31</td>\n",
       "      <td>NaN</td>\n",
       "      <td>NaN</td>\n",
       "      <td>NaN</td>\n",
       "      <td>1.73214</td>\n",
       "      <td>1.79688</td>\n",
       "      <td>1.85714</td>\n",
       "      <td>2.06696</td>\n",
       "      <td>2.6808</td>\n",
       "    </tr>\n",
       "    <tr>\n",
       "      <td>200206</td>\n",
       "      <td>2002/06/28</td>\n",
       "      <td>NaN</td>\n",
       "      <td>NaN</td>\n",
       "      <td>NaN</td>\n",
       "      <td>1.78571</td>\n",
       "      <td>1.80357</td>\n",
       "      <td>1.82813</td>\n",
       "      <td>1.9442</td>\n",
       "      <td>2.33036</td>\n",
       "    </tr>\n",
       "    <tr>\n",
       "      <td>200207</td>\n",
       "      <td>2002/07/31</td>\n",
       "      <td>NaN</td>\n",
       "      <td>NaN</td>\n",
       "      <td>NaN</td>\n",
       "      <td>1.74777</td>\n",
       "      <td>1.75893</td>\n",
       "      <td>1.78571</td>\n",
       "      <td>1.82589</td>\n",
       "      <td>2.11161</td>\n",
       "    </tr>\n",
       "    <tr>\n",
       "      <td>...</td>\n",
       "      <td>...</td>\n",
       "      <td>...</td>\n",
       "      <td>...</td>\n",
       "      <td>...</td>\n",
       "      <td>...</td>\n",
       "      <td>...</td>\n",
       "      <td>...</td>\n",
       "      <td>...</td>\n",
       "      <td>...</td>\n",
       "    </tr>\n",
       "    <tr>\n",
       "      <td>201909</td>\n",
       "      <td>2019/09/30</td>\n",
       "      <td>3.03929</td>\n",
       "      <td>2.22714</td>\n",
       "      <td>1.79107</td>\n",
       "      <td>1.88357</td>\n",
       "      <td>2.18214</td>\n",
       "      <td>2.26286</td>\n",
       "      <td>2.32893</td>\n",
       "      <td>2.355</td>\n",
       "    </tr>\n",
       "    <tr>\n",
       "      <td>201910</td>\n",
       "      <td>2019/10/31</td>\n",
       "      <td>2.37107</td>\n",
       "      <td>1.80964</td>\n",
       "      <td>1.77679</td>\n",
       "      <td>1.77786</td>\n",
       "      <td>2.03107</td>\n",
       "      <td>2.16643</td>\n",
       "      <td>2.21786</td>\n",
       "      <td>2.28714</td>\n",
       "    </tr>\n",
       "    <tr>\n",
       "      <td>201911</td>\n",
       "      <td>2019/11/29</td>\n",
       "      <td>2.2225</td>\n",
       "      <td>2.17036</td>\n",
       "      <td>2.18804</td>\n",
       "      <td>2.18613</td>\n",
       "      <td>2.35571</td>\n",
       "      <td>2.355</td>\n",
       "      <td>2.34911</td>\n",
       "      <td>2.37429</td>\n",
       "    </tr>\n",
       "    <tr>\n",
       "      <td>201912</td>\n",
       "      <td>2019/12/31</td>\n",
       "      <td>4.56226</td>\n",
       "      <td>3.12929</td>\n",
       "      <td>2.90607</td>\n",
       "      <td>2.66613</td>\n",
       "      <td>2.43732</td>\n",
       "      <td>2.42786</td>\n",
       "      <td>2.42571</td>\n",
       "      <td>2.43274</td>\n",
       "    </tr>\n",
       "    <tr>\n",
       "      <td>202001</td>\n",
       "      <td>2020/01/31</td>\n",
       "      <td>2.06036</td>\n",
       "      <td>2.25446</td>\n",
       "      <td>2.23702</td>\n",
       "      <td>2.23327</td>\n",
       "      <td>2.3025</td>\n",
       "      <td>2.35232</td>\n",
       "      <td>2.35643</td>\n",
       "      <td>2.39232</td>\n",
       "    </tr>\n",
       "  </tbody>\n",
       "</table>\n",
       "<p>215 rows × 9 columns</p>\n",
       "</div>"
      ],
      "text/plain": [
       "              date HIBOR:隔夜 HIBOR:1周 HIBOR:2周 HIBOR:1个月 HIBOR:2个月 HIBOR:3个月  \\\n",
       "ym                                                                            \n",
       "200203  2002/03/28      NaN      NaN      NaN     2.125   2.18527   2.27009   \n",
       "200204  2002/04/30      NaN      NaN      NaN   1.89063   1.91741   1.95982   \n",
       "200205  2002/05/31      NaN      NaN      NaN   1.73214   1.79688   1.85714   \n",
       "200206  2002/06/28      NaN      NaN      NaN   1.78571   1.80357   1.82813   \n",
       "200207  2002/07/31      NaN      NaN      NaN   1.74777   1.75893   1.78571   \n",
       "...            ...      ...      ...      ...       ...       ...       ...   \n",
       "201909  2019/09/30  3.03929  2.22714  1.79107   1.88357   2.18214   2.26286   \n",
       "201910  2019/10/31  2.37107  1.80964  1.77679   1.77786   2.03107   2.16643   \n",
       "201911  2019/11/29   2.2225  2.17036  2.18804   2.18613   2.35571     2.355   \n",
       "201912  2019/12/31  4.56226  3.12929  2.90607   2.66613   2.43732   2.42786   \n",
       "202001  2020/01/31  2.06036  2.25446  2.23702   2.23327    2.3025   2.35232   \n",
       "\n",
       "       HIBOR:6个月 HIBOR:12个月  \n",
       "ym                           \n",
       "200203    2.5625    3.27009  \n",
       "200204   2.16071       2.75  \n",
       "200205   2.06696     2.6808  \n",
       "200206    1.9442    2.33036  \n",
       "200207   1.82589    2.11161  \n",
       "...          ...        ...  \n",
       "201909   2.32893      2.355  \n",
       "201910   2.21786    2.28714  \n",
       "201911   2.34911    2.37429  \n",
       "201912   2.42571    2.43274  \n",
       "202001   2.35643    2.39232  \n",
       "\n",
       "[215 rows x 9 columns]"
      ]
     },
     "execution_count": 24,
     "metadata": {},
     "output_type": "execute_result"
    }
   ],
   "source": [
    "hibor = pd.read_excel('香港同业拆借利率HIBOR.xlsx').drop([0,1,4444,4445])\n",
    "hibor.rename(columns = {'指标名称':'date'},inplace = True)\n",
    "hibor['ym'] = hibor['date'].map(lambda x: 100*x.year + x.month)\n",
    "hibor.drop_duplicates('ym','last',inplace = True)\n",
    "hibor = hibor.set_index('ym')\n",
    "hibor['date'] = hibor['date'].dt.strftime('%Y/%m/%d')\n",
    "hibor = hibor.drop([202002,202003])\n",
    "hibor"
   ]
  },
  {
   "cell_type": "code",
   "execution_count": 25,
   "metadata": {},
   "outputs": [
    {
     "data": {
      "text/plain": [
       "['HiborON',\n",
       " 'Hibor1W',\n",
       " 'Hibor2W',\n",
       " 'Hibor1M',\n",
       " 'Hibor2M',\n",
       " 'Hibor3M',\n",
       " 'Hibor6M',\n",
       " 'Hibor12M']"
      ]
     },
     "execution_count": 25,
     "metadata": {},
     "output_type": "execute_result"
    }
   ],
   "source": [
    "s_hibor = list('Hibor' + i for i in ['ON','1W','2W','1M','2M','3M','6M','12M'])\n",
    "s_hibor"
   ]
  },
  {
   "cell_type": "code",
   "execution_count": 26,
   "metadata": {},
   "outputs": [
    {
     "data": {
      "text/plain": [
       "ym\n",
       "200203      0.02125\n",
       "200204    0.0189063\n",
       "200205    0.0173214\n",
       "200206    0.0178571\n",
       "200207    0.0174777\n",
       "            ...    \n",
       "201909    0.0188357\n",
       "201910    0.0177786\n",
       "201911    0.0218613\n",
       "201912    0.0266613\n",
       "202001    0.0223327\n",
       "Name: Hibor1M, Length: 215, dtype: object"
      ]
     },
     "execution_count": 26,
     "metadata": {},
     "output_type": "execute_result"
    }
   ],
   "source": [
    "hibor.columns = ['date'] + s_hibor\n",
    "hibor\n",
    "hk = hibor.loc[:,'Hibor1M'] / 100\n",
    "hk"
   ]
  },
  {
   "cell_type": "markdown",
   "metadata": {},
   "source": [
    "### AU"
   ]
  },
  {
   "cell_type": "code",
   "execution_count": 27,
   "metadata": {},
   "outputs": [
    {
     "data": {
      "text/plain": [
       "ym\n",
       "197604         NaN\n",
       "197605         NaN\n",
       "197606         NaN\n",
       "197607         NaN\n",
       "197608         NaN\n",
       "            ...   \n",
       "201909      0.0101\n",
       "201910     0.00932\n",
       "201911    0.008241\n",
       "201912      0.0088\n",
       "202001       0.008\n",
       "Name: AUS1M, Length: 526, dtype: object"
      ]
     },
     "execution_count": 27,
     "metadata": {},
     "output_type": "execute_result"
    }
   ],
   "source": [
    "ausrate = pd.read_excel('澳大利亚利率(日).xlsx').drop([0,1,11111,11112])\n",
    "ausrate.rename(columns = {'指标名称':'date'},inplace = True)\n",
    "ausrate['ym'] = ausrate['date'].map(lambda x: 100*x.year + x.month)\n",
    "ausrate.drop_duplicates('ym','last',inplace = True)\n",
    "ausrate = ausrate.set_index('ym')\n",
    "ausrate['date'] = ausrate['date'].dt.strftime('%Y/%m/%d')\n",
    "# ausrate = ausrate.set_index('date')\n",
    "# ausrate = ausrate / 100\n",
    "ausrate = ausrate.drop([202002]).iloc[:,[3,4,5]]\n",
    "ausrate.columns = ['AUS1M','AUS3M','AUS6M']\n",
    "ausrate\n",
    "au = ausrate.loc[:,'AUS1M'] / 100\n",
    "au"
   ]
  },
  {
   "cell_type": "markdown",
   "metadata": {},
   "source": [
    "### NZ"
   ]
  },
  {
   "cell_type": "code",
   "execution_count": 28,
   "metadata": {},
   "outputs": [
    {
     "data": {
      "text/html": [
       "<div>\n",
       "<style scoped>\n",
       "    .dataframe tbody tr th:only-of-type {\n",
       "        vertical-align: middle;\n",
       "    }\n",
       "\n",
       "    .dataframe tbody tr th {\n",
       "        vertical-align: top;\n",
       "    }\n",
       "\n",
       "    .dataframe thead th {\n",
       "        text-align: right;\n",
       "    }\n",
       "</style>\n",
       "<table border=\"1\" class=\"dataframe\">\n",
       "  <thead>\n",
       "    <tr style=\"text-align: right;\">\n",
       "      <th></th>\n",
       "      <th>Unnamed: 0</th>\n",
       "      <th>Cash rate</th>\n",
       "      <th>Cash rate.1</th>\n",
       "      <th>Bank bill yields</th>\n",
       "      <th>Bank bill yields.1</th>\n",
       "      <th>Bank bill yields.2</th>\n",
       "      <th>Secondary market government bond yields</th>\n",
       "      <th>Secondary market government bond yields.1</th>\n",
       "      <th>Secondary market government bond yields.2</th>\n",
       "      <th>Secondary market government bond yields.3</th>\n",
       "      <th>Inflation indexed bond</th>\n",
       "      <th>Inflation indexed bond.1</th>\n",
       "      <th>Inflation indexed bond.2</th>\n",
       "      <th>Inflation indexed bond.3</th>\n",
       "    </tr>\n",
       "  </thead>\n",
       "  <tbody>\n",
       "    <tr>\n",
       "      <td>4</td>\n",
       "      <td>2018-01-03 00:00:00</td>\n",
       "      <td>1.75</td>\n",
       "      <td>1.74</td>\n",
       "      <td>1.79</td>\n",
       "      <td>1.84</td>\n",
       "      <td>1.89</td>\n",
       "      <td>1.79</td>\n",
       "      <td>1.91</td>\n",
       "      <td>2.28</td>\n",
       "      <td>2.77</td>\n",
       "      <td>1.29</td>\n",
       "      <td>1.53</td>\n",
       "      <td>1.76</td>\n",
       "      <td>2.03</td>\n",
       "    </tr>\n",
       "    <tr>\n",
       "      <td>5</td>\n",
       "      <td>2018-01-04 00:00:00</td>\n",
       "      <td>1.75</td>\n",
       "      <td>1.51</td>\n",
       "      <td>1.79</td>\n",
       "      <td>1.83</td>\n",
       "      <td>1.88</td>\n",
       "      <td>1.79</td>\n",
       "      <td>1.92</td>\n",
       "      <td>2.32</td>\n",
       "      <td>2.77</td>\n",
       "      <td>1.31</td>\n",
       "      <td>1.56</td>\n",
       "      <td>1.79</td>\n",
       "      <td>2.05</td>\n",
       "    </tr>\n",
       "    <tr>\n",
       "      <td>6</td>\n",
       "      <td>2018-01-05 00:00:00</td>\n",
       "      <td>1.75</td>\n",
       "      <td>1.5</td>\n",
       "      <td>1.79</td>\n",
       "      <td>1.83</td>\n",
       "      <td>1.87</td>\n",
       "      <td>1.78</td>\n",
       "      <td>1.92</td>\n",
       "      <td>2.32</td>\n",
       "      <td>2.76</td>\n",
       "      <td>1.31</td>\n",
       "      <td>1.56</td>\n",
       "      <td>1.79</td>\n",
       "      <td>2.05</td>\n",
       "    </tr>\n",
       "    <tr>\n",
       "      <td>7</td>\n",
       "      <td>2018-01-08 00:00:00</td>\n",
       "      <td>1.75</td>\n",
       "      <td>1.59</td>\n",
       "      <td>1.79</td>\n",
       "      <td>1.83</td>\n",
       "      <td>1.88</td>\n",
       "      <td>1.78</td>\n",
       "      <td>1.93</td>\n",
       "      <td>2.34</td>\n",
       "      <td>2.78</td>\n",
       "      <td>1.34</td>\n",
       "      <td>1.58</td>\n",
       "      <td>1.81</td>\n",
       "      <td>2.08</td>\n",
       "    </tr>\n",
       "    <tr>\n",
       "      <td>8</td>\n",
       "      <td>2018-01-09 00:00:00</td>\n",
       "      <td>1.75</td>\n",
       "      <td>1.63</td>\n",
       "      <td>1.79</td>\n",
       "      <td>1.83</td>\n",
       "      <td>1.87</td>\n",
       "      <td>1.78</td>\n",
       "      <td>1.96</td>\n",
       "      <td>2.39</td>\n",
       "      <td>2.81</td>\n",
       "      <td>1.35</td>\n",
       "      <td>1.6</td>\n",
       "      <td>1.83</td>\n",
       "      <td>2.08</td>\n",
       "    </tr>\n",
       "    <tr>\n",
       "      <td>...</td>\n",
       "      <td>...</td>\n",
       "      <td>...</td>\n",
       "      <td>...</td>\n",
       "      <td>...</td>\n",
       "      <td>...</td>\n",
       "      <td>...</td>\n",
       "      <td>...</td>\n",
       "      <td>...</td>\n",
       "      <td>...</td>\n",
       "      <td>...</td>\n",
       "      <td>...</td>\n",
       "      <td>...</td>\n",
       "      <td>...</td>\n",
       "      <td>...</td>\n",
       "    </tr>\n",
       "    <tr>\n",
       "      <td>544</td>\n",
       "      <td>2020-02-27 00:00:00</td>\n",
       "      <td>1</td>\n",
       "      <td>1</td>\n",
       "      <td>1.08</td>\n",
       "      <td>1.08</td>\n",
       "      <td>1.08</td>\n",
       "      <td>0.88</td>\n",
       "      <td>NaN</td>\n",
       "      <td>0.99</td>\n",
       "      <td>1.17</td>\n",
       "      <td>-0.13</td>\n",
       "      <td>0.18</td>\n",
       "      <td>0.39</td>\n",
       "      <td>0.55</td>\n",
       "    </tr>\n",
       "    <tr>\n",
       "      <td>545</td>\n",
       "      <td>2020-02-28 00:00:00</td>\n",
       "      <td>1</td>\n",
       "      <td>0.89</td>\n",
       "      <td>1.08</td>\n",
       "      <td>1.07</td>\n",
       "      <td>1.06</td>\n",
       "      <td>0.83</td>\n",
       "      <td>NaN</td>\n",
       "      <td>0.89</td>\n",
       "      <td>1.07</td>\n",
       "      <td>-0.16</td>\n",
       "      <td>0.14</td>\n",
       "      <td>0.36</td>\n",
       "      <td>0.51</td>\n",
       "    </tr>\n",
       "    <tr>\n",
       "      <td>546</td>\n",
       "      <td>2020-03-02 00:00:00</td>\n",
       "      <td>1</td>\n",
       "      <td>0.97</td>\n",
       "      <td>1.01</td>\n",
       "      <td>0.93</td>\n",
       "      <td>0.87</td>\n",
       "      <td>0.6</td>\n",
       "      <td>NaN</td>\n",
       "      <td>0.7</td>\n",
       "      <td>0.93</td>\n",
       "      <td>-0.22</td>\n",
       "      <td>0.08</td>\n",
       "      <td>0.29</td>\n",
       "      <td>0.45</td>\n",
       "    </tr>\n",
       "    <tr>\n",
       "      <td>547</td>\n",
       "      <td>2020-03-03 00:00:00</td>\n",
       "      <td>1</td>\n",
       "      <td>0.92</td>\n",
       "      <td>1.02</td>\n",
       "      <td>0.96</td>\n",
       "      <td>0.9</td>\n",
       "      <td>0.6</td>\n",
       "      <td>NaN</td>\n",
       "      <td>0.83</td>\n",
       "      <td>1.06</td>\n",
       "      <td>-0.21</td>\n",
       "      <td>0.09</td>\n",
       "      <td>0.3</td>\n",
       "      <td>0.46</td>\n",
       "    </tr>\n",
       "    <tr>\n",
       "      <td>548</td>\n",
       "      <td>2020-03-04 00:00:00</td>\n",
       "      <td>1</td>\n",
       "      <td>NaN</td>\n",
       "      <td>1.01</td>\n",
       "      <td>0.89</td>\n",
       "      <td>0.77</td>\n",
       "      <td>0.55</td>\n",
       "      <td>NaN</td>\n",
       "      <td>0.72</td>\n",
       "      <td>0.95</td>\n",
       "      <td>-0.23</td>\n",
       "      <td>0.07</td>\n",
       "      <td>0.28</td>\n",
       "      <td>0.44</td>\n",
       "    </tr>\n",
       "  </tbody>\n",
       "</table>\n",
       "<p>545 rows × 14 columns</p>\n",
       "</div>"
      ],
      "text/plain": [
       "              Unnamed: 0 Cash rate Cash rate.1 Bank bill yields  \\\n",
       "4    2018-01-03 00:00:00      1.75        1.74             1.79   \n",
       "5    2018-01-04 00:00:00      1.75        1.51             1.79   \n",
       "6    2018-01-05 00:00:00      1.75         1.5             1.79   \n",
       "7    2018-01-08 00:00:00      1.75        1.59             1.79   \n",
       "8    2018-01-09 00:00:00      1.75        1.63             1.79   \n",
       "..                   ...       ...         ...              ...   \n",
       "544  2020-02-27 00:00:00         1           1             1.08   \n",
       "545  2020-02-28 00:00:00         1        0.89             1.08   \n",
       "546  2020-03-02 00:00:00         1        0.97             1.01   \n",
       "547  2020-03-03 00:00:00         1        0.92             1.02   \n",
       "548  2020-03-04 00:00:00         1         NaN             1.01   \n",
       "\n",
       "    Bank bill yields.1 Bank bill yields.2  \\\n",
       "4                 1.84               1.89   \n",
       "5                 1.83               1.88   \n",
       "6                 1.83               1.87   \n",
       "7                 1.83               1.88   \n",
       "8                 1.83               1.87   \n",
       "..                 ...                ...   \n",
       "544               1.08               1.08   \n",
       "545               1.07               1.06   \n",
       "546               0.93               0.87   \n",
       "547               0.96                0.9   \n",
       "548               0.89               0.77   \n",
       "\n",
       "    Secondary market government bond yields  \\\n",
       "4                                      1.79   \n",
       "5                                      1.79   \n",
       "6                                      1.78   \n",
       "7                                      1.78   \n",
       "8                                      1.78   \n",
       "..                                      ...   \n",
       "544                                    0.88   \n",
       "545                                    0.83   \n",
       "546                                     0.6   \n",
       "547                                     0.6   \n",
       "548                                    0.55   \n",
       "\n",
       "    Secondary market government bond yields.1  \\\n",
       "4                                        1.91   \n",
       "5                                        1.92   \n",
       "6                                        1.92   \n",
       "7                                        1.93   \n",
       "8                                        1.96   \n",
       "..                                        ...   \n",
       "544                                       NaN   \n",
       "545                                       NaN   \n",
       "546                                       NaN   \n",
       "547                                       NaN   \n",
       "548                                       NaN   \n",
       "\n",
       "    Secondary market government bond yields.2  \\\n",
       "4                                        2.28   \n",
       "5                                        2.32   \n",
       "6                                        2.32   \n",
       "7                                        2.34   \n",
       "8                                        2.39   \n",
       "..                                        ...   \n",
       "544                                      0.99   \n",
       "545                                      0.89   \n",
       "546                                       0.7   \n",
       "547                                      0.83   \n",
       "548                                      0.72   \n",
       "\n",
       "    Secondary market government bond yields.3 Inflation indexed bond  \\\n",
       "4                                        2.77                   1.29   \n",
       "5                                        2.77                   1.31   \n",
       "6                                        2.76                   1.31   \n",
       "7                                        2.78                   1.34   \n",
       "8                                        2.81                   1.35   \n",
       "..                                        ...                    ...   \n",
       "544                                      1.17                  -0.13   \n",
       "545                                      1.07                  -0.16   \n",
       "546                                      0.93                  -0.22   \n",
       "547                                      1.06                  -0.21   \n",
       "548                                      0.95                  -0.23   \n",
       "\n",
       "    Inflation indexed bond.1 Inflation indexed bond.2 Inflation indexed bond.3  \n",
       "4                       1.53                     1.76                     2.03  \n",
       "5                       1.56                     1.79                     2.05  \n",
       "6                       1.56                     1.79                     2.05  \n",
       "7                       1.58                     1.81                     2.08  \n",
       "8                        1.6                     1.83                     2.08  \n",
       "..                       ...                      ...                      ...  \n",
       "544                     0.18                     0.39                     0.55  \n",
       "545                     0.14                     0.36                     0.51  \n",
       "546                     0.08                     0.29                     0.45  \n",
       "547                     0.09                      0.3                     0.46  \n",
       "548                     0.07                     0.28                     0.44  \n",
       "\n",
       "[545 rows x 14 columns]"
      ]
     },
     "execution_count": 28,
     "metadata": {},
     "output_type": "execute_result"
    }
   ],
   "source": [
    "newone = pd.read_excel('hb2-daily-1985-2017.xlsx')\n",
    "newone\n",
    "newtwo = pd.read_excel('hb2-daily.xlsx').drop([0,1,2,3])\n",
    "newtwo"
   ]
  },
  {
   "cell_type": "code",
   "execution_count": 29,
   "metadata": {},
   "outputs": [
    {
     "data": {
      "text/plain": [
       "ym\n",
       "198501     0.173\n",
       "198502       0.3\n",
       "198503     0.225\n",
       "198504     0.218\n",
       "198505     0.244\n",
       "           ...  \n",
       "201909    0.0119\n",
       "201910    0.0117\n",
       "201911    0.0117\n",
       "201912    0.0119\n",
       "202001    0.0121\n",
       "Name: NZ1M, Length: 421, dtype: object"
      ]
     },
     "execution_count": 29,
     "metadata": {},
     "output_type": "execute_result"
    }
   ],
   "source": [
    "nzrate = newone.append(newtwo).iloc[:,[0,3,4,5]]\n",
    "nzrate.columns = ['date','NZ1M','NZ2M','NZ3M']\n",
    "nzrate = nzrate.drop([0,1,2,3])\n",
    "# nzrate['date'] = nzrate['date'].dt.strftime('%Y/%m/%d')\n",
    "# nzrate = nzrate.set_index('date') / 100\n",
    "nzrate['ym'] = nzrate['date'].map(lambda x: 100*x.year + x.month)\n",
    "nzrate.drop_duplicates('ym','last',inplace = True)\n",
    "nzrate = nzrate.set_index('ym').drop([202002,202003])\n",
    "nzrate\n",
    "nz = nzrate.loc[:,'NZ1M'] / 100\n",
    "nz"
   ]
  },
  {
   "cell_type": "markdown",
   "metadata": {},
   "source": [
    "### SG"
   ]
  },
  {
   "cell_type": "code",
   "execution_count": 30,
   "metadata": {},
   "outputs": [
    {
     "data": {
      "text/plain": [
       "ym\n",
       "201401     0.003552\n",
       "201402    0.0035434\n",
       "201403    0.0036034\n",
       "201404    0.0035622\n",
       "201405    0.0035784\n",
       "            ...    \n",
       "201909    0.0187209\n",
       "201910    0.0178163\n",
       "201911    0.0174658\n",
       "201912       0.0175\n",
       "202001    0.0168625\n",
       "Name: Sibor1M, Length: 73, dtype: object"
      ]
     },
     "execution_count": 30,
     "metadata": {},
     "output_type": "execute_result"
    }
   ],
   "source": [
    "sibor = pd.read_excel('新加坡SIBOR.xlsx')\n",
    "sibor = sibor.drop([0,1,3676,3677])\n",
    "sibor.columns = ['date'] + ['Sibor' + j for j in ['ON','1M','3M','6M','12M']]\n",
    "sg = sibor.loc[:,['date','Sibor1M']]\n",
    "sg = sg.dropna()\n",
    "sg['ym'] = sg['date'].map(lambda x: 100*x.year + x.month)\n",
    "sg.drop_duplicates('ym','last',inplace = True)\n",
    "sg = sg.set_index('ym').drop([202002])\n",
    "# sibor['date'] = sibor['date'].dt.strftime('%Y/%m/%d')\n",
    "# sibor = sibor.set_index('date') / 100\n",
    "# sibor\n",
    "# sg = sibor.loc[:,'Sibor1M'] / 100\n",
    "sg = sg.loc[:,'Sibor1M'] / 100\n",
    "sg"
   ]
  },
  {
   "cell_type": "markdown",
   "metadata": {},
   "source": [
    "### CA"
   ]
  },
  {
   "cell_type": "code",
   "execution_count": 31,
   "metadata": {},
   "outputs": [
    {
     "data": {
      "text/plain": [
       "ym\n",
       "199901       0.0503\n",
       "199902       0.0505\n",
       "199903       0.0481\n",
       "199904       0.0477\n",
       "199905       0.0465\n",
       "            ...    \n",
       "201909    0.0182253\n",
       "201910    0.0183244\n",
       "201911    0.0184704\n",
       "201912    0.0199451\n",
       "202001     0.018414\n",
       "Name: CA1M, Length: 253, dtype: object"
      ]
     },
     "execution_count": 31,
     "metadata": {},
     "output_type": "execute_result"
    }
   ],
   "source": [
    "cadrate = pd.read_excel('加拿大利率(日).xlsx')\n",
    "cadrate = cadrate.drop([0,1,5512,5513])\n",
    "cadrate.rename(columns = {'指标名称':'date','加拿大:银行承兑汇票利率:1个月':'CA1M'},inplace = True)\n",
    "ca = cadrate.loc[:,['date','CA1M']]\n",
    "ca = ca.dropna()\n",
    "ca['ym'] = ca['date'].map(lambda x: 100*x.year + x.month)\n",
    "ca.drop_duplicates('ym','last',inplace = True)\n",
    "ca = ca.set_index('ym').drop([202002])\n",
    "# cadrate['date'] = cadrate['date'].dt.strftime('%Y/%m/%d')\n",
    "# cadrate['date'] = pd.to_datetime(cadrate.loc[:,'date'],format = '%Y/%m/%d').dt.strftime('%Y/%m/%d')\n",
    "# cadrate = cadrate.set_index('date').iloc[:,range(2,7)] / 100\n",
    "# cadrate.columns = ['CADtreabillrt' + i for i in ['1M','2M','3M','6M','12M']]\n",
    "ca = ca.loc[:,'CA1M'] / 100\n",
    "ca"
   ]
  },
  {
   "cell_type": "markdown",
   "metadata": {},
   "source": [
    "### MY"
   ]
  },
  {
   "cell_type": "code",
   "execution_count": 32,
   "metadata": {},
   "outputs": [
    {
     "data": {
      "text/plain": [
       "ym\n",
       "200901    0.0257\n",
       "200902    0.0209\n",
       "200903    0.0209\n",
       "200904    0.0209\n",
       "200905    0.0209\n",
       "           ...  \n",
       "201909    0.0319\n",
       "201910    0.0318\n",
       "201911    0.0317\n",
       "201912    0.0317\n",
       "202001    0.0294\n",
       "Name: MY1M, Length: 133, dtype: object"
      ]
     },
     "execution_count": 32,
     "metadata": {},
     "output_type": "execute_result"
    }
   ],
   "source": [
    "myrate = pd.read_excel('马来西亚吉隆坡银行间同业拆借利率.xlsx')\n",
    "myrate = myrate.drop([0,1,3704,3705])\n",
    "myrate.columns = ['date'] + ['MY' + i for i in ['1M','2M','3M','6M','9M','12M']]\n",
    "myrate['ym'] = myrate['date'].map(lambda x: 100*x.year + x.month)\n",
    "myrate.drop_duplicates('ym','last',inplace = True)\n",
    "myrate = myrate.set_index('ym').drop([202002,202003])\n",
    "# myrate['date'] = myrate['date'].dt.strftime('%Y/%m/%d')\n",
    "# myrate = myrate.set_index('date') / 100\n",
    "# myrate\n",
    "my = myrate.loc[:,'MY1M'] / 100\n",
    "my"
   ]
  },
  {
   "cell_type": "markdown",
   "metadata": {},
   "source": [
    "### TH"
   ]
  },
  {
   "cell_type": "code",
   "execution_count": 33,
   "metadata": {},
   "outputs": [
    {
     "data": {
      "text/plain": [
       "ym\n",
       "200501    0.0232922\n",
       "200502    0.0238313\n",
       "200503    0.0244828\n",
       "200504    0.0246563\n",
       "200505    0.0248719\n",
       "            ...    \n",
       "201909       0.0155\n",
       "201910       0.0155\n",
       "201911        0.013\n",
       "201912    0.0129866\n",
       "202001    0.0129707\n",
       "Name: Bibor1M, Length: 181, dtype: object"
      ]
     },
     "execution_count": 33,
     "metadata": {},
     "output_type": "execute_result"
    }
   ],
   "source": [
    "bibor = pd.read_excel('泰国BIBOR(日).xlsx')\n",
    "bibor = bibor.drop([0,1,3702,3703])\n",
    "bibor.rename(columns = {'指标名称':'date','泰国:BIBOR:平均利率:1月':'Bibor1M'},inplace = True)\n",
    "bibor['ym'] = bibor['date'].map(lambda x: 100*x.year + x.month)\n",
    "bibor.drop_duplicates('ym','last',inplace = True)\n",
    "bibor = bibor.set_index('ym').drop([202002])\n",
    "# bibor\n",
    "th = bibor.loc[:,'Bibor1M'] / 100\n",
    "th"
   ]
  },
  {
   "cell_type": "markdown",
   "metadata": {},
   "source": [
    "### SH"
   ]
  },
  {
   "cell_type": "code",
   "execution_count": 11,
   "metadata": {},
   "outputs": [
    {
     "data": {
      "text/plain": [
       "ym\n",
       "200610    0.026167\n",
       "200611    0.030847\n",
       "200612    0.025833\n",
       "200701    0.025196\n",
       "200702    0.025326\n",
       "            ...   \n",
       "201909     0.02762\n",
       "201910     0.02775\n",
       "201911     0.02783\n",
       "201912    0.029785\n",
       "202001     0.02822\n",
       "Name: Shibor1M, Length: 160, dtype: object"
      ]
     },
     "execution_count": 11,
     "metadata": {},
     "output_type": "execute_result"
    }
   ],
   "source": [
    "shibor = pd.read_excel('SHIBOR(日).xlsx')\n",
    "shibor = shibor.drop([0,1])\n",
    "shibor.rename(columns = {'指标名称':'date'},inplace = True)\n",
    "# shibor['date'] = shibor['date'].dt.strftime('%Y/%m/%d')\n",
    "shibor['ym'] = shibor['date'].map(lambda x: 100*x.year + x.month)\n",
    "shibor.drop_duplicates('ym','last',inplace = True)\n",
    "shibor = shibor.set_index('ym').drop([202002])\n",
    "shibor.rename(columns = {'SHIBOR:1个月':'Shibor1M'},inplace = True)\n",
    "# shibor\n",
    "# ibcn = shibor.iloc[:,5]\n",
    "# ibcn = pd.DataFrame(ibcn)\n",
    "# ibcn.rename(columns = {'SHIBOR:3个月':'shibor3M'},inplace = True)\n",
    "# ibcn\n",
    "sh = shibor.loc[:,'Shibor1M'] / 100\n",
    "sh"
   ]
  },
  {
   "cell_type": "markdown",
   "metadata": {},
   "source": [
    "### cnhhibor"
   ]
  },
  {
   "cell_type": "code",
   "execution_count": 18,
   "metadata": {},
   "outputs": [],
   "source": [
    "cnhhibor = pd.read_excel('CNH Hibor 1M.xlsx')\n",
    "cnhhibor.drop_duplicates('ym','last',inplace = True)\n",
    "cnhhibor = cnhhibor.set_index('ym')"
   ]
  },
  {
   "cell_type": "code",
   "execution_count": 19,
   "metadata": {},
   "outputs": [
    {
     "data": {
      "text/plain": [
       "ym\n",
       "201305    0.027300\n",
       "201306    0.040095\n",
       "201307    0.026376\n",
       "201308    0.024838\n",
       "201309    0.022400\n",
       "            ...   \n",
       "201912    0.030730\n",
       "202001    0.034085\n",
       "202002    0.028210\n",
       "202003    0.020763\n",
       "202004    0.018150\n",
       "Name: cnhhibor1M, Length: 84, dtype: float64"
      ]
     },
     "execution_count": 19,
     "metadata": {},
     "output_type": "execute_result"
    }
   ],
   "source": [
    "cnhhibor.rename(columns = {'价格':'cnhhibor1M'},inplace = True)\n",
    "cnhhibor = cnhhibor.iloc[:,3] / 100\n",
    "cnhhibor"
   ]
  },
  {
   "cell_type": "markdown",
   "metadata": {},
   "source": [
    "## Spot exchange rate(w/o bid ask)"
   ]
  },
  {
   "cell_type": "code",
   "execution_count": 37,
   "metadata": {},
   "outputs": [
    {
     "data": {
      "text/html": [
       "<div>\n",
       "<style scoped>\n",
       "    .dataframe tbody tr th:only-of-type {\n",
       "        vertical-align: middle;\n",
       "    }\n",
       "\n",
       "    .dataframe tbody tr th {\n",
       "        vertical-align: top;\n",
       "    }\n",
       "\n",
       "    .dataframe thead th {\n",
       "        text-align: right;\n",
       "    }\n",
       "</style>\n",
       "<table border=\"1\" class=\"dataframe\">\n",
       "  <thead>\n",
       "    <tr style=\"text-align: right;\">\n",
       "      <th></th>\n",
       "      <th>指标名称</th>\n",
       "      <th>即期汇率:美元兑人民币</th>\n",
       "      <th>即期汇率:欧元兑人民币</th>\n",
       "      <th>即期汇率:港元兑人民币</th>\n",
       "      <th>即期汇率:100日元兑人民币</th>\n",
       "      <th>即期汇率:英镑兑人民币</th>\n",
       "      <th>即期汇率:澳元兑人民币</th>\n",
       "      <th>即期汇率:加元兑人民币</th>\n",
       "      <th>即期汇率:新西兰元兑人民币</th>\n",
       "      <th>即期汇率:新加坡元兑人民币</th>\n",
       "      <th>...</th>\n",
       "      <th>即期汇率:人民币兑波兰兹罗提</th>\n",
       "      <th>即期汇率:人民币兑丹麦克朗</th>\n",
       "      <th>即期汇率:人民币兑迪拉姆</th>\n",
       "      <th>即期汇率:人民币兑墨西哥比索</th>\n",
       "      <th>即期汇率:人民币兑挪威克朗</th>\n",
       "      <th>即期汇率:人民币兑瑞典克朗</th>\n",
       "      <th>即期汇率:人民币兑沙特里亚尔</th>\n",
       "      <th>即期汇率:人民币兑土耳其里拉</th>\n",
       "      <th>即期汇率:人民币兑匈牙利福林</th>\n",
       "      <th>即期汇率:人民币兑泰国铢</th>\n",
       "    </tr>\n",
       "  </thead>\n",
       "  <tbody>\n",
       "    <tr>\n",
       "      <td>1</td>\n",
       "      <td>1981-01-02 00:00:00</td>\n",
       "      <td>1.5341</td>\n",
       "      <td>NaN</td>\n",
       "      <td>NaN</td>\n",
       "      <td>NaN</td>\n",
       "      <td>NaN</td>\n",
       "      <td>NaN</td>\n",
       "      <td>NaN</td>\n",
       "      <td>NaN</td>\n",
       "      <td>NaN</td>\n",
       "      <td>...</td>\n",
       "      <td>NaN</td>\n",
       "      <td>NaN</td>\n",
       "      <td>NaN</td>\n",
       "      <td>NaN</td>\n",
       "      <td>NaN</td>\n",
       "      <td>NaN</td>\n",
       "      <td>NaN</td>\n",
       "      <td>NaN</td>\n",
       "      <td>NaN</td>\n",
       "      <td>NaN</td>\n",
       "    </tr>\n",
       "    <tr>\n",
       "      <td>2</td>\n",
       "      <td>1981-01-05 00:00:00</td>\n",
       "      <td>1.5418</td>\n",
       "      <td>NaN</td>\n",
       "      <td>NaN</td>\n",
       "      <td>NaN</td>\n",
       "      <td>NaN</td>\n",
       "      <td>NaN</td>\n",
       "      <td>NaN</td>\n",
       "      <td>NaN</td>\n",
       "      <td>NaN</td>\n",
       "      <td>...</td>\n",
       "      <td>NaN</td>\n",
       "      <td>NaN</td>\n",
       "      <td>NaN</td>\n",
       "      <td>NaN</td>\n",
       "      <td>NaN</td>\n",
       "      <td>NaN</td>\n",
       "      <td>NaN</td>\n",
       "      <td>NaN</td>\n",
       "      <td>NaN</td>\n",
       "      <td>NaN</td>\n",
       "    </tr>\n",
       "    <tr>\n",
       "      <td>3</td>\n",
       "      <td>1981-01-06 00:00:00</td>\n",
       "      <td>1.5264</td>\n",
       "      <td>NaN</td>\n",
       "      <td>NaN</td>\n",
       "      <td>NaN</td>\n",
       "      <td>NaN</td>\n",
       "      <td>NaN</td>\n",
       "      <td>NaN</td>\n",
       "      <td>NaN</td>\n",
       "      <td>NaN</td>\n",
       "      <td>...</td>\n",
       "      <td>NaN</td>\n",
       "      <td>NaN</td>\n",
       "      <td>NaN</td>\n",
       "      <td>NaN</td>\n",
       "      <td>NaN</td>\n",
       "      <td>NaN</td>\n",
       "      <td>NaN</td>\n",
       "      <td>NaN</td>\n",
       "      <td>NaN</td>\n",
       "      <td>NaN</td>\n",
       "    </tr>\n",
       "    <tr>\n",
       "      <td>4</td>\n",
       "      <td>1981-01-07 00:00:00</td>\n",
       "      <td>1.5264</td>\n",
       "      <td>NaN</td>\n",
       "      <td>NaN</td>\n",
       "      <td>NaN</td>\n",
       "      <td>NaN</td>\n",
       "      <td>NaN</td>\n",
       "      <td>NaN</td>\n",
       "      <td>NaN</td>\n",
       "      <td>NaN</td>\n",
       "      <td>...</td>\n",
       "      <td>NaN</td>\n",
       "      <td>NaN</td>\n",
       "      <td>NaN</td>\n",
       "      <td>NaN</td>\n",
       "      <td>NaN</td>\n",
       "      <td>NaN</td>\n",
       "      <td>NaN</td>\n",
       "      <td>NaN</td>\n",
       "      <td>NaN</td>\n",
       "      <td>NaN</td>\n",
       "    </tr>\n",
       "    <tr>\n",
       "      <td>5</td>\n",
       "      <td>1981-01-08 00:00:00</td>\n",
       "      <td>1.5264</td>\n",
       "      <td>NaN</td>\n",
       "      <td>NaN</td>\n",
       "      <td>NaN</td>\n",
       "      <td>NaN</td>\n",
       "      <td>NaN</td>\n",
       "      <td>NaN</td>\n",
       "      <td>NaN</td>\n",
       "      <td>NaN</td>\n",
       "      <td>...</td>\n",
       "      <td>NaN</td>\n",
       "      <td>NaN</td>\n",
       "      <td>NaN</td>\n",
       "      <td>NaN</td>\n",
       "      <td>NaN</td>\n",
       "      <td>NaN</td>\n",
       "      <td>NaN</td>\n",
       "      <td>NaN</td>\n",
       "      <td>NaN</td>\n",
       "      <td>NaN</td>\n",
       "    </tr>\n",
       "    <tr>\n",
       "      <td>...</td>\n",
       "      <td>...</td>\n",
       "      <td>...</td>\n",
       "      <td>...</td>\n",
       "      <td>...</td>\n",
       "      <td>...</td>\n",
       "      <td>...</td>\n",
       "      <td>...</td>\n",
       "      <td>...</td>\n",
       "      <td>...</td>\n",
       "      <td>...</td>\n",
       "      <td>...</td>\n",
       "      <td>...</td>\n",
       "      <td>...</td>\n",
       "      <td>...</td>\n",
       "      <td>...</td>\n",
       "      <td>...</td>\n",
       "      <td>...</td>\n",
       "      <td>...</td>\n",
       "      <td>...</td>\n",
       "      <td>...</td>\n",
       "      <td>...</td>\n",
       "    </tr>\n",
       "    <tr>\n",
       "      <td>10012</td>\n",
       "      <td>2020-02-17 00:00:00</td>\n",
       "      <td>6.9807</td>\n",
       "      <td>7.5668</td>\n",
       "      <td>0.8986</td>\n",
       "      <td>6.3545</td>\n",
       "      <td>9.1039</td>\n",
       "      <td>4.6974</td>\n",
       "      <td>5.2739</td>\n",
       "      <td>NaN</td>\n",
       "      <td>5.0227</td>\n",
       "      <td>...</td>\n",
       "      <td>0.56143</td>\n",
       "      <td>0.9876</td>\n",
       "      <td>0.52621</td>\n",
       "      <td>2.657</td>\n",
       "      <td>1.3244</td>\n",
       "      <td>1.3914</td>\n",
       "      <td>0.53736</td>\n",
       "      <td>0.86773</td>\n",
       "      <td>44.384</td>\n",
       "      <td>4.4684</td>\n",
       "    </tr>\n",
       "    <tr>\n",
       "      <td>10013</td>\n",
       "      <td>2020-02-18 00:00:00</td>\n",
       "      <td>7.0052</td>\n",
       "      <td>7.5853</td>\n",
       "      <td>0.90122</td>\n",
       "      <td>6.3801</td>\n",
       "      <td>9.0795</td>\n",
       "      <td>4.6796</td>\n",
       "      <td>5.2792</td>\n",
       "      <td>NaN</td>\n",
       "      <td>5.0245</td>\n",
       "      <td>...</td>\n",
       "      <td>0.56301</td>\n",
       "      <td>0.9874</td>\n",
       "      <td>0.52602</td>\n",
       "      <td>2.6579</td>\n",
       "      <td>1.3263</td>\n",
       "      <td>1.388</td>\n",
       "      <td>0.53716</td>\n",
       "      <td>0.86593</td>\n",
       "      <td>44.3468</td>\n",
       "      <td>4.4663</td>\n",
       "    </tr>\n",
       "    <tr>\n",
       "      <td>10014</td>\n",
       "      <td>2020-02-19 00:00:00</td>\n",
       "      <td>6.9941</td>\n",
       "      <td>7.5545</td>\n",
       "      <td>0.8999</td>\n",
       "      <td>6.3516</td>\n",
       "      <td>9.1038</td>\n",
       "      <td>4.6883</td>\n",
       "      <td>5.2878</td>\n",
       "      <td>4.4783</td>\n",
       "      <td>5.0312</td>\n",
       "      <td>...</td>\n",
       "      <td>0.56457</td>\n",
       "      <td>0.9883</td>\n",
       "      <td>0.52462</td>\n",
       "      <td>2.6552</td>\n",
       "      <td>1.3323</td>\n",
       "      <td>1.3972</td>\n",
       "      <td>0.53573</td>\n",
       "      <td>0.86619</td>\n",
       "      <td>44.4037</td>\n",
       "      <td>4.451</td>\n",
       "    </tr>\n",
       "    <tr>\n",
       "      <td>10015</td>\n",
       "      <td>2020-02-20 00:00:00</td>\n",
       "      <td>7.0153</td>\n",
       "      <td>7.5708</td>\n",
       "      <td>0.90221</td>\n",
       "      <td>6.2845</td>\n",
       "      <td>NaN</td>\n",
       "      <td>4.6555</td>\n",
       "      <td>5.3007</td>\n",
       "      <td>4.4613</td>\n",
       "      <td>5.0108</td>\n",
       "      <td>...</td>\n",
       "      <td>0.56387</td>\n",
       "      <td>0.9866</td>\n",
       "      <td>0.5245</td>\n",
       "      <td>2.65</td>\n",
       "      <td>1.3229</td>\n",
       "      <td>1.3963</td>\n",
       "      <td>0.53561</td>\n",
       "      <td>0.86874</td>\n",
       "      <td>44.5049</td>\n",
       "      <td>4.472</td>\n",
       "    </tr>\n",
       "    <tr>\n",
       "      <td>10016</td>\n",
       "      <td>2020-02-21 00:00:00</td>\n",
       "      <td>7.0386</td>\n",
       "      <td>7.6037</td>\n",
       "      <td>0.90356</td>\n",
       "      <td>6.3062</td>\n",
       "      <td>9.0659</td>\n",
       "      <td>4.6418</td>\n",
       "      <td>5.3085</td>\n",
       "      <td>4.4429</td>\n",
       "      <td>5.0215</td>\n",
       "      <td>...</td>\n",
       "      <td>0.56477</td>\n",
       "      <td>0.9859</td>\n",
       "      <td>0.52314</td>\n",
       "      <td>2.6841</td>\n",
       "      <td>1.3272</td>\n",
       "      <td>1.3965</td>\n",
       "      <td>0.53427</td>\n",
       "      <td>0.86921</td>\n",
       "      <td>44.651</td>\n",
       "      <td>4.502</td>\n",
       "    </tr>\n",
       "  </tbody>\n",
       "</table>\n",
       "<p>10016 rows × 25 columns</p>\n",
       "</div>"
      ],
      "text/plain": [
       "                      指标名称 即期汇率:美元兑人民币 即期汇率:欧元兑人民币 即期汇率:港元兑人民币 即期汇率:100日元兑人民币  \\\n",
       "1      1981-01-02 00:00:00      1.5341         NaN         NaN            NaN   \n",
       "2      1981-01-05 00:00:00      1.5418         NaN         NaN            NaN   \n",
       "3      1981-01-06 00:00:00      1.5264         NaN         NaN            NaN   \n",
       "4      1981-01-07 00:00:00      1.5264         NaN         NaN            NaN   \n",
       "5      1981-01-08 00:00:00      1.5264         NaN         NaN            NaN   \n",
       "...                    ...         ...         ...         ...            ...   \n",
       "10012  2020-02-17 00:00:00      6.9807      7.5668      0.8986         6.3545   \n",
       "10013  2020-02-18 00:00:00      7.0052      7.5853     0.90122         6.3801   \n",
       "10014  2020-02-19 00:00:00      6.9941      7.5545      0.8999         6.3516   \n",
       "10015  2020-02-20 00:00:00      7.0153      7.5708     0.90221         6.2845   \n",
       "10016  2020-02-21 00:00:00      7.0386      7.6037     0.90356         6.3062   \n",
       "\n",
       "      即期汇率:英镑兑人民币 即期汇率:澳元兑人民币 即期汇率:加元兑人民币 即期汇率:新西兰元兑人民币 即期汇率:新加坡元兑人民币  ...  \\\n",
       "1             NaN         NaN         NaN           NaN           NaN  ...   \n",
       "2             NaN         NaN         NaN           NaN           NaN  ...   \n",
       "3             NaN         NaN         NaN           NaN           NaN  ...   \n",
       "4             NaN         NaN         NaN           NaN           NaN  ...   \n",
       "5             NaN         NaN         NaN           NaN           NaN  ...   \n",
       "...           ...         ...         ...           ...           ...  ...   \n",
       "10012      9.1039      4.6974      5.2739           NaN        5.0227  ...   \n",
       "10013      9.0795      4.6796      5.2792           NaN        5.0245  ...   \n",
       "10014      9.1038      4.6883      5.2878        4.4783        5.0312  ...   \n",
       "10015         NaN      4.6555      5.3007        4.4613        5.0108  ...   \n",
       "10016      9.0659      4.6418      5.3085        4.4429        5.0215  ...   \n",
       "\n",
       "      即期汇率:人民币兑波兰兹罗提 即期汇率:人民币兑丹麦克朗 即期汇率:人民币兑迪拉姆 即期汇率:人民币兑墨西哥比索 即期汇率:人民币兑挪威克朗  \\\n",
       "1                NaN           NaN          NaN            NaN           NaN   \n",
       "2                NaN           NaN          NaN            NaN           NaN   \n",
       "3                NaN           NaN          NaN            NaN           NaN   \n",
       "4                NaN           NaN          NaN            NaN           NaN   \n",
       "5                NaN           NaN          NaN            NaN           NaN   \n",
       "...              ...           ...          ...            ...           ...   \n",
       "10012        0.56143        0.9876      0.52621          2.657        1.3244   \n",
       "10013        0.56301        0.9874      0.52602         2.6579        1.3263   \n",
       "10014        0.56457        0.9883      0.52462         2.6552        1.3323   \n",
       "10015        0.56387        0.9866       0.5245           2.65        1.3229   \n",
       "10016        0.56477        0.9859      0.52314         2.6841        1.3272   \n",
       "\n",
       "      即期汇率:人民币兑瑞典克朗 即期汇率:人民币兑沙特里亚尔 即期汇率:人民币兑土耳其里拉 即期汇率:人民币兑匈牙利福林 即期汇率:人民币兑泰国铢  \n",
       "1               NaN            NaN            NaN            NaN          NaN  \n",
       "2               NaN            NaN            NaN            NaN          NaN  \n",
       "3               NaN            NaN            NaN            NaN          NaN  \n",
       "4               NaN            NaN            NaN            NaN          NaN  \n",
       "5               NaN            NaN            NaN            NaN          NaN  \n",
       "...             ...            ...            ...            ...          ...  \n",
       "10012        1.3914        0.53736        0.86773         44.384       4.4684  \n",
       "10013         1.388        0.53716        0.86593        44.3468       4.4663  \n",
       "10014        1.3972        0.53573        0.86619        44.4037        4.451  \n",
       "10015        1.3963        0.53561        0.86874        44.5049        4.472  \n",
       "10016        1.3965        0.53427        0.86921         44.651        4.502  \n",
       "\n",
       "[10016 rows x 25 columns]"
      ]
     },
     "execution_count": 37,
     "metadata": {},
     "output_type": "execute_result"
    }
   ],
   "source": [
    "spot = pd.read_excel('人民币即期汇率(日).xlsx').drop([0,10017,10018])\n",
    "spot"
   ]
  },
  {
   "cell_type": "code",
   "execution_count": 38,
   "metadata": {},
   "outputs": [
    {
     "data": {
      "text/html": [
       "<div>\n",
       "<style scoped>\n",
       "    .dataframe tbody tr th:only-of-type {\n",
       "        vertical-align: middle;\n",
       "    }\n",
       "\n",
       "    .dataframe tbody tr th {\n",
       "        vertical-align: top;\n",
       "    }\n",
       "\n",
       "    .dataframe thead th {\n",
       "        text-align: right;\n",
       "    }\n",
       "</style>\n",
       "<table border=\"1\" class=\"dataframe\">\n",
       "  <thead>\n",
       "    <tr style=\"text-align: right;\">\n",
       "      <th></th>\n",
       "      <th>指标名称</th>\n",
       "      <th>即期汇率:美元兑人民币</th>\n",
       "    </tr>\n",
       "  </thead>\n",
       "  <tbody>\n",
       "    <tr>\n",
       "      <td>1</td>\n",
       "      <td>1981-01-02 00:00:00</td>\n",
       "      <td>1.5341</td>\n",
       "    </tr>\n",
       "    <tr>\n",
       "      <td>2</td>\n",
       "      <td>1981-01-05 00:00:00</td>\n",
       "      <td>1.5418</td>\n",
       "    </tr>\n",
       "    <tr>\n",
       "      <td>3</td>\n",
       "      <td>1981-01-06 00:00:00</td>\n",
       "      <td>1.5264</td>\n",
       "    </tr>\n",
       "    <tr>\n",
       "      <td>4</td>\n",
       "      <td>1981-01-07 00:00:00</td>\n",
       "      <td>1.5264</td>\n",
       "    </tr>\n",
       "    <tr>\n",
       "      <td>5</td>\n",
       "      <td>1981-01-08 00:00:00</td>\n",
       "      <td>1.5264</td>\n",
       "    </tr>\n",
       "    <tr>\n",
       "      <td>...</td>\n",
       "      <td>...</td>\n",
       "      <td>...</td>\n",
       "    </tr>\n",
       "    <tr>\n",
       "      <td>10012</td>\n",
       "      <td>2020-02-17 00:00:00</td>\n",
       "      <td>6.9807</td>\n",
       "    </tr>\n",
       "    <tr>\n",
       "      <td>10013</td>\n",
       "      <td>2020-02-18 00:00:00</td>\n",
       "      <td>7.0052</td>\n",
       "    </tr>\n",
       "    <tr>\n",
       "      <td>10014</td>\n",
       "      <td>2020-02-19 00:00:00</td>\n",
       "      <td>6.9941</td>\n",
       "    </tr>\n",
       "    <tr>\n",
       "      <td>10015</td>\n",
       "      <td>2020-02-20 00:00:00</td>\n",
       "      <td>7.0153</td>\n",
       "    </tr>\n",
       "    <tr>\n",
       "      <td>10016</td>\n",
       "      <td>2020-02-21 00:00:00</td>\n",
       "      <td>7.0386</td>\n",
       "    </tr>\n",
       "  </tbody>\n",
       "</table>\n",
       "<p>10016 rows × 2 columns</p>\n",
       "</div>"
      ],
      "text/plain": [
       "                      指标名称 即期汇率:美元兑人民币\n",
       "1      1981-01-02 00:00:00      1.5341\n",
       "2      1981-01-05 00:00:00      1.5418\n",
       "3      1981-01-06 00:00:00      1.5264\n",
       "4      1981-01-07 00:00:00      1.5264\n",
       "5      1981-01-08 00:00:00      1.5264\n",
       "...                    ...         ...\n",
       "10012  2020-02-17 00:00:00      6.9807\n",
       "10013  2020-02-18 00:00:00      7.0052\n",
       "10014  2020-02-19 00:00:00      6.9941\n",
       "10015  2020-02-20 00:00:00      7.0153\n",
       "10016  2020-02-21 00:00:00      7.0386\n",
       "\n",
       "[10016 rows x 2 columns]"
      ]
     },
     "execution_count": 38,
     "metadata": {},
     "output_type": "execute_result"
    }
   ],
   "source": [
    "usdspot = spot.loc[:,['指标名称','即期汇率:美元兑人民币']]\n",
    "usdspot"
   ]
  },
  {
   "cell_type": "code",
   "execution_count": 39,
   "metadata": {},
   "outputs": [
    {
     "data": {
      "text/html": [
       "<div>\n",
       "<style scoped>\n",
       "    .dataframe tbody tr th:only-of-type {\n",
       "        vertical-align: middle;\n",
       "    }\n",
       "\n",
       "    .dataframe tbody tr th {\n",
       "        vertical-align: top;\n",
       "    }\n",
       "\n",
       "    .dataframe thead th {\n",
       "        text-align: right;\n",
       "    }\n",
       "</style>\n",
       "<table border=\"1\" class=\"dataframe\">\n",
       "  <thead>\n",
       "    <tr style=\"text-align: right;\">\n",
       "      <th></th>\n",
       "      <th>指标名称</th>\n",
       "      <th>即期汇率:欧元兑人民币</th>\n",
       "    </tr>\n",
       "  </thead>\n",
       "  <tbody>\n",
       "    <tr>\n",
       "      <td>1</td>\n",
       "      <td>1981-01-02 00:00:00</td>\n",
       "      <td>NaN</td>\n",
       "    </tr>\n",
       "    <tr>\n",
       "      <td>2</td>\n",
       "      <td>1981-01-05 00:00:00</td>\n",
       "      <td>NaN</td>\n",
       "    </tr>\n",
       "    <tr>\n",
       "      <td>3</td>\n",
       "      <td>1981-01-06 00:00:00</td>\n",
       "      <td>NaN</td>\n",
       "    </tr>\n",
       "    <tr>\n",
       "      <td>4</td>\n",
       "      <td>1981-01-07 00:00:00</td>\n",
       "      <td>NaN</td>\n",
       "    </tr>\n",
       "    <tr>\n",
       "      <td>5</td>\n",
       "      <td>1981-01-08 00:00:00</td>\n",
       "      <td>NaN</td>\n",
       "    </tr>\n",
       "    <tr>\n",
       "      <td>...</td>\n",
       "      <td>...</td>\n",
       "      <td>...</td>\n",
       "    </tr>\n",
       "    <tr>\n",
       "      <td>10012</td>\n",
       "      <td>2020-02-17 00:00:00</td>\n",
       "      <td>7.5668</td>\n",
       "    </tr>\n",
       "    <tr>\n",
       "      <td>10013</td>\n",
       "      <td>2020-02-18 00:00:00</td>\n",
       "      <td>7.5853</td>\n",
       "    </tr>\n",
       "    <tr>\n",
       "      <td>10014</td>\n",
       "      <td>2020-02-19 00:00:00</td>\n",
       "      <td>7.5545</td>\n",
       "    </tr>\n",
       "    <tr>\n",
       "      <td>10015</td>\n",
       "      <td>2020-02-20 00:00:00</td>\n",
       "      <td>7.5708</td>\n",
       "    </tr>\n",
       "    <tr>\n",
       "      <td>10016</td>\n",
       "      <td>2020-02-21 00:00:00</td>\n",
       "      <td>7.6037</td>\n",
       "    </tr>\n",
       "  </tbody>\n",
       "</table>\n",
       "<p>10016 rows × 2 columns</p>\n",
       "</div>"
      ],
      "text/plain": [
       "                      指标名称 即期汇率:欧元兑人民币\n",
       "1      1981-01-02 00:00:00         NaN\n",
       "2      1981-01-05 00:00:00         NaN\n",
       "3      1981-01-06 00:00:00         NaN\n",
       "4      1981-01-07 00:00:00         NaN\n",
       "5      1981-01-08 00:00:00         NaN\n",
       "...                    ...         ...\n",
       "10012  2020-02-17 00:00:00      7.5668\n",
       "10013  2020-02-18 00:00:00      7.5853\n",
       "10014  2020-02-19 00:00:00      7.5545\n",
       "10015  2020-02-20 00:00:00      7.5708\n",
       "10016  2020-02-21 00:00:00      7.6037\n",
       "\n",
       "[10016 rows x 2 columns]"
      ]
     },
     "execution_count": 39,
     "metadata": {},
     "output_type": "execute_result"
    }
   ],
   "source": [
    "eurspot = spot.loc[:,['指标名称','即期汇率:欧元兑人民币']]\n",
    "eurspot"
   ]
  },
  {
   "cell_type": "code",
   "execution_count": 40,
   "metadata": {},
   "outputs": [
    {
     "data": {
      "text/html": [
       "<div>\n",
       "<style scoped>\n",
       "    .dataframe tbody tr th:only-of-type {\n",
       "        vertical-align: middle;\n",
       "    }\n",
       "\n",
       "    .dataframe tbody tr th {\n",
       "        vertical-align: top;\n",
       "    }\n",
       "\n",
       "    .dataframe thead th {\n",
       "        text-align: right;\n",
       "    }\n",
       "</style>\n",
       "<table border=\"1\" class=\"dataframe\">\n",
       "  <thead>\n",
       "    <tr style=\"text-align: right;\">\n",
       "      <th></th>\n",
       "      <th>指标名称</th>\n",
       "      <th>即期汇率:港元兑人民币</th>\n",
       "    </tr>\n",
       "  </thead>\n",
       "  <tbody>\n",
       "    <tr>\n",
       "      <td>1</td>\n",
       "      <td>1981-01-02 00:00:00</td>\n",
       "      <td>NaN</td>\n",
       "    </tr>\n",
       "    <tr>\n",
       "      <td>2</td>\n",
       "      <td>1981-01-05 00:00:00</td>\n",
       "      <td>NaN</td>\n",
       "    </tr>\n",
       "    <tr>\n",
       "      <td>3</td>\n",
       "      <td>1981-01-06 00:00:00</td>\n",
       "      <td>NaN</td>\n",
       "    </tr>\n",
       "    <tr>\n",
       "      <td>4</td>\n",
       "      <td>1981-01-07 00:00:00</td>\n",
       "      <td>NaN</td>\n",
       "    </tr>\n",
       "    <tr>\n",
       "      <td>5</td>\n",
       "      <td>1981-01-08 00:00:00</td>\n",
       "      <td>NaN</td>\n",
       "    </tr>\n",
       "    <tr>\n",
       "      <td>...</td>\n",
       "      <td>...</td>\n",
       "      <td>...</td>\n",
       "    </tr>\n",
       "    <tr>\n",
       "      <td>10012</td>\n",
       "      <td>2020-02-17 00:00:00</td>\n",
       "      <td>0.8986</td>\n",
       "    </tr>\n",
       "    <tr>\n",
       "      <td>10013</td>\n",
       "      <td>2020-02-18 00:00:00</td>\n",
       "      <td>0.90122</td>\n",
       "    </tr>\n",
       "    <tr>\n",
       "      <td>10014</td>\n",
       "      <td>2020-02-19 00:00:00</td>\n",
       "      <td>0.8999</td>\n",
       "    </tr>\n",
       "    <tr>\n",
       "      <td>10015</td>\n",
       "      <td>2020-02-20 00:00:00</td>\n",
       "      <td>0.90221</td>\n",
       "    </tr>\n",
       "    <tr>\n",
       "      <td>10016</td>\n",
       "      <td>2020-02-21 00:00:00</td>\n",
       "      <td>0.90356</td>\n",
       "    </tr>\n",
       "  </tbody>\n",
       "</table>\n",
       "<p>10016 rows × 2 columns</p>\n",
       "</div>"
      ],
      "text/plain": [
       "                      指标名称 即期汇率:港元兑人民币\n",
       "1      1981-01-02 00:00:00         NaN\n",
       "2      1981-01-05 00:00:00         NaN\n",
       "3      1981-01-06 00:00:00         NaN\n",
       "4      1981-01-07 00:00:00         NaN\n",
       "5      1981-01-08 00:00:00         NaN\n",
       "...                    ...         ...\n",
       "10012  2020-02-17 00:00:00      0.8986\n",
       "10013  2020-02-18 00:00:00     0.90122\n",
       "10014  2020-02-19 00:00:00      0.8999\n",
       "10015  2020-02-20 00:00:00     0.90221\n",
       "10016  2020-02-21 00:00:00     0.90356\n",
       "\n",
       "[10016 rows x 2 columns]"
      ]
     },
     "execution_count": 40,
     "metadata": {},
     "output_type": "execute_result"
    }
   ],
   "source": [
    "hkdspot = spot.loc[:,['指标名称','即期汇率:港元兑人民币']]\n",
    "hkdspot"
   ]
  },
  {
   "cell_type": "code",
   "execution_count": 41,
   "metadata": {},
   "outputs": [
    {
     "data": {
      "text/html": [
       "<div>\n",
       "<style scoped>\n",
       "    .dataframe tbody tr th:only-of-type {\n",
       "        vertical-align: middle;\n",
       "    }\n",
       "\n",
       "    .dataframe tbody tr th {\n",
       "        vertical-align: top;\n",
       "    }\n",
       "\n",
       "    .dataframe thead th {\n",
       "        text-align: right;\n",
       "    }\n",
       "</style>\n",
       "<table border=\"1\" class=\"dataframe\">\n",
       "  <thead>\n",
       "    <tr style=\"text-align: right;\">\n",
       "      <th></th>\n",
       "      <th>指标名称</th>\n",
       "      <th>即期汇率:100日元兑人民币</th>\n",
       "    </tr>\n",
       "  </thead>\n",
       "  <tbody>\n",
       "    <tr>\n",
       "      <td>1</td>\n",
       "      <td>1981-01-02 00:00:00</td>\n",
       "      <td>NaN</td>\n",
       "    </tr>\n",
       "    <tr>\n",
       "      <td>2</td>\n",
       "      <td>1981-01-05 00:00:00</td>\n",
       "      <td>NaN</td>\n",
       "    </tr>\n",
       "    <tr>\n",
       "      <td>3</td>\n",
       "      <td>1981-01-06 00:00:00</td>\n",
       "      <td>NaN</td>\n",
       "    </tr>\n",
       "    <tr>\n",
       "      <td>4</td>\n",
       "      <td>1981-01-07 00:00:00</td>\n",
       "      <td>NaN</td>\n",
       "    </tr>\n",
       "    <tr>\n",
       "      <td>5</td>\n",
       "      <td>1981-01-08 00:00:00</td>\n",
       "      <td>NaN</td>\n",
       "    </tr>\n",
       "    <tr>\n",
       "      <td>...</td>\n",
       "      <td>...</td>\n",
       "      <td>...</td>\n",
       "    </tr>\n",
       "    <tr>\n",
       "      <td>10012</td>\n",
       "      <td>2020-02-17 00:00:00</td>\n",
       "      <td>0.063545</td>\n",
       "    </tr>\n",
       "    <tr>\n",
       "      <td>10013</td>\n",
       "      <td>2020-02-18 00:00:00</td>\n",
       "      <td>0.063801</td>\n",
       "    </tr>\n",
       "    <tr>\n",
       "      <td>10014</td>\n",
       "      <td>2020-02-19 00:00:00</td>\n",
       "      <td>0.063516</td>\n",
       "    </tr>\n",
       "    <tr>\n",
       "      <td>10015</td>\n",
       "      <td>2020-02-20 00:00:00</td>\n",
       "      <td>0.062845</td>\n",
       "    </tr>\n",
       "    <tr>\n",
       "      <td>10016</td>\n",
       "      <td>2020-02-21 00:00:00</td>\n",
       "      <td>0.063062</td>\n",
       "    </tr>\n",
       "  </tbody>\n",
       "</table>\n",
       "<p>10016 rows × 2 columns</p>\n",
       "</div>"
      ],
      "text/plain": [
       "                      指标名称 即期汇率:100日元兑人民币\n",
       "1      1981-01-02 00:00:00            NaN\n",
       "2      1981-01-05 00:00:00            NaN\n",
       "3      1981-01-06 00:00:00            NaN\n",
       "4      1981-01-07 00:00:00            NaN\n",
       "5      1981-01-08 00:00:00            NaN\n",
       "...                    ...            ...\n",
       "10012  2020-02-17 00:00:00       0.063545\n",
       "10013  2020-02-18 00:00:00       0.063801\n",
       "10014  2020-02-19 00:00:00       0.063516\n",
       "10015  2020-02-20 00:00:00       0.062845\n",
       "10016  2020-02-21 00:00:00       0.063062\n",
       "\n",
       "[10016 rows x 2 columns]"
      ]
     },
     "execution_count": 41,
     "metadata": {},
     "output_type": "execute_result"
    }
   ],
   "source": [
    "jpyspot = spot.loc[:,['指标名称','即期汇率:100日元兑人民币']]\n",
    "jpyspot['即期汇率:100日元兑人民币'] = jpyspot['即期汇率:100日元兑人民币']/100\n",
    "jpyspot"
   ]
  },
  {
   "cell_type": "code",
   "execution_count": 42,
   "metadata": {},
   "outputs": [
    {
     "data": {
      "text/html": [
       "<div>\n",
       "<style scoped>\n",
       "    .dataframe tbody tr th:only-of-type {\n",
       "        vertical-align: middle;\n",
       "    }\n",
       "\n",
       "    .dataframe tbody tr th {\n",
       "        vertical-align: top;\n",
       "    }\n",
       "\n",
       "    .dataframe thead th {\n",
       "        text-align: right;\n",
       "    }\n",
       "</style>\n",
       "<table border=\"1\" class=\"dataframe\">\n",
       "  <thead>\n",
       "    <tr style=\"text-align: right;\">\n",
       "      <th></th>\n",
       "      <th>指标名称</th>\n",
       "      <th>即期汇率:英镑兑人民币</th>\n",
       "    </tr>\n",
       "  </thead>\n",
       "  <tbody>\n",
       "    <tr>\n",
       "      <td>1</td>\n",
       "      <td>1981-01-02 00:00:00</td>\n",
       "      <td>NaN</td>\n",
       "    </tr>\n",
       "    <tr>\n",
       "      <td>2</td>\n",
       "      <td>1981-01-05 00:00:00</td>\n",
       "      <td>NaN</td>\n",
       "    </tr>\n",
       "    <tr>\n",
       "      <td>3</td>\n",
       "      <td>1981-01-06 00:00:00</td>\n",
       "      <td>NaN</td>\n",
       "    </tr>\n",
       "    <tr>\n",
       "      <td>4</td>\n",
       "      <td>1981-01-07 00:00:00</td>\n",
       "      <td>NaN</td>\n",
       "    </tr>\n",
       "    <tr>\n",
       "      <td>5</td>\n",
       "      <td>1981-01-08 00:00:00</td>\n",
       "      <td>NaN</td>\n",
       "    </tr>\n",
       "    <tr>\n",
       "      <td>...</td>\n",
       "      <td>...</td>\n",
       "      <td>...</td>\n",
       "    </tr>\n",
       "    <tr>\n",
       "      <td>10012</td>\n",
       "      <td>2020-02-17 00:00:00</td>\n",
       "      <td>9.1039</td>\n",
       "    </tr>\n",
       "    <tr>\n",
       "      <td>10013</td>\n",
       "      <td>2020-02-18 00:00:00</td>\n",
       "      <td>9.0795</td>\n",
       "    </tr>\n",
       "    <tr>\n",
       "      <td>10014</td>\n",
       "      <td>2020-02-19 00:00:00</td>\n",
       "      <td>9.1038</td>\n",
       "    </tr>\n",
       "    <tr>\n",
       "      <td>10015</td>\n",
       "      <td>2020-02-20 00:00:00</td>\n",
       "      <td>NaN</td>\n",
       "    </tr>\n",
       "    <tr>\n",
       "      <td>10016</td>\n",
       "      <td>2020-02-21 00:00:00</td>\n",
       "      <td>9.0659</td>\n",
       "    </tr>\n",
       "  </tbody>\n",
       "</table>\n",
       "<p>10016 rows × 2 columns</p>\n",
       "</div>"
      ],
      "text/plain": [
       "                      指标名称 即期汇率:英镑兑人民币\n",
       "1      1981-01-02 00:00:00         NaN\n",
       "2      1981-01-05 00:00:00         NaN\n",
       "3      1981-01-06 00:00:00         NaN\n",
       "4      1981-01-07 00:00:00         NaN\n",
       "5      1981-01-08 00:00:00         NaN\n",
       "...                    ...         ...\n",
       "10012  2020-02-17 00:00:00      9.1039\n",
       "10013  2020-02-18 00:00:00      9.0795\n",
       "10014  2020-02-19 00:00:00      9.1038\n",
       "10015  2020-02-20 00:00:00         NaN\n",
       "10016  2020-02-21 00:00:00      9.0659\n",
       "\n",
       "[10016 rows x 2 columns]"
      ]
     },
     "execution_count": 42,
     "metadata": {},
     "output_type": "execute_result"
    }
   ],
   "source": [
    "gbpspot = spot.loc[:,['指标名称','即期汇率:英镑兑人民币']]\n",
    "gbpspot"
   ]
  },
  {
   "cell_type": "code",
   "execution_count": 43,
   "metadata": {},
   "outputs": [
    {
     "data": {
      "text/html": [
       "<div>\n",
       "<style scoped>\n",
       "    .dataframe tbody tr th:only-of-type {\n",
       "        vertical-align: middle;\n",
       "    }\n",
       "\n",
       "    .dataframe tbody tr th {\n",
       "        vertical-align: top;\n",
       "    }\n",
       "\n",
       "    .dataframe thead th {\n",
       "        text-align: right;\n",
       "    }\n",
       "</style>\n",
       "<table border=\"1\" class=\"dataframe\">\n",
       "  <thead>\n",
       "    <tr style=\"text-align: right;\">\n",
       "      <th></th>\n",
       "      <th>指标名称</th>\n",
       "      <th>即期汇率:澳元兑人民币</th>\n",
       "    </tr>\n",
       "  </thead>\n",
       "  <tbody>\n",
       "    <tr>\n",
       "      <td>1</td>\n",
       "      <td>1981-01-02 00:00:00</td>\n",
       "      <td>NaN</td>\n",
       "    </tr>\n",
       "    <tr>\n",
       "      <td>2</td>\n",
       "      <td>1981-01-05 00:00:00</td>\n",
       "      <td>NaN</td>\n",
       "    </tr>\n",
       "    <tr>\n",
       "      <td>3</td>\n",
       "      <td>1981-01-06 00:00:00</td>\n",
       "      <td>NaN</td>\n",
       "    </tr>\n",
       "    <tr>\n",
       "      <td>4</td>\n",
       "      <td>1981-01-07 00:00:00</td>\n",
       "      <td>NaN</td>\n",
       "    </tr>\n",
       "    <tr>\n",
       "      <td>5</td>\n",
       "      <td>1981-01-08 00:00:00</td>\n",
       "      <td>NaN</td>\n",
       "    </tr>\n",
       "    <tr>\n",
       "      <td>...</td>\n",
       "      <td>...</td>\n",
       "      <td>...</td>\n",
       "    </tr>\n",
       "    <tr>\n",
       "      <td>10012</td>\n",
       "      <td>2020-02-17 00:00:00</td>\n",
       "      <td>4.6974</td>\n",
       "    </tr>\n",
       "    <tr>\n",
       "      <td>10013</td>\n",
       "      <td>2020-02-18 00:00:00</td>\n",
       "      <td>4.6796</td>\n",
       "    </tr>\n",
       "    <tr>\n",
       "      <td>10014</td>\n",
       "      <td>2020-02-19 00:00:00</td>\n",
       "      <td>4.6883</td>\n",
       "    </tr>\n",
       "    <tr>\n",
       "      <td>10015</td>\n",
       "      <td>2020-02-20 00:00:00</td>\n",
       "      <td>4.6555</td>\n",
       "    </tr>\n",
       "    <tr>\n",
       "      <td>10016</td>\n",
       "      <td>2020-02-21 00:00:00</td>\n",
       "      <td>4.6418</td>\n",
       "    </tr>\n",
       "  </tbody>\n",
       "</table>\n",
       "<p>10016 rows × 2 columns</p>\n",
       "</div>"
      ],
      "text/plain": [
       "                      指标名称 即期汇率:澳元兑人民币\n",
       "1      1981-01-02 00:00:00         NaN\n",
       "2      1981-01-05 00:00:00         NaN\n",
       "3      1981-01-06 00:00:00         NaN\n",
       "4      1981-01-07 00:00:00         NaN\n",
       "5      1981-01-08 00:00:00         NaN\n",
       "...                    ...         ...\n",
       "10012  2020-02-17 00:00:00      4.6974\n",
       "10013  2020-02-18 00:00:00      4.6796\n",
       "10014  2020-02-19 00:00:00      4.6883\n",
       "10015  2020-02-20 00:00:00      4.6555\n",
       "10016  2020-02-21 00:00:00      4.6418\n",
       "\n",
       "[10016 rows x 2 columns]"
      ]
     },
     "execution_count": 43,
     "metadata": {},
     "output_type": "execute_result"
    }
   ],
   "source": [
    "audspot = spot.loc[:,['指标名称','即期汇率:澳元兑人民币']]\n",
    "audspot"
   ]
  },
  {
   "cell_type": "code",
   "execution_count": 44,
   "metadata": {},
   "outputs": [
    {
     "data": {
      "text/html": [
       "<div>\n",
       "<style scoped>\n",
       "    .dataframe tbody tr th:only-of-type {\n",
       "        vertical-align: middle;\n",
       "    }\n",
       "\n",
       "    .dataframe tbody tr th {\n",
       "        vertical-align: top;\n",
       "    }\n",
       "\n",
       "    .dataframe thead th {\n",
       "        text-align: right;\n",
       "    }\n",
       "</style>\n",
       "<table border=\"1\" class=\"dataframe\">\n",
       "  <thead>\n",
       "    <tr style=\"text-align: right;\">\n",
       "      <th></th>\n",
       "      <th>指标名称</th>\n",
       "      <th>即期汇率:加元兑人民币</th>\n",
       "    </tr>\n",
       "  </thead>\n",
       "  <tbody>\n",
       "    <tr>\n",
       "      <td>1</td>\n",
       "      <td>1981-01-02 00:00:00</td>\n",
       "      <td>NaN</td>\n",
       "    </tr>\n",
       "    <tr>\n",
       "      <td>2</td>\n",
       "      <td>1981-01-05 00:00:00</td>\n",
       "      <td>NaN</td>\n",
       "    </tr>\n",
       "    <tr>\n",
       "      <td>3</td>\n",
       "      <td>1981-01-06 00:00:00</td>\n",
       "      <td>NaN</td>\n",
       "    </tr>\n",
       "    <tr>\n",
       "      <td>4</td>\n",
       "      <td>1981-01-07 00:00:00</td>\n",
       "      <td>NaN</td>\n",
       "    </tr>\n",
       "    <tr>\n",
       "      <td>5</td>\n",
       "      <td>1981-01-08 00:00:00</td>\n",
       "      <td>NaN</td>\n",
       "    </tr>\n",
       "    <tr>\n",
       "      <td>...</td>\n",
       "      <td>...</td>\n",
       "      <td>...</td>\n",
       "    </tr>\n",
       "    <tr>\n",
       "      <td>10012</td>\n",
       "      <td>2020-02-17 00:00:00</td>\n",
       "      <td>5.2739</td>\n",
       "    </tr>\n",
       "    <tr>\n",
       "      <td>10013</td>\n",
       "      <td>2020-02-18 00:00:00</td>\n",
       "      <td>5.2792</td>\n",
       "    </tr>\n",
       "    <tr>\n",
       "      <td>10014</td>\n",
       "      <td>2020-02-19 00:00:00</td>\n",
       "      <td>5.2878</td>\n",
       "    </tr>\n",
       "    <tr>\n",
       "      <td>10015</td>\n",
       "      <td>2020-02-20 00:00:00</td>\n",
       "      <td>5.3007</td>\n",
       "    </tr>\n",
       "    <tr>\n",
       "      <td>10016</td>\n",
       "      <td>2020-02-21 00:00:00</td>\n",
       "      <td>5.3085</td>\n",
       "    </tr>\n",
       "  </tbody>\n",
       "</table>\n",
       "<p>10016 rows × 2 columns</p>\n",
       "</div>"
      ],
      "text/plain": [
       "                      指标名称 即期汇率:加元兑人民币\n",
       "1      1981-01-02 00:00:00         NaN\n",
       "2      1981-01-05 00:00:00         NaN\n",
       "3      1981-01-06 00:00:00         NaN\n",
       "4      1981-01-07 00:00:00         NaN\n",
       "5      1981-01-08 00:00:00         NaN\n",
       "...                    ...         ...\n",
       "10012  2020-02-17 00:00:00      5.2739\n",
       "10013  2020-02-18 00:00:00      5.2792\n",
       "10014  2020-02-19 00:00:00      5.2878\n",
       "10015  2020-02-20 00:00:00      5.3007\n",
       "10016  2020-02-21 00:00:00      5.3085\n",
       "\n",
       "[10016 rows x 2 columns]"
      ]
     },
     "execution_count": 44,
     "metadata": {},
     "output_type": "execute_result"
    }
   ],
   "source": [
    "cadspot = spot.loc[:,['指标名称','即期汇率:加元兑人民币']]\n",
    "cadspot"
   ]
  },
  {
   "cell_type": "code",
   "execution_count": 45,
   "metadata": {},
   "outputs": [
    {
     "data": {
      "text/html": [
       "<div>\n",
       "<style scoped>\n",
       "    .dataframe tbody tr th:only-of-type {\n",
       "        vertical-align: middle;\n",
       "    }\n",
       "\n",
       "    .dataframe tbody tr th {\n",
       "        vertical-align: top;\n",
       "    }\n",
       "\n",
       "    .dataframe thead th {\n",
       "        text-align: right;\n",
       "    }\n",
       "</style>\n",
       "<table border=\"1\" class=\"dataframe\">\n",
       "  <thead>\n",
       "    <tr style=\"text-align: right;\">\n",
       "      <th></th>\n",
       "      <th>指标名称</th>\n",
       "      <th>即期汇率:新西兰元兑人民币</th>\n",
       "    </tr>\n",
       "  </thead>\n",
       "  <tbody>\n",
       "    <tr>\n",
       "      <td>1</td>\n",
       "      <td>1981-01-02 00:00:00</td>\n",
       "      <td>NaN</td>\n",
       "    </tr>\n",
       "    <tr>\n",
       "      <td>2</td>\n",
       "      <td>1981-01-05 00:00:00</td>\n",
       "      <td>NaN</td>\n",
       "    </tr>\n",
       "    <tr>\n",
       "      <td>3</td>\n",
       "      <td>1981-01-06 00:00:00</td>\n",
       "      <td>NaN</td>\n",
       "    </tr>\n",
       "    <tr>\n",
       "      <td>4</td>\n",
       "      <td>1981-01-07 00:00:00</td>\n",
       "      <td>NaN</td>\n",
       "    </tr>\n",
       "    <tr>\n",
       "      <td>5</td>\n",
       "      <td>1981-01-08 00:00:00</td>\n",
       "      <td>NaN</td>\n",
       "    </tr>\n",
       "    <tr>\n",
       "      <td>...</td>\n",
       "      <td>...</td>\n",
       "      <td>...</td>\n",
       "    </tr>\n",
       "    <tr>\n",
       "      <td>10012</td>\n",
       "      <td>2020-02-17 00:00:00</td>\n",
       "      <td>NaN</td>\n",
       "    </tr>\n",
       "    <tr>\n",
       "      <td>10013</td>\n",
       "      <td>2020-02-18 00:00:00</td>\n",
       "      <td>NaN</td>\n",
       "    </tr>\n",
       "    <tr>\n",
       "      <td>10014</td>\n",
       "      <td>2020-02-19 00:00:00</td>\n",
       "      <td>4.4783</td>\n",
       "    </tr>\n",
       "    <tr>\n",
       "      <td>10015</td>\n",
       "      <td>2020-02-20 00:00:00</td>\n",
       "      <td>4.4613</td>\n",
       "    </tr>\n",
       "    <tr>\n",
       "      <td>10016</td>\n",
       "      <td>2020-02-21 00:00:00</td>\n",
       "      <td>4.4429</td>\n",
       "    </tr>\n",
       "  </tbody>\n",
       "</table>\n",
       "<p>10016 rows × 2 columns</p>\n",
       "</div>"
      ],
      "text/plain": [
       "                      指标名称 即期汇率:新西兰元兑人民币\n",
       "1      1981-01-02 00:00:00           NaN\n",
       "2      1981-01-05 00:00:00           NaN\n",
       "3      1981-01-06 00:00:00           NaN\n",
       "4      1981-01-07 00:00:00           NaN\n",
       "5      1981-01-08 00:00:00           NaN\n",
       "...                    ...           ...\n",
       "10012  2020-02-17 00:00:00           NaN\n",
       "10013  2020-02-18 00:00:00           NaN\n",
       "10014  2020-02-19 00:00:00        4.4783\n",
       "10015  2020-02-20 00:00:00        4.4613\n",
       "10016  2020-02-21 00:00:00        4.4429\n",
       "\n",
       "[10016 rows x 2 columns]"
      ]
     },
     "execution_count": 45,
     "metadata": {},
     "output_type": "execute_result"
    }
   ],
   "source": [
    "nzdspot = spot.loc[:,['指标名称','即期汇率:新西兰元兑人民币']]\n",
    "nzdspot"
   ]
  },
  {
   "cell_type": "code",
   "execution_count": 46,
   "metadata": {},
   "outputs": [
    {
     "data": {
      "text/html": [
       "<div>\n",
       "<style scoped>\n",
       "    .dataframe tbody tr th:only-of-type {\n",
       "        vertical-align: middle;\n",
       "    }\n",
       "\n",
       "    .dataframe tbody tr th {\n",
       "        vertical-align: top;\n",
       "    }\n",
       "\n",
       "    .dataframe thead th {\n",
       "        text-align: right;\n",
       "    }\n",
       "</style>\n",
       "<table border=\"1\" class=\"dataframe\">\n",
       "  <thead>\n",
       "    <tr style=\"text-align: right;\">\n",
       "      <th></th>\n",
       "      <th>指标名称</th>\n",
       "      <th>即期汇率:新加坡元兑人民币</th>\n",
       "    </tr>\n",
       "  </thead>\n",
       "  <tbody>\n",
       "    <tr>\n",
       "      <td>1</td>\n",
       "      <td>1981-01-02 00:00:00</td>\n",
       "      <td>NaN</td>\n",
       "    </tr>\n",
       "    <tr>\n",
       "      <td>2</td>\n",
       "      <td>1981-01-05 00:00:00</td>\n",
       "      <td>NaN</td>\n",
       "    </tr>\n",
       "    <tr>\n",
       "      <td>3</td>\n",
       "      <td>1981-01-06 00:00:00</td>\n",
       "      <td>NaN</td>\n",
       "    </tr>\n",
       "    <tr>\n",
       "      <td>4</td>\n",
       "      <td>1981-01-07 00:00:00</td>\n",
       "      <td>NaN</td>\n",
       "    </tr>\n",
       "    <tr>\n",
       "      <td>5</td>\n",
       "      <td>1981-01-08 00:00:00</td>\n",
       "      <td>NaN</td>\n",
       "    </tr>\n",
       "    <tr>\n",
       "      <td>...</td>\n",
       "      <td>...</td>\n",
       "      <td>...</td>\n",
       "    </tr>\n",
       "    <tr>\n",
       "      <td>10012</td>\n",
       "      <td>2020-02-17 00:00:00</td>\n",
       "      <td>5.0227</td>\n",
       "    </tr>\n",
       "    <tr>\n",
       "      <td>10013</td>\n",
       "      <td>2020-02-18 00:00:00</td>\n",
       "      <td>5.0245</td>\n",
       "    </tr>\n",
       "    <tr>\n",
       "      <td>10014</td>\n",
       "      <td>2020-02-19 00:00:00</td>\n",
       "      <td>5.0312</td>\n",
       "    </tr>\n",
       "    <tr>\n",
       "      <td>10015</td>\n",
       "      <td>2020-02-20 00:00:00</td>\n",
       "      <td>5.0108</td>\n",
       "    </tr>\n",
       "    <tr>\n",
       "      <td>10016</td>\n",
       "      <td>2020-02-21 00:00:00</td>\n",
       "      <td>5.0215</td>\n",
       "    </tr>\n",
       "  </tbody>\n",
       "</table>\n",
       "<p>10016 rows × 2 columns</p>\n",
       "</div>"
      ],
      "text/plain": [
       "                      指标名称 即期汇率:新加坡元兑人民币\n",
       "1      1981-01-02 00:00:00           NaN\n",
       "2      1981-01-05 00:00:00           NaN\n",
       "3      1981-01-06 00:00:00           NaN\n",
       "4      1981-01-07 00:00:00           NaN\n",
       "5      1981-01-08 00:00:00           NaN\n",
       "...                    ...           ...\n",
       "10012  2020-02-17 00:00:00        5.0227\n",
       "10013  2020-02-18 00:00:00        5.0245\n",
       "10014  2020-02-19 00:00:00        5.0312\n",
       "10015  2020-02-20 00:00:00        5.0108\n",
       "10016  2020-02-21 00:00:00        5.0215\n",
       "\n",
       "[10016 rows x 2 columns]"
      ]
     },
     "execution_count": 46,
     "metadata": {},
     "output_type": "execute_result"
    }
   ],
   "source": [
    "sgdspot = spot.loc[:,['指标名称','即期汇率:新加坡元兑人民币']]\n",
    "sgdspot"
   ]
  },
  {
   "cell_type": "code",
   "execution_count": 47,
   "metadata": {},
   "outputs": [
    {
     "data": {
      "text/html": [
       "<div>\n",
       "<style scoped>\n",
       "    .dataframe tbody tr th:only-of-type {\n",
       "        vertical-align: middle;\n",
       "    }\n",
       "\n",
       "    .dataframe tbody tr th {\n",
       "        vertical-align: top;\n",
       "    }\n",
       "\n",
       "    .dataframe thead th {\n",
       "        text-align: right;\n",
       "    }\n",
       "</style>\n",
       "<table border=\"1\" class=\"dataframe\">\n",
       "  <thead>\n",
       "    <tr style=\"text-align: right;\">\n",
       "      <th></th>\n",
       "      <th>指标名称</th>\n",
       "      <th>即期汇率:瑞郎兑人民币</th>\n",
       "    </tr>\n",
       "  </thead>\n",
       "  <tbody>\n",
       "    <tr>\n",
       "      <td>1</td>\n",
       "      <td>1981-01-02 00:00:00</td>\n",
       "      <td>NaN</td>\n",
       "    </tr>\n",
       "    <tr>\n",
       "      <td>2</td>\n",
       "      <td>1981-01-05 00:00:00</td>\n",
       "      <td>NaN</td>\n",
       "    </tr>\n",
       "    <tr>\n",
       "      <td>3</td>\n",
       "      <td>1981-01-06 00:00:00</td>\n",
       "      <td>NaN</td>\n",
       "    </tr>\n",
       "    <tr>\n",
       "      <td>4</td>\n",
       "      <td>1981-01-07 00:00:00</td>\n",
       "      <td>NaN</td>\n",
       "    </tr>\n",
       "    <tr>\n",
       "      <td>5</td>\n",
       "      <td>1981-01-08 00:00:00</td>\n",
       "      <td>NaN</td>\n",
       "    </tr>\n",
       "    <tr>\n",
       "      <td>...</td>\n",
       "      <td>...</td>\n",
       "      <td>...</td>\n",
       "    </tr>\n",
       "    <tr>\n",
       "      <td>10012</td>\n",
       "      <td>2020-02-17 00:00:00</td>\n",
       "      <td>NaN</td>\n",
       "    </tr>\n",
       "    <tr>\n",
       "      <td>10013</td>\n",
       "      <td>2020-02-18 00:00:00</td>\n",
       "      <td>NaN</td>\n",
       "    </tr>\n",
       "    <tr>\n",
       "      <td>10014</td>\n",
       "      <td>2020-02-19 00:00:00</td>\n",
       "      <td>NaN</td>\n",
       "    </tr>\n",
       "    <tr>\n",
       "      <td>10015</td>\n",
       "      <td>2020-02-20 00:00:00</td>\n",
       "      <td>7.133</td>\n",
       "    </tr>\n",
       "    <tr>\n",
       "      <td>10016</td>\n",
       "      <td>2020-02-21 00:00:00</td>\n",
       "      <td>NaN</td>\n",
       "    </tr>\n",
       "  </tbody>\n",
       "</table>\n",
       "<p>10016 rows × 2 columns</p>\n",
       "</div>"
      ],
      "text/plain": [
       "                      指标名称 即期汇率:瑞郎兑人民币\n",
       "1      1981-01-02 00:00:00         NaN\n",
       "2      1981-01-05 00:00:00         NaN\n",
       "3      1981-01-06 00:00:00         NaN\n",
       "4      1981-01-07 00:00:00         NaN\n",
       "5      1981-01-08 00:00:00         NaN\n",
       "...                    ...         ...\n",
       "10012  2020-02-17 00:00:00         NaN\n",
       "10013  2020-02-18 00:00:00         NaN\n",
       "10014  2020-02-19 00:00:00         NaN\n",
       "10015  2020-02-20 00:00:00       7.133\n",
       "10016  2020-02-21 00:00:00         NaN\n",
       "\n",
       "[10016 rows x 2 columns]"
      ]
     },
     "execution_count": 47,
     "metadata": {},
     "output_type": "execute_result"
    }
   ],
   "source": [
    "chfspot = spot.loc[:,['指标名称','即期汇率:瑞郎兑人民币']]\n",
    "chfspot"
   ]
  },
  {
   "cell_type": "markdown",
   "metadata": {},
   "source": [
    "### usdspot"
   ]
  },
  {
   "cell_type": "code",
   "execution_count": 48,
   "metadata": {},
   "outputs": [
    {
     "name": "stderr",
     "output_type": "stream",
     "text": [
      "G:\\Anaconda3\\lib\\site-packages\\ipykernel_launcher.py:4: SettingWithCopyWarning: \n",
      "A value is trying to be set on a copy of a slice from a DataFrame\n",
      "\n",
      "See the caveats in the documentation: http://pandas.pydata.org/pandas-docs/stable/user_guide/indexing.html#returning-a-view-versus-a-copy\n",
      "  after removing the cwd from sys.path.\n"
     ]
    },
    {
     "data": {
      "text/plain": [
       "ym\n",
       "198101    1.5886\n",
       "198102    1.6179\n",
       "198103    1.6165\n",
       "198104    1.6882\n",
       "198105     1.748\n",
       "           ...  \n",
       "201909    7.1381\n",
       "201910     7.035\n",
       "201911    7.0261\n",
       "201912    6.9662\n",
       "202001      6.93\n",
       "Name: usdspot, Length: 469, dtype: object"
      ]
     },
     "execution_count": 48,
     "metadata": {},
     "output_type": "execute_result"
    }
   ],
   "source": [
    "usdspot.columns = ['date','usdspot']\n",
    "usdspot['ym'] = usdspot['date'].map(lambda x: 100*x.year + x.month)\n",
    "usdspot = usdspot.dropna()\n",
    "usdspot.drop_duplicates('ym','last',inplace = True)\n",
    "usdspot = usdspot.set_index('ym')\n",
    "usds = usdspot['usdspot'].drop(202002)\n",
    "usds"
   ]
  },
  {
   "cell_type": "markdown",
   "metadata": {},
   "source": [
    "### eurspot"
   ]
  },
  {
   "cell_type": "code",
   "execution_count": 49,
   "metadata": {},
   "outputs": [
    {
     "name": "stderr",
     "output_type": "stream",
     "text": [
      "G:\\Anaconda3\\lib\\site-packages\\ipykernel_launcher.py:4: SettingWithCopyWarning: \n",
      "A value is trying to be set on a copy of a slice from a DataFrame\n",
      "\n",
      "See the caveats in the documentation: http://pandas.pydata.org/pandas-docs/stable/user_guide/indexing.html#returning-a-view-versus-a-copy\n",
      "  after removing the cwd from sys.path.\n"
     ]
    },
    {
     "data": {
      "text/plain": [
       "ym\n",
       "199202    6.8284\n",
       "199203    6.7967\n",
       "199204    6.8628\n",
       "199205    7.0204\n",
       "199206    7.3449\n",
       "           ...  \n",
       "201909    7.8095\n",
       "201910    7.8514\n",
       "201911    7.7363\n",
       "201912    7.8079\n",
       "202001    7.6835\n",
       "Name: eurspot, Length: 336, dtype: object"
      ]
     },
     "execution_count": 49,
     "metadata": {},
     "output_type": "execute_result"
    }
   ],
   "source": [
    "eurspot.columns = ['date','eurspot']\n",
    "eurspot['ym'] = eurspot['date'].map(lambda x: 100*x.year + x.month)\n",
    "eurspot = eurspot.dropna()\n",
    "eurspot.drop_duplicates('ym','last',inplace = True)\n",
    "eurspot = eurspot.set_index('ym')\n",
    "eurs = eurspot['eurspot'].drop(202002)\n",
    "eurs"
   ]
  },
  {
   "cell_type": "markdown",
   "metadata": {},
   "source": [
    "### jpyspot"
   ]
  },
  {
   "cell_type": "code",
   "execution_count": 50,
   "metadata": {},
   "outputs": [
    {
     "name": "stderr",
     "output_type": "stream",
     "text": [
      "G:\\Anaconda3\\lib\\site-packages\\ipykernel_launcher.py:4: SettingWithCopyWarning: \n",
      "A value is trying to be set on a copy of a slice from a DataFrame\n",
      "\n",
      "See the caveats in the documentation: http://pandas.pydata.org/pandas-docs/stable/user_guide/indexing.html#returning-a-view-versus-a-copy\n",
      "  after removing the cwd from sys.path.\n"
     ]
    },
    {
     "data": {
      "text/plain": [
       "ym\n",
       "200905      0.0715\n",
       "200906      0.0707\n",
       "200907      0.0721\n",
       "200908      0.0734\n",
       "200909      0.0758\n",
       "            ...   \n",
       "201909    0.066208\n",
       "201910    0.064779\n",
       "201911    0.064184\n",
       "201912    0.064142\n",
       "202001    0.063251\n",
       "Name: jpyspot, Length: 129, dtype: object"
      ]
     },
     "execution_count": 50,
     "metadata": {},
     "output_type": "execute_result"
    }
   ],
   "source": [
    "jpyspot.columns = ['date','jpyspot']\n",
    "jpyspot['ym'] = jpyspot['date'].map(lambda x: 100*x.year + x.month)\n",
    "jpyspot = jpyspot.dropna()\n",
    "jpyspot.drop_duplicates('ym','last',inplace = True)\n",
    "jpyspot = jpyspot.set_index('ym')\n",
    "jpys = jpyspot['jpyspot'].drop(202002)\n",
    "jpys"
   ]
  },
  {
   "cell_type": "markdown",
   "metadata": {},
   "source": [
    "### gbpspot"
   ]
  },
  {
   "cell_type": "code",
   "execution_count": 51,
   "metadata": {},
   "outputs": [
    {
     "name": "stderr",
     "output_type": "stream",
     "text": [
      "G:\\Anaconda3\\lib\\site-packages\\ipykernel_launcher.py:4: SettingWithCopyWarning: \n",
      "A value is trying to be set on a copy of a slice from a DataFrame\n",
      "\n",
      "See the caveats in the documentation: http://pandas.pydata.org/pandas-docs/stable/user_guide/indexing.html#returning-a-view-versus-a-copy\n",
      "  after removing the cwd from sys.path.\n"
     ]
    },
    {
     "data": {
      "text/plain": [
       "ym\n",
       "199001    7.9411\n",
       "199002    7.9331\n",
       "199003    7.7849\n",
       "199004    7.7636\n",
       "199005    7.9425\n",
       "           ...  \n",
       "201909    8.7829\n",
       "201910    9.1115\n",
       "201911    9.0731\n",
       "201912    9.1483\n",
       "202001     9.108\n",
       "Name: gbpspot, Length: 361, dtype: object"
      ]
     },
     "execution_count": 51,
     "metadata": {},
     "output_type": "execute_result"
    }
   ],
   "source": [
    "gbpspot.columns = ['date','gbpspot']\n",
    "gbpspot['ym'] = gbpspot['date'].map(lambda x: 100*x.year + x.month)\n",
    "gbpspot = gbpspot.dropna()\n",
    "gbpspot.drop_duplicates('ym','last',inplace = True)\n",
    "gbpspot = gbpspot.set_index('ym')\n",
    "gbps = gbpspot['gbpspot'].drop(202002)\n",
    "gbps"
   ]
  },
  {
   "cell_type": "markdown",
   "metadata": {},
   "source": [
    "### chfspot"
   ]
  },
  {
   "cell_type": "code",
   "execution_count": 52,
   "metadata": {},
   "outputs": [
    {
     "name": "stderr",
     "output_type": "stream",
     "text": [
      "G:\\Anaconda3\\lib\\site-packages\\ipykernel_launcher.py:4: SettingWithCopyWarning: \n",
      "A value is trying to be set on a copy of a slice from a DataFrame\n",
      "\n",
      "See the caveats in the documentation: http://pandas.pydata.org/pandas-docs/stable/user_guide/indexing.html#returning-a-view-versus-a-copy\n",
      "  after removing the cwd from sys.path.\n"
     ]
    },
    {
     "data": {
      "text/plain": [
       "ym\n",
       "201511    6.2109\n",
       "201512    6.5628\n",
       "201601    6.4651\n",
       "201602    6.6129\n",
       "201603    6.7103\n",
       "201604    6.6793\n",
       "201605    6.6379\n",
       "201606    6.7781\n",
       "201607    6.8005\n",
       "201608    6.7898\n",
       "201609    6.8867\n",
       "201610    6.8453\n",
       "201611    6.7818\n",
       "201612    6.8013\n",
       "201701    6.8438\n",
       "201702    6.8161\n",
       "201703     6.894\n",
       "201704    6.9446\n",
       "201705    7.0046\n",
       "201706    7.0711\n",
       "201707    6.9524\n",
       "201708    6.8484\n",
       "201709    6.8608\n",
       "201710     6.661\n",
       "201711    6.7069\n",
       "201712    6.6739\n",
       "201801    6.7602\n",
       "201802    6.7314\n",
       "201803    6.5679\n",
       "201804    6.4012\n",
       "201805    6.4818\n",
       "201806    6.6611\n",
       "201807    6.9126\n",
       "201808    7.0586\n",
       "201809    7.0513\n",
       "201810    6.9333\n",
       "201811    6.9719\n",
       "201812    6.9605\n",
       "201901    6.7481\n",
       "201902    6.7106\n",
       "201903    6.7666\n",
       "201904    6.6194\n",
       "201905    6.8746\n",
       "201906    7.0364\n",
       "201907    6.9561\n",
       "201908    7.2951\n",
       "201909    7.1762\n",
       "201910    7.1408\n",
       "201911    7.0443\n",
       "201912    7.1888\n",
       "202001    7.1643\n",
       "Name: chfspot, dtype: object"
      ]
     },
     "execution_count": 52,
     "metadata": {},
     "output_type": "execute_result"
    }
   ],
   "source": [
    "chfspot.columns = ['date','chfspot']\n",
    "chfspot['ym'] = chfspot['date'].map(lambda x: 100*x.year + x.month)\n",
    "chfspot = chfspot.dropna()\n",
    "chfspot.drop_duplicates('ym','last',inplace = True)\n",
    "chfspot = chfspot.set_index('ym')\n",
    "chfs = chfspot['chfspot'].drop(202002)\n",
    "chfs"
   ]
  },
  {
   "cell_type": "markdown",
   "metadata": {},
   "source": [
    "### hkdspot"
   ]
  },
  {
   "cell_type": "code",
   "execution_count": 53,
   "metadata": {},
   "outputs": [
    {
     "name": "stderr",
     "output_type": "stream",
     "text": [
      "G:\\Anaconda3\\lib\\site-packages\\ipykernel_launcher.py:4: SettingWithCopyWarning: \n",
      "A value is trying to be set on a copy of a slice from a DataFrame\n",
      "\n",
      "See the caveats in the documentation: http://pandas.pydata.org/pandas-docs/stable/user_guide/indexing.html#returning-a-view-versus-a-copy\n",
      "  after removing the cwd from sys.path.\n"
     ]
    },
    {
     "data": {
      "text/plain": [
       "ym\n",
       "199001      0.606\n",
       "199002     0.6062\n",
       "199003     0.6063\n",
       "199004     0.6074\n",
       "199005     0.6083\n",
       "           ...   \n",
       "201909    0.90976\n",
       "201910    0.89761\n",
       "201911    0.89771\n",
       "201912    0.89452\n",
       "202001     0.8914\n",
       "Name: hkdspot, Length: 361, dtype: object"
      ]
     },
     "execution_count": 53,
     "metadata": {},
     "output_type": "execute_result"
    }
   ],
   "source": [
    "hkdspot.columns = ['date','hkdspot']\n",
    "hkdspot['ym'] = hkdspot['date'].map(lambda x: 100*x.year + x.month)\n",
    "hkdspot = hkdspot.dropna()\n",
    "hkdspot.drop_duplicates('ym','last',inplace = True)\n",
    "hkdspot = hkdspot.set_index('ym')\n",
    "hkds = hkdspot['hkdspot'].drop(202002)\n",
    "hkds"
   ]
  },
  {
   "cell_type": "markdown",
   "metadata": {},
   "source": [
    "### audspot"
   ]
  },
  {
   "cell_type": "code",
   "execution_count": 54,
   "metadata": {},
   "outputs": [
    {
     "name": "stderr",
     "output_type": "stream",
     "text": [
      "G:\\Anaconda3\\lib\\site-packages\\ipykernel_launcher.py:4: SettingWithCopyWarning: \n",
      "A value is trying to be set on a copy of a slice from a DataFrame\n",
      "\n",
      "See the caveats in the documentation: http://pandas.pydata.org/pandas-docs/stable/user_guide/indexing.html#returning-a-view-versus-a-copy\n",
      "  after removing the cwd from sys.path.\n"
     ]
    },
    {
     "data": {
      "text/plain": [
       "ym\n",
       "199001    3.6494\n",
       "199002    3.5968\n",
       "199003    3.5731\n",
       "199004    3.5566\n",
       "199005    3.6328\n",
       "           ...  \n",
       "201909    4.8196\n",
       "201910     4.865\n",
       "201911    4.7639\n",
       "201912    4.8825\n",
       "202001    4.7632\n",
       "Name: audspot, Length: 361, dtype: object"
      ]
     },
     "execution_count": 54,
     "metadata": {},
     "output_type": "execute_result"
    }
   ],
   "source": [
    "audspot.columns = ['date','audspot']\n",
    "audspot['ym'] = audspot['date'].map(lambda x: 100*x.year + x.month)\n",
    "audspot = audspot.dropna()\n",
    "audspot.drop_duplicates('ym','last',inplace = True)\n",
    "audspot = audspot.set_index('ym')\n",
    "auds = audspot['audspot'].drop(202002)\n",
    "auds"
   ]
  },
  {
   "cell_type": "markdown",
   "metadata": {},
   "source": [
    "### nzdspot"
   ]
  },
  {
   "cell_type": "code",
   "execution_count": 55,
   "metadata": {},
   "outputs": [
    {
     "name": "stderr",
     "output_type": "stream",
     "text": [
      "G:\\Anaconda3\\lib\\site-packages\\ipykernel_launcher.py:4: SettingWithCopyWarning: \n",
      "A value is trying to be set on a copy of a slice from a DataFrame\n",
      "\n",
      "See the caveats in the documentation: http://pandas.pydata.org/pandas-docs/stable/user_guide/indexing.html#returning-a-view-versus-a-copy\n",
      "  after removing the cwd from sys.path.\n"
     ]
    },
    {
     "data": {
      "text/plain": [
       "ym\n",
       "201403    5.3331\n",
       "201404    5.3572\n",
       "201405    5.3026\n",
       "201406    5.4165\n",
       "201407    5.2379\n",
       "           ...  \n",
       "201909    4.4691\n",
       "201910    4.5251\n",
       "201911    4.5168\n",
       "201912    4.6948\n",
       "202001    4.5691\n",
       "Name: nzdspot, Length: 71, dtype: object"
      ]
     },
     "execution_count": 55,
     "metadata": {},
     "output_type": "execute_result"
    }
   ],
   "source": [
    "nzdspot.columns = ['date','nzdspot']\n",
    "nzdspot['ym'] = nzdspot['date'].map(lambda x: 100*x.year + x.month)\n",
    "nzdspot = nzdspot.dropna()\n",
    "nzdspot.drop_duplicates('ym','last',inplace = True)\n",
    "nzdspot = nzdspot.set_index('ym')\n",
    "nzds = nzdspot['nzdspot'].drop(202002)\n",
    "nzds"
   ]
  },
  {
   "cell_type": "markdown",
   "metadata": {},
   "source": [
    "### sgdspot"
   ]
  },
  {
   "cell_type": "code",
   "execution_count": 56,
   "metadata": {},
   "outputs": [
    {
     "name": "stderr",
     "output_type": "stream",
     "text": [
      "G:\\Anaconda3\\lib\\site-packages\\ipykernel_launcher.py:4: SettingWithCopyWarning: \n",
      "A value is trying to be set on a copy of a slice from a DataFrame\n",
      "\n",
      "See the caveats in the documentation: http://pandas.pydata.org/pandas-docs/stable/user_guide/indexing.html#returning-a-view-versus-a-copy\n",
      "  after removing the cwd from sys.path.\n"
     ]
    },
    {
     "data": {
      "text/plain": [
       "ym\n",
       "201410     4.755\n",
       "201411     4.714\n",
       "201412    4.6883\n",
       "201501    4.6256\n",
       "201502    4.6165\n",
       "           ...  \n",
       "201909    5.1592\n",
       "201910    5.1798\n",
       "201911    5.1409\n",
       "201912    5.1809\n",
       "202001    5.1346\n",
       "Name: sgdspot, Length: 64, dtype: object"
      ]
     },
     "execution_count": 56,
     "metadata": {},
     "output_type": "execute_result"
    }
   ],
   "source": [
    "sgdspot.columns = ['date','sgdspot']\n",
    "sgdspot['ym'] = sgdspot['date'].map(lambda x: 100*x.year + x.month)\n",
    "sgdspot = sgdspot.dropna()\n",
    "sgdspot.drop_duplicates('ym','last',inplace = True)\n",
    "sgdspot = sgdspot.set_index('ym')\n",
    "sgds = sgdspot['sgdspot'].drop(202002)\n",
    "sgds"
   ]
  },
  {
   "cell_type": "markdown",
   "metadata": {},
   "source": [
    "### cadspot"
   ]
  },
  {
   "cell_type": "code",
   "execution_count": 57,
   "metadata": {},
   "outputs": [
    {
     "name": "stderr",
     "output_type": "stream",
     "text": [
      "G:\\Anaconda3\\lib\\site-packages\\ipykernel_launcher.py:4: SettingWithCopyWarning: \n",
      "A value is trying to be set on a copy of a slice from a DataFrame\n",
      "\n",
      "See the caveats in the documentation: http://pandas.pydata.org/pandas-docs/stable/user_guide/indexing.html#returning-a-view-versus-a-copy\n",
      "  after removing the cwd from sys.path.\n"
     ]
    },
    {
     "data": {
      "text/plain": [
       "ym\n",
       "199001    3.9864\n",
       "199002    3.9734\n",
       "199003    4.0461\n",
       "199004    4.0645\n",
       "199005    4.0409\n",
       "           ...  \n",
       "201909    5.3949\n",
       "201910    5.3478\n",
       "201911    5.2902\n",
       "201912    5.3385\n",
       "202001    5.2684\n",
       "Name: cadspot, Length: 361, dtype: object"
      ]
     },
     "execution_count": 57,
     "metadata": {},
     "output_type": "execute_result"
    }
   ],
   "source": [
    "cadspot.columns = ['date','cadspot']\n",
    "cadspot['ym'] = cadspot['date'].map(lambda x: 100*x.year + x.month)\n",
    "cadspot = cadspot.dropna()\n",
    "cadspot.drop_duplicates('ym','last',inplace = True)\n",
    "cadspot = cadspot.set_index('ym')\n",
    "cads = cadspot['cadspot'].drop(202002)\n",
    "cads"
   ]
  },
  {
   "cell_type": "markdown",
   "metadata": {},
   "source": [
    "### cnhspot"
   ]
  },
  {
   "cell_type": "code",
   "execution_count": 12,
   "metadata": {},
   "outputs": [
    {
     "data": {
      "text/html": [
       "<div>\n",
       "<style scoped>\n",
       "    .dataframe tbody tr th:only-of-type {\n",
       "        vertical-align: middle;\n",
       "    }\n",
       "\n",
       "    .dataframe tbody tr th {\n",
       "        vertical-align: top;\n",
       "    }\n",
       "\n",
       "    .dataframe thead th {\n",
       "        text-align: right;\n",
       "    }\n",
       "</style>\n",
       "<table border=\"1\" class=\"dataframe\">\n",
       "  <thead>\n",
       "    <tr style=\"text-align: right;\">\n",
       "      <th></th>\n",
       "      <th>date</th>\n",
       "      <th>usdcnhspot</th>\n",
       "    </tr>\n",
       "    <tr>\n",
       "      <th>ym</th>\n",
       "      <th></th>\n",
       "      <th></th>\n",
       "    </tr>\n",
       "  </thead>\n",
       "  <tbody>\n",
       "    <tr>\n",
       "      <td>201204</td>\n",
       "      <td>2012-04-30 00:00:00</td>\n",
       "      <td>6.3005</td>\n",
       "    </tr>\n",
       "    <tr>\n",
       "      <td>201205</td>\n",
       "      <td>2012-05-31 00:00:00</td>\n",
       "      <td>6.3706</td>\n",
       "    </tr>\n",
       "    <tr>\n",
       "      <td>201206</td>\n",
       "      <td>2012-06-29 00:00:00</td>\n",
       "      <td>6.3551</td>\n",
       "    </tr>\n",
       "    <tr>\n",
       "      <td>201207</td>\n",
       "      <td>2012-07-31 00:00:00</td>\n",
       "      <td>6.3798</td>\n",
       "    </tr>\n",
       "    <tr>\n",
       "      <td>201208</td>\n",
       "      <td>2012-08-31 00:00:00</td>\n",
       "      <td>6.3557</td>\n",
       "    </tr>\n",
       "    <tr>\n",
       "      <td>...</td>\n",
       "      <td>...</td>\n",
       "      <td>...</td>\n",
       "    </tr>\n",
       "    <tr>\n",
       "      <td>201909</td>\n",
       "      <td>2019-09-30 00:00:00</td>\n",
       "      <td>7.14105</td>\n",
       "    </tr>\n",
       "    <tr>\n",
       "      <td>201910</td>\n",
       "      <td>2019-10-31 00:00:00</td>\n",
       "      <td>7.04655</td>\n",
       "    </tr>\n",
       "    <tr>\n",
       "      <td>201911</td>\n",
       "      <td>2019-11-29 00:00:00</td>\n",
       "      <td>7.03235</td>\n",
       "    </tr>\n",
       "    <tr>\n",
       "      <td>201912</td>\n",
       "      <td>2019-12-31 00:00:00</td>\n",
       "      <td>6.9617</td>\n",
       "    </tr>\n",
       "    <tr>\n",
       "      <td>202001</td>\n",
       "      <td>2020-01-31 00:00:00</td>\n",
       "      <td>7.0001</td>\n",
       "    </tr>\n",
       "  </tbody>\n",
       "</table>\n",
       "<p>94 rows × 2 columns</p>\n",
       "</div>"
      ],
      "text/plain": [
       "                       date usdcnhspot\n",
       "ym                                    \n",
       "201204  2012-04-30 00:00:00     6.3005\n",
       "201205  2012-05-31 00:00:00     6.3706\n",
       "201206  2012-06-29 00:00:00     6.3551\n",
       "201207  2012-07-31 00:00:00     6.3798\n",
       "201208  2012-08-31 00:00:00     6.3557\n",
       "...                     ...        ...\n",
       "201909  2019-09-30 00:00:00    7.14105\n",
       "201910  2019-10-31 00:00:00    7.04655\n",
       "201911  2019-11-29 00:00:00    7.03235\n",
       "201912  2019-12-31 00:00:00     6.9617\n",
       "202001  2020-01-31 00:00:00     7.0001\n",
       "\n",
       "[94 rows x 2 columns]"
      ]
     },
     "execution_count": 12,
     "metadata": {},
     "output_type": "execute_result"
    }
   ],
   "source": [
    "cnhspot = pd.read_excel('离岸人民币汇率(日)USDCNH即期汇率.xlsx')\n",
    "cnhspot = cnhspot.drop([0,2021,2022])\n",
    "cnhspot.columns = ['date','usdcnhspot']\n",
    "cnhspot['ym'] = cnhspot['date'].map(lambda x:100*x.year + x.month)\n",
    "cnhspot.drop_duplicates('ym','last',inplace = True)\n",
    "cnhspot = cnhspot.drop(2020)\n",
    "cnhspot = cnhspot.set_index('ym')\n",
    "cnhspot"
   ]
  },
  {
   "cell_type": "code",
   "execution_count": 13,
   "metadata": {},
   "outputs": [
    {
     "data": {
      "text/plain": [
       "ym\n",
       "201204     6.3005\n",
       "201205     6.3706\n",
       "201206     6.3551\n",
       "201207     6.3798\n",
       "201208     6.3557\n",
       "           ...   \n",
       "201909    7.14105\n",
       "201910    7.04655\n",
       "201911    7.03235\n",
       "201912     6.9617\n",
       "202001     7.0001\n",
       "Name: usdcnhspot, Length: 94, dtype: object"
      ]
     },
     "execution_count": 13,
     "metadata": {},
     "output_type": "execute_result"
    }
   ],
   "source": [
    "cnhs = cnhspot.iloc[:,1]\n",
    "cnhs"
   ]
  },
  {
   "cell_type": "code",
   "execution_count": 14,
   "metadata": {},
   "outputs": [],
   "source": [
    "def ercnh(raws,rawr):\n",
    "    s = pd.DataFrame(raws.dropna()) #导入即期汇率\n",
    "    r = pd.DataFrame(rawr.dropna()) / 12 #导入外国利率，年化利率转成单月利率\n",
    "    #cnh = pd.DataFrame(cnhhibor) / 12 #导入本国利率，年化利率转成单月利率\n",
    "    onshoreint = pd.DataFrame(sh) / 12\n",
    "    sincar = onshoreint.join(r.join(s)).dropna() #将本国利率、外国利率、即期汇率拼接在一起\n",
    "    sincar['payoff'] = 0 #生成空列放置套息交易回报\n",
    "    n = sincar.iloc[:,0].count() #判断行数\n",
    "    for m in range(1,n):\n",
    "        rcn = sincar.iloc[m-1,0] #上一期t-1的本国利率\n",
    "        rk = sincar.iloc[m-1,1] #上一期t-1的外国利率\n",
    "        sm1 = sincar.iloc[m-1,2] #上一期t-1的汇率\n",
    "        s = sincar.iloc[m,2] #当期t的汇率\n",
    "        if rk > rcn :\n",
    "            sincar.iloc[m,3] = (1 + rk) * s / sm1 - (1 + rcn) #当外国利率高于本国利率时借入本币投资外币\n",
    "#             sincar.iloc[m,3] = (1 + rk) - (1 + rcn) * sm1 / s #payoff denominated in USD\n",
    "        else:\n",
    "            sincar.iloc[m,3] = (1 + rcn) - (1 + rk) * s / sm1 #当本国利率高于外国利率时借入外币投资本币\n",
    "#             sincar.iloc[m,3] = (1 + rcn) * sm1 / s - (1 + rk) #payoff denominated in USD\n",
    "    return sincar #返回带有payoff的sincar数据框"
   ]
  },
  {
   "cell_type": "code",
   "execution_count": 16,
   "metadata": {},
   "outputs": [
    {
     "data": {
      "text/html": [
       "<div>\n",
       "<style scoped>\n",
       "    .dataframe tbody tr th:only-of-type {\n",
       "        vertical-align: middle;\n",
       "    }\n",
       "\n",
       "    .dataframe tbody tr th {\n",
       "        vertical-align: top;\n",
       "    }\n",
       "\n",
       "    .dataframe thead th {\n",
       "        text-align: right;\n",
       "    }\n",
       "</style>\n",
       "<table border=\"1\" class=\"dataframe\">\n",
       "  <thead>\n",
       "    <tr style=\"text-align: right;\">\n",
       "      <th></th>\n",
       "      <th>Shibor1M</th>\n",
       "      <th>USLibor1M</th>\n",
       "      <th>usdcnhspot</th>\n",
       "    </tr>\n",
       "    <tr>\n",
       "      <th>ym</th>\n",
       "      <th></th>\n",
       "      <th></th>\n",
       "      <th></th>\n",
       "    </tr>\n",
       "  </thead>\n",
       "  <tbody>\n",
       "    <tr>\n",
       "      <td>201204</td>\n",
       "      <td>0.0404</td>\n",
       "      <td>0.0023875</td>\n",
       "      <td>6.3005</td>\n",
       "    </tr>\n",
       "    <tr>\n",
       "      <td>201205</td>\n",
       "      <td>0.029642</td>\n",
       "      <td>0.0023875</td>\n",
       "      <td>6.3706</td>\n",
       "    </tr>\n",
       "    <tr>\n",
       "      <td>201206</td>\n",
       "      <td>0.044758</td>\n",
       "      <td>0.0024575</td>\n",
       "      <td>6.3551</td>\n",
       "    </tr>\n",
       "    <tr>\n",
       "      <td>201207</td>\n",
       "      <td>0.033479</td>\n",
       "      <td>0.002457</td>\n",
       "      <td>6.3798</td>\n",
       "    </tr>\n",
       "    <tr>\n",
       "      <td>201208</td>\n",
       "      <td>0.03652</td>\n",
       "      <td>0.002305</td>\n",
       "      <td>6.3557</td>\n",
       "    </tr>\n",
       "    <tr>\n",
       "      <td>...</td>\n",
       "      <td>...</td>\n",
       "      <td>...</td>\n",
       "      <td>...</td>\n",
       "    </tr>\n",
       "    <tr>\n",
       "      <td>201909</td>\n",
       "      <td>0.02762</td>\n",
       "      <td>0.0201563</td>\n",
       "      <td>7.14105</td>\n",
       "    </tr>\n",
       "    <tr>\n",
       "      <td>201910</td>\n",
       "      <td>0.02775</td>\n",
       "      <td>0.0178488</td>\n",
       "      <td>7.04655</td>\n",
       "    </tr>\n",
       "    <tr>\n",
       "      <td>201911</td>\n",
       "      <td>0.02783</td>\n",
       "      <td>0.0169713</td>\n",
       "      <td>7.03235</td>\n",
       "    </tr>\n",
       "    <tr>\n",
       "      <td>201912</td>\n",
       "      <td>0.029785</td>\n",
       "      <td>0.017625</td>\n",
       "      <td>6.9617</td>\n",
       "    </tr>\n",
       "    <tr>\n",
       "      <td>202001</td>\n",
       "      <td>0.02822</td>\n",
       "      <td>0.0166188</td>\n",
       "      <td>7.0001</td>\n",
       "    </tr>\n",
       "  </tbody>\n",
       "</table>\n",
       "<p>94 rows × 3 columns</p>\n",
       "</div>"
      ],
      "text/plain": [
       "        Shibor1M  USLibor1M usdcnhspot\n",
       "ym                                    \n",
       "201204    0.0404  0.0023875     6.3005\n",
       "201205  0.029642  0.0023875     6.3706\n",
       "201206  0.044758  0.0024575     6.3551\n",
       "201207  0.033479   0.002457     6.3798\n",
       "201208   0.03652   0.002305     6.3557\n",
       "...          ...        ...        ...\n",
       "201909   0.02762  0.0201563    7.14105\n",
       "201910   0.02775  0.0178488    7.04655\n",
       "201911   0.02783  0.0169713    7.03235\n",
       "201912  0.029785   0.017625     6.9617\n",
       "202001   0.02822  0.0166188     7.0001\n",
       "\n",
       "[94 rows x 3 columns]"
      ]
     },
     "execution_count": 16,
     "metadata": {},
     "output_type": "execute_result"
    }
   ],
   "source": [
    "onshoreint = pd.DataFrame(sh)\n",
    "r = pd.DataFrame(us)\n",
    "s = pd.DataFrame(cnhs)\n",
    "test = onshoreint.join(r.join(s)).dropna()\n",
    "test"
   ]
  },
  {
   "cell_type": "code",
   "execution_count": 15,
   "metadata": {
    "scrolled": true
   },
   "outputs": [
    {
     "data": {
      "text/html": [
       "<div>\n",
       "<style scoped>\n",
       "    .dataframe tbody tr th:only-of-type {\n",
       "        vertical-align: middle;\n",
       "    }\n",
       "\n",
       "    .dataframe tbody tr th {\n",
       "        vertical-align: top;\n",
       "    }\n",
       "\n",
       "    .dataframe thead th {\n",
       "        text-align: right;\n",
       "    }\n",
       "</style>\n",
       "<table border=\"1\" class=\"dataframe\">\n",
       "  <thead>\n",
       "    <tr style=\"text-align: right;\">\n",
       "      <th></th>\n",
       "      <th>Shibor1M</th>\n",
       "      <th>USLibor1M</th>\n",
       "      <th>usdcnhspot</th>\n",
       "      <th>payoff</th>\n",
       "    </tr>\n",
       "    <tr>\n",
       "      <th>ym</th>\n",
       "      <th></th>\n",
       "      <th></th>\n",
       "      <th></th>\n",
       "      <th></th>\n",
       "    </tr>\n",
       "  </thead>\n",
       "  <tbody>\n",
       "    <tr>\n",
       "      <td>201204</td>\n",
       "      <td>0.00336667</td>\n",
       "      <td>0.000198958</td>\n",
       "      <td>6.3005</td>\n",
       "      <td>0.000000</td>\n",
       "    </tr>\n",
       "    <tr>\n",
       "      <td>201205</td>\n",
       "      <td>0.00247017</td>\n",
       "      <td>0.000198958</td>\n",
       "      <td>6.3706</td>\n",
       "      <td>-0.007961</td>\n",
       "    </tr>\n",
       "    <tr>\n",
       "      <td>201206</td>\n",
       "      <td>0.00372983</td>\n",
       "      <td>0.000204792</td>\n",
       "      <td>6.3551</td>\n",
       "      <td>0.004705</td>\n",
       "    </tr>\n",
       "    <tr>\n",
       "      <td>201207</td>\n",
       "      <td>0.00278992</td>\n",
       "      <td>0.00020475</td>\n",
       "      <td>6.3798</td>\n",
       "      <td>-0.000362</td>\n",
       "    </tr>\n",
       "    <tr>\n",
       "      <td>201208</td>\n",
       "      <td>0.00304333</td>\n",
       "      <td>0.000192083</td>\n",
       "      <td>6.3557</td>\n",
       "      <td>0.006363</td>\n",
       "    </tr>\n",
       "    <tr>\n",
       "      <td>...</td>\n",
       "      <td>...</td>\n",
       "      <td>...</td>\n",
       "      <td>...</td>\n",
       "      <td>...</td>\n",
       "    </tr>\n",
       "    <tr>\n",
       "      <td>201909</td>\n",
       "      <td>0.00230167</td>\n",
       "      <td>0.00167969</td>\n",
       "      <td>7.14105</td>\n",
       "      <td>0.003358</td>\n",
       "    </tr>\n",
       "    <tr>\n",
       "      <td>201910</td>\n",
       "      <td>0.0023125</td>\n",
       "      <td>0.0014874</td>\n",
       "      <td>7.04655</td>\n",
       "      <td>0.013878</td>\n",
       "    </tr>\n",
       "    <tr>\n",
       "      <td>201911</td>\n",
       "      <td>0.00231917</td>\n",
       "      <td>0.00141428</td>\n",
       "      <td>7.03235</td>\n",
       "      <td>0.002843</td>\n",
       "    </tr>\n",
       "    <tr>\n",
       "      <td>201912</td>\n",
       "      <td>0.00248208</td>\n",
       "      <td>0.00146875</td>\n",
       "      <td>6.9617</td>\n",
       "      <td>0.010966</td>\n",
       "    </tr>\n",
       "    <tr>\n",
       "      <td>202001</td>\n",
       "      <td>0.00235167</td>\n",
       "      <td>0.0013849</td>\n",
       "      <td>7.0001</td>\n",
       "      <td>-0.004511</td>\n",
       "    </tr>\n",
       "  </tbody>\n",
       "</table>\n",
       "<p>94 rows × 4 columns</p>\n",
       "</div>"
      ],
      "text/plain": [
       "          Shibor1M    USLibor1M usdcnhspot    payoff\n",
       "ym                                                  \n",
       "201204  0.00336667  0.000198958     6.3005  0.000000\n",
       "201205  0.00247017  0.000198958     6.3706 -0.007961\n",
       "201206  0.00372983  0.000204792     6.3551  0.004705\n",
       "201207  0.00278992   0.00020475     6.3798 -0.000362\n",
       "201208  0.00304333  0.000192083     6.3557  0.006363\n",
       "...            ...          ...        ...       ...\n",
       "201909  0.00230167   0.00167969    7.14105  0.003358\n",
       "201910   0.0023125    0.0014874    7.04655  0.013878\n",
       "201911  0.00231917   0.00141428    7.03235  0.002843\n",
       "201912  0.00248208   0.00146875     6.9617  0.010966\n",
       "202001  0.00235167    0.0013849     7.0001 -0.004511\n",
       "\n",
       "[94 rows x 4 columns]"
      ]
     },
     "execution_count": 15,
     "metadata": {},
     "output_type": "execute_result"
    }
   ],
   "source": [
    "cnhcar = ercnh(cnhs,us)\n",
    "cnhcar"
   ]
  },
  {
   "cell_type": "code",
   "execution_count": 17,
   "metadata": {},
   "outputs": [
    {
     "data": {
      "text/plain": [
       "count    94.000000\n",
       "mean      0.001204\n",
       "std       0.012421\n",
       "min      -0.036213\n",
       "25%      -0.004501\n",
       "50%       0.003101\n",
       "75%       0.008591\n",
       "max       0.035775\n",
       "Name: cnhcarpayoff, dtype: float64"
      ]
     },
     "execution_count": 17,
     "metadata": {},
     "output_type": "execute_result"
    }
   ],
   "source": [
    "cnhcar.rename(columns = {'payoff':'cnhcarpayoff'},inplace = True)\n",
    "cnhcarpayoff = cnhcar.loc[:,'cnhcarpayoff']\n",
    "cnhcarpayoff.to_excel('cnhcarpayoff_onshoreintv2.xlsx') # using onshore interest rate\n",
    "cnhcarpayoff.describe()"
   ]
  },
  {
   "cell_type": "markdown",
   "metadata": {},
   "source": [
    "## Re-execute carry trade strategy"
   ]
  },
  {
   "cell_type": "code",
   "execution_count": null,
   "metadata": {},
   "outputs": [],
   "source": [
    "def er3(raws,rawr):\n",
    "    s = pd.DataFrame(raws.dropna()) #导入即期汇率\n",
    "    r = pd.DataFrame(rawr.dropna()) / 12 #导入外国利率，年化利率转成单月利率\n",
    "    shibor = pd.DataFrame(sh) / 12 #导入本国利率，年化利率转成单月利率\n",
    "    sincar = shibor.join(r.join(s)).dropna() #将本国利率、外国利率、即期汇率拼接在一起\n",
    "    sincar['payoff'] = 0 #生成空列放置套息交易回报\n",
    "    n = sincar.iloc[:,0].count() #判断行数\n",
    "    for m in range(1,n):\n",
    "        rcn = sincar.iloc[m-1,0] #上一期t-1的本国利率\n",
    "        rk = sincar.iloc[m-1,1] #上一期t-1的外国利率\n",
    "        sm1 = sincar.iloc[m-1,2] #上一期t-1的汇率\n",
    "        s = sincar.iloc[m,2] #当期t的汇率\n",
    "        if rk > rcn :\n",
    "            sincar.iloc[m,3] = (1 + rk) * s / sm1 - (1 + rcn) #当外国利率高于本国利率时借入本币投资外币\n",
    "        else:\n",
    "            sincar.iloc[m,3] = (1 + rcn) - (1 + rk) * s / sm1 #当本国利率高于外国利率时借入外币投资本币\n",
    "    return sincar #返回带有payoff的sincar数据框"
   ]
  },
  {
   "cell_type": "markdown",
   "metadata": {},
   "source": [
    "### usdcar"
   ]
  },
  {
   "cell_type": "code",
   "execution_count": null,
   "metadata": {},
   "outputs": [],
   "source": [
    "usdcar3 = er3(usds,us)\n",
    "usdcar3"
   ]
  },
  {
   "cell_type": "code",
   "execution_count": null,
   "metadata": {},
   "outputs": [],
   "source": [
    "usdcarpayoff = usdcar3['payoff'].drop(200610)\n",
    "usdcarpayoff.rename('usdcarr',inplace = True)\n",
    "usdcarpayoff.describe()"
   ]
  },
  {
   "cell_type": "markdown",
   "metadata": {},
   "source": [
    "### eurcar"
   ]
  },
  {
   "cell_type": "code",
   "execution_count": null,
   "metadata": {},
   "outputs": [],
   "source": [
    "eurcar3 = er3(eurs,eu)\n",
    "eurcar3"
   ]
  },
  {
   "cell_type": "code",
   "execution_count": null,
   "metadata": {},
   "outputs": [],
   "source": [
    "eurcarpayoff = eurcar3['payoff'].drop(200610)\n",
    "eurcarpayoff.rename('eurcarr',inplace = True)\n",
    "eurcarpayoff.describe()"
   ]
  },
  {
   "cell_type": "markdown",
   "metadata": {},
   "source": [
    "### jpycar"
   ]
  },
  {
   "cell_type": "code",
   "execution_count": null,
   "metadata": {},
   "outputs": [],
   "source": [
    "jpycar3 = er3(jpys,jp)\n",
    "jpycarpayoff = jpycar3['payoff'].drop(200905)\n",
    "jpycarpayoff.rename('jpycarr',inplace = True)\n",
    "jpycarpayoff.describe()"
   ]
  },
  {
   "cell_type": "markdown",
   "metadata": {},
   "source": [
    "### gbpcar"
   ]
  },
  {
   "cell_type": "code",
   "execution_count": null,
   "metadata": {},
   "outputs": [],
   "source": [
    "gbpcar3 = er3(gbps,gb)\n",
    "gbpcar3\n",
    "gbpcarpayoff = gbpcar3['payoff'].drop(200610)\n",
    "gbpcarpayoff.rename('gbpcarr',inplace = True)\n",
    "gbpcarpayoff.describe()"
   ]
  },
  {
   "cell_type": "markdown",
   "metadata": {},
   "source": [
    "### chfcar"
   ]
  },
  {
   "cell_type": "code",
   "execution_count": null,
   "metadata": {},
   "outputs": [],
   "source": [
    "chfcar3 = er3(chfs,sw)\n",
    "chfcarpayoff = chfcar3['payoff'].drop(201511)\n",
    "chfcarpayoff.rename('chfcarr',inplace = True)\n",
    "chfcarpayoff.describe()"
   ]
  },
  {
   "cell_type": "markdown",
   "metadata": {},
   "source": [
    "### hkdcar"
   ]
  },
  {
   "cell_type": "code",
   "execution_count": null,
   "metadata": {},
   "outputs": [],
   "source": [
    "hkdcar3 = er3(hkds,hk)\n",
    "hkdcarpayoff = hkdcar3['payoff'].drop(200610)\n",
    "hkdcarpayoff.rename('hkdcarr',inplace = True)\n",
    "hkdcarpayoff.describe()"
   ]
  },
  {
   "cell_type": "markdown",
   "metadata": {},
   "source": [
    "### audcar"
   ]
  },
  {
   "cell_type": "code",
   "execution_count": null,
   "metadata": {},
   "outputs": [],
   "source": [
    "audcar3 = er3(auds,au)\n",
    "audcar3\n",
    "audcarpayoff = audcar3['payoff'].drop(200610)\n",
    "audcarpayoff.rename('audcarr',inplace = True)\n",
    "audcarpayoff.describe()"
   ]
  },
  {
   "cell_type": "markdown",
   "metadata": {},
   "source": [
    "### nzdcar"
   ]
  },
  {
   "cell_type": "code",
   "execution_count": null,
   "metadata": {},
   "outputs": [],
   "source": [
    "nzdcar3 = er3(nzds,nz)\n",
    "nzdcarpayoff = nzdcar3['payoff'].drop(201403)\n",
    "nzdcarpayoff.rename('nzdcarr',inplace = True)\n",
    "nzdcarpayoff.describe()"
   ]
  },
  {
   "cell_type": "markdown",
   "metadata": {},
   "source": [
    "### sgdcar"
   ]
  },
  {
   "cell_type": "code",
   "execution_count": null,
   "metadata": {},
   "outputs": [],
   "source": [
    "sgdcar3 = er3(sgds,sg)\n",
    "sgdcarpayoff = sgdcar3['payoff'].drop(201410)\n",
    "sgdcarpayoff.rename('sgdcarr',inplace = True)\n",
    "sgdcarpayoff.describe()"
   ]
  },
  {
   "cell_type": "markdown",
   "metadata": {},
   "source": [
    "### cadcar"
   ]
  },
  {
   "cell_type": "code",
   "execution_count": null,
   "metadata": {},
   "outputs": [],
   "source": [
    "cadcar3 = er3(cads,ca)\n",
    "cadcarpayoff = cadcar3['payoff'].drop(200610)\n",
    "cadcarpayoff.rename('cadcarr',inplace = True)\n",
    "cadcarpayoff.describe()"
   ]
  },
  {
   "cell_type": "markdown",
   "metadata": {},
   "source": [
    "### Merge"
   ]
  },
  {
   "cell_type": "code",
   "execution_count": null,
   "metadata": {},
   "outputs": [],
   "source": [
    "output3 = pd.concat([usdcarpayoff,eurcarpayoff,jpycarpayoff,\\\n",
    "                     gbpcarpayoff,chfcarpayoff,hkdcarpayoff,\\\n",
    "                     audcarpayoff,nzdcarpayoff,sgdcarpayoff,\\\n",
    "                     cadcarpayoff],axis = 1)\n",
    "output3.to_excel('Corrected Fml Single Currency Pair Results.xlsx')"
   ]
  },
  {
   "cell_type": "markdown",
   "metadata": {},
   "source": [
    "### Portfolio Construction"
   ]
  },
  {
   "cell_type": "code",
   "execution_count": null,
   "metadata": {},
   "outputs": [],
   "source": [
    "intpkg = pd.concat([us,eu,jp,gb,sw,hk,au,nz,sg,ca],axis = 1) #年化利率package\n",
    "intpkg = pd.DataFrame(sh).join(intpkg)\n",
    "intpkg = intpkg / 12\n",
    "intpkg.to_excel('intpkg.xlsx')"
   ]
  },
  {
   "cell_type": "code",
   "execution_count": null,
   "metadata": {},
   "outputs": [],
   "source": [
    "intdb = pd.read_excel('reducedintpkg2.xlsx')\n",
    "intdb = intdb.set_index('ym')\n",
    "intdb = intdb / 12 #储存月利率\n",
    "intdb.to_excel('intdb.xlsx')\n",
    "intdb"
   ]
  },
  {
   "cell_type": "code",
   "execution_count": null,
   "metadata": {},
   "outputs": [],
   "source": [
    "intrk = intdb.rank(axis = 1)\n",
    "intrk.to_excel('intrk.xlsx')\n",
    "intrk"
   ]
  },
  {
   "cell_type": "code",
   "execution_count": null,
   "metadata": {},
   "outputs": [],
   "source": [
    "spotdb = pd.concat([usds,eurs,jpys,gbps,chfs,hkds,auds,nzds,sgds,cads],axis = 1)\n",
    "# intpkg = pd.concat([us,eu,jp,gb,sw,hk,au,nz,sg,ca],axis = 1) #年化利率package\n",
    "# intpkg = pd.DataFrame(sh).join(intpkg)\n",
    "spotdb = pd.DataFrame(sh).join(spotdb)\n",
    "spotdb = spotdb.drop(['Shibor1M'],axis = 1)\n",
    "spotdb.to_excel('spotdb.xlsx')\n",
    "spotdb"
   ]
  },
  {
   "cell_type": "code",
   "execution_count": null,
   "metadata": {},
   "outputs": [],
   "source": [
    "spotdb.iloc[0,[0,1]].mean()"
   ]
  },
  {
   "cell_type": "code",
   "execution_count": null,
   "metadata": {},
   "outputs": [],
   "source": [
    "intrk.loc[200610,:].count()"
   ]
  },
  {
   "cell_type": "code",
   "execution_count": null,
   "metadata": {},
   "outputs": [],
   "source": [
    "import math as mt\n",
    "for i in range(6,11):\n",
    "    print([mt.ceil(i*0.25),mt.floor(i*0.25),mt.floor(i*0.25),mt.ceil(i*0.25)])"
   ]
  },
  {
   "cell_type": "code",
   "execution_count": null,
   "metadata": {},
   "outputs": [],
   "source": [
    "carryport = pd.DataFrame(index = intrk.index,columns = ['p1','p2','p3','p4'])\n",
    "carryport"
   ]
  },
  {
   "cell_type": "code",
   "execution_count": null,
   "metadata": {},
   "outputs": [],
   "source": [
    "idxls = list(carryport.index)\n",
    "idxls[1]"
   ]
  },
  {
   "cell_type": "code",
   "execution_count": null,
   "metadata": {},
   "outputs": [],
   "source": [
    "for i in range(1,160):\n",
    "    cols = intrk.iloc[i-1,:].count() #统计该行共有多少个非空列，即多少种货币available\n",
    "    #组合容器：空\n",
    "    p1 = list()\n",
    "    p2 = list()\n",
    "    p3 = list()\n",
    "    p4 = list()\n",
    "    if cols == 6:\n",
    "        qtiles = [1,3,5,6]\n",
    "        alloport(qtiles)\n",
    "    elif cols == 7:\n",
    "        qtiles = [2,4,6,7]\n",
    "        alloport(qtiles)\n",
    "    elif cols == 8:\n",
    "        qtiles = [2,4,6,8]\n",
    "        alloport(qtiles)\n",
    "    elif cols == 9:\n",
    "        qtiles = [2,5,7,9]\n",
    "        alloport(qtiles)\n",
    "    elif cols == 10:\n",
    "        qtiles = [2,5,8,10]\n",
    "        alloport(qtiles)\n",
    "   #组合容器：p1-p4列表中储存着列索引的集合e.g.[0,3]\n",
    "   #判断组合中货币的利率均值是否高于CNY\n",
    "#     signp1 = decidesign(p1)\n",
    "#     signp2 = decidesign(p2)\n",
    "#     signp3 = decidesign(p3)\n",
    "#     signp4 = decidesign(p4)\n",
    "#     carryport.iloc[i,0] = signp1 * genrt(p1)\n",
    "#     carryport.iloc[i,1] = signp2 * genrt(p2)\n",
    "#     carryport.iloc[i,2] = signp3 * genrt(p3)\n",
    "#     carryport.iloc[i,3] = signp4 * genrt(p4)\n",
    "    carryport.iloc[i,0] = genrt(p1)\n",
    "    carryport.iloc[i,1] = genrt(p2)\n",
    "    carryport.iloc[i,2] = genrt(p3)\n",
    "    carryport.iloc[i,3] = genrt(p4)"
   ]
  },
  {
   "cell_type": "code",
   "execution_count": null,
   "metadata": {},
   "outputs": [],
   "source": [
    "def alloport(qtiles):\n",
    "    for j in range(10): #开始对列排查\n",
    "        if pd.isnull(intrk.iloc[i-1,j]):\n",
    "            pass #如果这个数据空缺就跳过\n",
    "        else:\n",
    "            if intrk.iloc[i-1,j] <= qtiles[0]: #属于p1\n",
    "                p1.append(j)\n",
    "            elif qtiles[0] < intrk.iloc[i-1,j] <= qtiles[1]: #属于p2\n",
    "                p2.append(j)\n",
    "            elif qtiles[1] < intrk.iloc[i-1,j] <= qtiles[2]: #属于p3\n",
    "                p3.append(j)\n",
    "            else: #属于p4\n",
    "                p4.append(j)"
   ]
  },
  {
   "cell_type": "code",
   "execution_count": null,
   "metadata": {},
   "outputs": [],
   "source": [
    "def decidesign(port):\n",
    "    if intdb.iloc[i-1,port].mean() > (dfsh.iloc[i-1,0] / 12): #若组合中货币上一期的平均利率高于上一期的shibor\n",
    "        signp = 1 #借入shibor sigma - (1+shibor)\n",
    "    else:\n",
    "        signp = -1\n",
    "    return signp"
   ]
  },
  {
   "cell_type": "code",
   "execution_count": null,
   "metadata": {},
   "outputs": [],
   "source": [
    "dfsh = pd.DataFrame(sh)\n",
    "dfsh"
   ]
  },
  {
   "cell_type": "code",
   "execution_count": null,
   "metadata": {},
   "outputs": [],
   "source": [
    "def genrt(port):\n",
    "    size = len(port) #组合中货币的数量\n",
    "    summ = []\n",
    "    for u in range(size):\n",
    "        colidx = port[u] #获取该种货币的列索引\n",
    "        st = spotdb.iloc[i,colidx] #当期汇率\n",
    "        stm1 = spotdb.iloc[i-1,colidx] #上一期汇率\n",
    "        it = intdb.iloc[i-1,colidx] #上一期的利率\n",
    "        payoff = (1 + it) * (st / stm1) #组合中单一货币的payoff\n",
    "        summ.append(payoff)\n",
    "    avgpf = sum(summ) / size\n",
    "    avger = avgpf - (1 + dfsh.iloc[i-1,0] / 12) #组合的超额收益\n",
    "    return avger"
   ]
  },
  {
   "cell_type": "code",
   "execution_count": null,
   "metadata": {},
   "outputs": [],
   "source": [
    "summ = [0.1,0.2]\n",
    "sum(summ) / len(summ)\n",
    "summ[0]"
   ]
  },
  {
   "cell_type": "code",
   "execution_count": null,
   "metadata": {},
   "outputs": [],
   "source": [
    "carryport.to_excel('carryportfolio_v4.xlsx')"
   ]
  },
  {
   "cell_type": "code",
   "execution_count": null,
   "metadata": {},
   "outputs": [],
   "source": [
    "mktrt = pd.DataFrame(index = intrk.index,columns = ['avg'])\n",
    "mktrt"
   ]
  },
  {
   "cell_type": "code",
   "execution_count": null,
   "metadata": {},
   "outputs": [],
   "source": [
    "for i in range(1,160):\n",
    "    cols = intrk.iloc[i-1,:].count() #统计该行共有多少个非空列，即多少种货币available\n",
    "    summ = []\n",
    "    for j in range(10): #开始对列排查\n",
    "        if pd.isnull(intrk.iloc[i-1,j]):\n",
    "            pass #如果这个数据空缺就跳过\n",
    "        else:\n",
    "            st = spotdb.iloc[i,j] #当期汇率\n",
    "            stm1 = spotdb.iloc[i-1,j] #上一期汇率\n",
    "            it = intdb.iloc[i-1,j] #上一期的利率\n",
    "            payoff = (1 + it) * (st / stm1) - (1 + dfsh.iloc[i-1,0] / 12) #单一货币的超额收益\n",
    "            summ.append(payoff)\n",
    "    avgi = sum(summ) / cols\n",
    "    mktrt.iloc[i,0] = avgi"
   ]
  },
  {
   "cell_type": "code",
   "execution_count": null,
   "metadata": {},
   "outputs": [],
   "source": [
    "mktrt.to_excel('mktrt.xlsx')"
   ]
  },
  {
   "cell_type": "code",
   "execution_count": null,
   "metadata": {},
   "outputs": [],
   "source": []
  },
  {
   "cell_type": "markdown",
   "metadata": {},
   "source": [
    "## Spot exchange rate(with bid ask)"
   ]
  },
  {
   "cell_type": "code",
   "execution_count": null,
   "metadata": {},
   "outputs": [],
   "source": [
    "exbid = pd.read_excel('汇买价(中行)(日).xlsx').drop([6259,6260])\n",
    "exbid.columns = ['date','usdb','eurb','hkdb','100jpyb',\\\n",
    "                 'gbpb','thbb','sgdb','Philipine','Macao',\\\n",
    "                 'chfb','audb','nzdb','cadb']\n",
    "exbid['100jpyb'] /= 100\n",
    "exbid['thbbnew'] = 1 / exbid['thbb']\n",
    "exbid"
   ]
  },
  {
   "cell_type": "code",
   "execution_count": null,
   "metadata": {},
   "outputs": [],
   "source": [
    "exask = pd.read_excel('汇卖价(中行)(日).xlsx').drop([6259,6260])\n",
    "exask.columns = ['date','usda','eura','hkda','100jpya',\\\n",
    "                 'gbpa','thba','sgda','Philipine','Macao',\\\n",
    "                 'chfa','auda','nzda','cada']\n",
    "exask['100jpya'] /= 100\n",
    "exask['thbanew'] = 1 / exask['thba']\n",
    "exask"
   ]
  },
  {
   "cell_type": "code",
   "execution_count": null,
   "metadata": {},
   "outputs": [],
   "source": [
    "exbid['ym'] = exbid['date'].map(lambda x: 100*x.year + x.month)\n",
    "exbid.drop_duplicates('ym','last',inplace = True)\n",
    "exbid = exbid.set_index('ym').drop([202002])\n",
    "exbid"
   ]
  },
  {
   "cell_type": "code",
   "execution_count": null,
   "metadata": {},
   "outputs": [],
   "source": [
    "exask['ym'] = exask['date'].map(lambda x: 100*x.year + x.month)\n",
    "exask.drop_duplicates('ym','last',inplace = True)\n",
    "exask = exask.set_index('ym').drop([202002])\n",
    "exask"
   ]
  },
  {
   "cell_type": "markdown",
   "metadata": {},
   "source": [
    "### USD"
   ]
  },
  {
   "cell_type": "code",
   "execution_count": null,
   "metadata": {},
   "outputs": [],
   "source": [
    "usdb = exbid.loc[:,'usdb']\n",
    "usdb"
   ]
  },
  {
   "cell_type": "code",
   "execution_count": null,
   "metadata": {},
   "outputs": [],
   "source": [
    "usda = exask.loc[:,'usda']\n",
    "usda"
   ]
  },
  {
   "cell_type": "markdown",
   "metadata": {},
   "source": [
    "### EUR"
   ]
  },
  {
   "cell_type": "code",
   "execution_count": null,
   "metadata": {},
   "outputs": [],
   "source": [
    "eurb = exbid.loc[:,'eurb']\n",
    "eurb"
   ]
  },
  {
   "cell_type": "code",
   "execution_count": null,
   "metadata": {},
   "outputs": [],
   "source": [
    "eura = exask.loc[:,'eura']\n",
    "eura"
   ]
  },
  {
   "cell_type": "markdown",
   "metadata": {},
   "source": [
    "### JPY"
   ]
  },
  {
   "cell_type": "code",
   "execution_count": null,
   "metadata": {},
   "outputs": [],
   "source": [
    "jpyb = exbid.loc[:,'100jpyb']\n",
    "jpyb"
   ]
  },
  {
   "cell_type": "code",
   "execution_count": null,
   "metadata": {},
   "outputs": [],
   "source": [
    "jpya = exask.loc[:,'100jpya']\n",
    "jpya"
   ]
  },
  {
   "cell_type": "markdown",
   "metadata": {},
   "source": [
    "### GBP"
   ]
  },
  {
   "cell_type": "code",
   "execution_count": null,
   "metadata": {},
   "outputs": [],
   "source": [
    "gbpb = exbid.loc[:,'gbpb']\n",
    "gbpb"
   ]
  },
  {
   "cell_type": "code",
   "execution_count": null,
   "metadata": {},
   "outputs": [],
   "source": [
    "gbpa = exask.loc[:,'gbpa']\n",
    "gbpa"
   ]
  },
  {
   "cell_type": "markdown",
   "metadata": {},
   "source": [
    "### CHF"
   ]
  },
  {
   "cell_type": "code",
   "execution_count": null,
   "metadata": {},
   "outputs": [],
   "source": [
    "chfb = exbid.loc[:,'chfb']\n",
    "chfb"
   ]
  },
  {
   "cell_type": "code",
   "execution_count": null,
   "metadata": {},
   "outputs": [],
   "source": [
    "chfa = exask.loc[:,'chfa']\n",
    "chfa"
   ]
  },
  {
   "cell_type": "markdown",
   "metadata": {},
   "source": [
    "### HKD"
   ]
  },
  {
   "cell_type": "code",
   "execution_count": null,
   "metadata": {},
   "outputs": [],
   "source": [
    "hkdb = exbid.loc[:,'hkdb']\n",
    "hkdb"
   ]
  },
  {
   "cell_type": "code",
   "execution_count": null,
   "metadata": {},
   "outputs": [],
   "source": [
    "hkda = exask.loc[:,'hkda']\n",
    "hkda"
   ]
  },
  {
   "cell_type": "markdown",
   "metadata": {},
   "source": [
    "### AUD"
   ]
  },
  {
   "cell_type": "code",
   "execution_count": null,
   "metadata": {},
   "outputs": [],
   "source": [
    "audb = exbid.loc[:,'audb']\n",
    "audb"
   ]
  },
  {
   "cell_type": "code",
   "execution_count": null,
   "metadata": {},
   "outputs": [],
   "source": [
    "auda = exask.loc[:,'auda']\n",
    "auda"
   ]
  },
  {
   "cell_type": "markdown",
   "metadata": {},
   "source": [
    "### NZD"
   ]
  },
  {
   "cell_type": "code",
   "execution_count": null,
   "metadata": {},
   "outputs": [],
   "source": [
    "nzdb = exbid.loc[:,'nzdb']\n",
    "nzdb"
   ]
  },
  {
   "cell_type": "code",
   "execution_count": null,
   "metadata": {},
   "outputs": [],
   "source": [
    "nzda = exask.loc[:,'nzda']\n",
    "nzda"
   ]
  },
  {
   "cell_type": "markdown",
   "metadata": {},
   "source": [
    "### SGD"
   ]
  },
  {
   "cell_type": "code",
   "execution_count": null,
   "metadata": {},
   "outputs": [],
   "source": [
    "sgdb = exbid.loc[:,'sgdb']\n",
    "sgdb"
   ]
  },
  {
   "cell_type": "code",
   "execution_count": null,
   "metadata": {},
   "outputs": [],
   "source": [
    "sgda = exask.loc[:,'sgda']\n",
    "sgda"
   ]
  },
  {
   "cell_type": "markdown",
   "metadata": {},
   "source": [
    "### CAD"
   ]
  },
  {
   "cell_type": "code",
   "execution_count": null,
   "metadata": {},
   "outputs": [],
   "source": [
    "cadb = exbid.loc[:,'cadb']\n",
    "cadb"
   ]
  },
  {
   "cell_type": "code",
   "execution_count": null,
   "metadata": {},
   "outputs": [],
   "source": [
    "cada = exask.loc[:,'cada']\n",
    "cada"
   ]
  },
  {
   "cell_type": "markdown",
   "metadata": {},
   "source": [
    "### THB"
   ]
  },
  {
   "cell_type": "code",
   "execution_count": null,
   "metadata": {},
   "outputs": [],
   "source": [
    "thbb = exbid.loc[:,'thbbnew']\n",
    "thbb"
   ]
  },
  {
   "cell_type": "code",
   "execution_count": null,
   "metadata": {},
   "outputs": [],
   "source": [
    "thba = exask.loc[:,'thbanew']\n",
    "thba"
   ]
  },
  {
   "cell_type": "markdown",
   "metadata": {},
   "source": [
    "## Single Currency Pair"
   ]
  },
  {
   "cell_type": "code",
   "execution_count": null,
   "metadata": {},
   "outputs": [],
   "source": [
    "def er(rawsb,rawsa,rawr):\n",
    "    sb = pd.DataFrame(rawsb.dropna())\n",
    "    sa = pd.DataFrame(rawsa.dropna())\n",
    "    r = pd.DataFrame(rawr.dropna()) / 12 #年化利率转成单月利率\n",
    "    shibor = pd.DataFrame(sh) / 12 #年化利率转成单月利率\n",
    "    sincar = shibor.join(r.join(sb.join(sa))).dropna()\n",
    "    sincar['payoff'] = 0\n",
    "    n = sincar.iloc[:,0].count()\n",
    "    for m in range(1,n):\n",
    "        rcn = sincar.iloc[m-1,0]\n",
    "        rk = sincar.iloc[m-1,1]\n",
    "        sbm1 = sincar.iloc[m-1,2]\n",
    "        sam1 = sincar.iloc[m-1,3]\n",
    "        sb = sincar.iloc[m,2]\n",
    "        sa = sincar.iloc[m,3]\n",
    "        if rk > rcn :\n",
    "            sincar.iloc[m,4] = (1 + rk) * sb / sam1 - (1 + rcn)\n",
    "        else:\n",
    "            sincar.iloc[m,4] = (1 + rcn) - (1 + rk) * sa / sbm1\n",
    "    return sincar"
   ]
  },
  {
   "cell_type": "markdown",
   "metadata": {},
   "source": [
    "### USD/CNY"
   ]
  },
  {
   "cell_type": "code",
   "execution_count": null,
   "metadata": {},
   "outputs": [],
   "source": [
    "us[200611]"
   ]
  },
  {
   "cell_type": "code",
   "execution_count": null,
   "metadata": {},
   "outputs": [],
   "source": [
    "sh[200611]"
   ]
  },
  {
   "cell_type": "code",
   "execution_count": null,
   "metadata": {},
   "outputs": [],
   "source": [
    "usdcar = er(usdb,usda,us)\n",
    "usdcar = usdcar.drop(200610)\n",
    "usdcar"
   ]
  },
  {
   "cell_type": "code",
   "execution_count": null,
   "metadata": {},
   "outputs": [],
   "source": [
    "usdcarp = usdcar['payoff']\n",
    "usdcarp.rename('usdcarp',inplace = True)\n",
    "usdcarp.describe()"
   ]
  },
  {
   "cell_type": "code",
   "execution_count": null,
   "metadata": {},
   "outputs": [],
   "source": [
    "sfx = pd.read_excel('人民币兑12种货币的即期汇率（无bidask）.xlsx').drop([0,1,6268,6269])\n",
    "sfx.rename(columns = {'指标名称':'date','USD/CNY 即期':'usdspot'},inplace = True)\n",
    "usdspot = sfx.iloc[:,[0,1]]\n",
    "usdspot.dropna()\n",
    "usdspot['ym'] = usdspot['date'].map(lambda x: 100*x.year + x.month)\n",
    "usdspot.drop_duplicates('ym','last',inplace = True)\n",
    "usdspot = usdspot.set_index('ym')\n",
    "usdspot = usdspot.loc[:,'usdspot']\n",
    "shmon = sh / 12\n",
    "rus = us / 12\n",
    "usdspot = pd.DataFrame(usdspot)\n",
    "shmon = pd.DataFrame(shmon)\n",
    "rus = pd.DataFrame(rus)\n",
    "sincar = shmon.join(rus.join(usdspot))\n",
    "sincar\n",
    "sincar['payoff'] = 0\n",
    "n = sincar.iloc[:,0].count()\n",
    "for m in range(1,n):\n",
    "    rcn = sincar.iloc[m-1,0]\n",
    "    rk = sincar.iloc[m-1,1]\n",
    "    sm1 = sincar.iloc[m-1,2]\n",
    "    s = sincar.iloc[m,2]\n",
    "    sincar.iloc[m,3] = (1 + rcn) - (1 + rk) * s / sm1\n",
    "sincar"
   ]
  },
  {
   "cell_type": "code",
   "execution_count": null,
   "metadata": {},
   "outputs": [],
   "source": [
    "pf = sincar['payoff'].drop(200610)\n",
    "pf.describe()"
   ]
  },
  {
   "cell_type": "markdown",
   "metadata": {},
   "source": [
    "### USD/CNY UIP deviation"
   ]
  },
  {
   "cell_type": "code",
   "execution_count": null,
   "metadata": {},
   "outputs": [],
   "source": [
    "def er2(rawsb,rawsa,rawr):\n",
    "    sb = pd.DataFrame(rawsb.dropna())\n",
    "    sa = pd.DataFrame(rawsa.dropna())\n",
    "    r = pd.DataFrame(rawr.dropna())\n",
    "    shibor = pd.DataFrame(sh)\n",
    "    sincar = shibor.join(r.join(sb.join(sa))).dropna()\n",
    "    sincar['payoff'] = 0\n",
    "    n = sincar.iloc[:,0].count()\n",
    "    for m in range(1,n):\n",
    "        rcn = sincar.iloc[m-1,0]\n",
    "        rk = sincar.iloc[m-1,1]\n",
    "        sbm1 = sincar.iloc[m-1,2]\n",
    "        sam1 = sincar.iloc[m-1,3]\n",
    "        sb = sincar.iloc[m,2]\n",
    "        sa = sincar.iloc[m,3]\n",
    "        sincar.iloc[m,4] = (1 + rcn) - (1 + rk) * sa / sbm1\n",
    "    return sincar"
   ]
  },
  {
   "cell_type": "code",
   "execution_count": null,
   "metadata": {},
   "outputs": [],
   "source": [
    "usdcar2 = er2(usdb,usda,us)\n",
    "usdcar2 = usdcar2.drop(200610)\n",
    "usduipdev = usdcar2.loc[:,'payoff']\n",
    "usduipdev.to_excel('usduipdev.xlsx')"
   ]
  },
  {
   "cell_type": "markdown",
   "metadata": {},
   "source": [
    "### EUR/CNY"
   ]
  },
  {
   "cell_type": "code",
   "execution_count": null,
   "metadata": {},
   "outputs": [],
   "source": [
    "eurcar = er(eurb,eura,eu)\n",
    "eurcar = eurcar.drop(200610)\n",
    "eurcar"
   ]
  },
  {
   "cell_type": "code",
   "execution_count": null,
   "metadata": {},
   "outputs": [],
   "source": [
    "eurcarp = eurcar['payoff']\n",
    "eurcarp.rename('eurcarp',inplace = True)\n",
    "eurcarp.describe()"
   ]
  },
  {
   "cell_type": "markdown",
   "metadata": {},
   "source": [
    "### JPY/CNY"
   ]
  },
  {
   "cell_type": "code",
   "execution_count": null,
   "metadata": {},
   "outputs": [],
   "source": [
    "jpycar = er(jpyb,jpya,jp)\n",
    "jpycar = jpycar.drop(200610)\n",
    "jpycar"
   ]
  },
  {
   "cell_type": "code",
   "execution_count": null,
   "metadata": {},
   "outputs": [],
   "source": [
    "jpycarp = jpycar['payoff']\n",
    "jpycarp.rename('jpycarp',inplace = True)\n",
    "jpycarp.describe()"
   ]
  },
  {
   "cell_type": "markdown",
   "metadata": {},
   "source": [
    "### GBP/CNY"
   ]
  },
  {
   "cell_type": "code",
   "execution_count": null,
   "metadata": {},
   "outputs": [],
   "source": [
    "gbpcar = er(gbpb,gbpa,gb)\n",
    "gbpcar = gbpcar.drop(200610)\n",
    "gbpcar"
   ]
  },
  {
   "cell_type": "code",
   "execution_count": null,
   "metadata": {},
   "outputs": [],
   "source": [
    "gbpcarp = gbpcar['payoff']\n",
    "gbpcarp.rename('gbpcarp',inplace = True)\n",
    "gbpcarp.describe()"
   ]
  },
  {
   "cell_type": "markdown",
   "metadata": {},
   "source": [
    "### CHF/CNY"
   ]
  },
  {
   "cell_type": "code",
   "execution_count": null,
   "metadata": {},
   "outputs": [],
   "source": [
    "chfcar = er(chfb,chfa,sw)\n",
    "chfcar = chfcar.drop(200610)\n",
    "chfcar"
   ]
  },
  {
   "cell_type": "code",
   "execution_count": null,
   "metadata": {},
   "outputs": [],
   "source": [
    "chfcarp = chfcar['payoff']\n",
    "chfcarp.rename('chfcarp',inplace = True)\n",
    "chfcarp.describe()"
   ]
  },
  {
   "cell_type": "markdown",
   "metadata": {},
   "source": [
    "### HKD/CNY"
   ]
  },
  {
   "cell_type": "code",
   "execution_count": null,
   "metadata": {},
   "outputs": [],
   "source": [
    "hkdcar = er(hkdb,hkda,hk)\n",
    "hkdcar = hkdcar.drop(200610)\n",
    "hkdcar"
   ]
  },
  {
   "cell_type": "code",
   "execution_count": null,
   "metadata": {},
   "outputs": [],
   "source": [
    "hkdcarp = hkdcar['payoff']\n",
    "hkdcarp.rename('hkdcarp',inplace = True)\n",
    "hkdcarp.describe()"
   ]
  },
  {
   "cell_type": "markdown",
   "metadata": {},
   "source": [
    "### AUD/CNY"
   ]
  },
  {
   "cell_type": "code",
   "execution_count": null,
   "metadata": {},
   "outputs": [],
   "source": [
    "audcar = er(audb,auda,au)\n",
    "audcar = audcar.drop(200610)\n",
    "audcar"
   ]
  },
  {
   "cell_type": "code",
   "execution_count": null,
   "metadata": {},
   "outputs": [],
   "source": [
    "audcarp = audcar['payoff']\n",
    "audcarp.rename('audcarp',inplace = True)\n",
    "audcarp.describe()"
   ]
  },
  {
   "cell_type": "markdown",
   "metadata": {},
   "source": [
    "### NZD/CNY"
   ]
  },
  {
   "cell_type": "code",
   "execution_count": null,
   "metadata": {},
   "outputs": [],
   "source": [
    "nzdcar = er(nzdb,nzda,nz)\n",
    "nzdcar = nzdcar.drop(200610)\n",
    "nzdcar"
   ]
  },
  {
   "cell_type": "code",
   "execution_count": null,
   "metadata": {},
   "outputs": [],
   "source": [
    "nzdcarp = nzdcar['payoff']\n",
    "nzdcarp.rename('nzdcarp',inplace = True)\n",
    "nzdcarp.describe()"
   ]
  },
  {
   "cell_type": "markdown",
   "metadata": {},
   "source": [
    "### SGD/CNY"
   ]
  },
  {
   "cell_type": "code",
   "execution_count": null,
   "metadata": {},
   "outputs": [],
   "source": [
    "sgdcar = er(sgdb,sgda,sg)\n",
    "sgdcar"
   ]
  },
  {
   "cell_type": "code",
   "execution_count": null,
   "metadata": {},
   "outputs": [],
   "source": [
    "sgdcarp = sgdcar['payoff']\n",
    "sgdcarp.rename('sgdcarp',inplace = True)\n",
    "sgdcarp.describe()"
   ]
  },
  {
   "cell_type": "markdown",
   "metadata": {},
   "source": [
    "### CAD/CNY"
   ]
  },
  {
   "cell_type": "code",
   "execution_count": null,
   "metadata": {},
   "outputs": [],
   "source": [
    "cadcar = er(cadb,cada,ca)\n",
    "cadcar = cadcar.drop(200610)\n",
    "cadcar"
   ]
  },
  {
   "cell_type": "code",
   "execution_count": null,
   "metadata": {},
   "outputs": [],
   "source": [
    "cadcarp = cadcar['payoff']\n",
    "cadcarp.rename('cadcarp',inplace = True)\n",
    "cadcarp.describe()"
   ]
  },
  {
   "cell_type": "markdown",
   "metadata": {},
   "source": [
    "### THB/CNY"
   ]
  },
  {
   "cell_type": "code",
   "execution_count": null,
   "metadata": {},
   "outputs": [],
   "source": [
    "thbcar = er(thbb,thba,th)\n",
    "thbcar = thbcar.drop(200610)\n",
    "thbcar"
   ]
  },
  {
   "cell_type": "code",
   "execution_count": null,
   "metadata": {},
   "outputs": [],
   "source": [
    "thbcarp = thbcar['payoff']\n",
    "thbcarp.rename('thbcarp',inplace = True)\n",
    "thbcarp.describe()"
   ]
  },
  {
   "cell_type": "markdown",
   "metadata": {},
   "source": [
    "### MERGE"
   ]
  },
  {
   "cell_type": "code",
   "execution_count": null,
   "metadata": {},
   "outputs": [],
   "source": [
    "output = pd.concat([usdcarp,eurcarp,jpycarp,gbpcarp,chfcarp,hkdcarp,audcarp,nzdcarp,sgdcarp,cadcarp,thbcarp],axis = 1)\n",
    "output.to_excel('Fml Single Currency Pair Results.xlsx')"
   ]
  },
  {
   "cell_type": "markdown",
   "metadata": {},
   "source": [
    "## Regression"
   ]
  },
  {
   "cell_type": "markdown",
   "metadata": {},
   "source": [
    "### NDF-Implied offshore short-term rate"
   ]
  },
  {
   "cell_type": "code",
   "execution_count": 63,
   "metadata": {},
   "outputs": [
    {
     "data": {
      "text/plain": [
       "ym\n",
       "198601     0.0201563\n",
       "198602     0.0196875\n",
       "198603     0.0185937\n",
       "198604     0.0171875\n",
       "198605     0.0178125\n",
       "             ...    \n",
       "201909    0.00521282\n",
       "201910    0.00475563\n",
       "201911    0.00476375\n",
       "201912    0.00477095\n",
       "202001    0.00437783\n",
       "Name: USLibor3M, Length: 409, dtype: object"
      ]
     },
     "execution_count": 63,
     "metadata": {},
     "output_type": "execute_result"
    }
   ],
   "source": [
    "liborus\n",
    "us3m = liborus.loc[:,['date'] + ['USLibor3M']]\n",
    "us3m = us3m.dropna()\n",
    "us3m['ym'] = us3m['date'].map(lambda x: 100*x.year + x.month)\n",
    "us3m.drop_duplicates('ym','last',inplace = True)\n",
    "us3m = us3m.set_index('ym').drop(202002)\n",
    "# us3m['date'] = us3m['date'].dt.strftime('%Y/%m/%d')\n",
    "us3m = us3m.iloc[:,1] / 400\n",
    "us3m"
   ]
  },
  {
   "cell_type": "code",
   "execution_count": 64,
   "metadata": {},
   "outputs": [
    {
     "data": {
      "text/html": [
       "<div>\n",
       "<style scoped>\n",
       "    .dataframe tbody tr th:only-of-type {\n",
       "        vertical-align: middle;\n",
       "    }\n",
       "\n",
       "    .dataframe tbody tr th {\n",
       "        vertical-align: top;\n",
       "    }\n",
       "\n",
       "    .dataframe thead th {\n",
       "        text-align: right;\n",
       "    }\n",
       "</style>\n",
       "<table border=\"1\" class=\"dataframe\">\n",
       "  <thead>\n",
       "    <tr style=\"text-align: right;\">\n",
       "      <th></th>\n",
       "      <th>date</th>\n",
       "      <th>spotrate</th>\n",
       "    </tr>\n",
       "  </thead>\n",
       "  <tbody>\n",
       "    <tr>\n",
       "      <td>1</td>\n",
       "      <td>1981-01-02 00:00:00</td>\n",
       "      <td>1.5341</td>\n",
       "    </tr>\n",
       "    <tr>\n",
       "      <td>2</td>\n",
       "      <td>1981-01-05 00:00:00</td>\n",
       "      <td>1.5418</td>\n",
       "    </tr>\n",
       "    <tr>\n",
       "      <td>3</td>\n",
       "      <td>1981-01-06 00:00:00</td>\n",
       "      <td>1.5264</td>\n",
       "    </tr>\n",
       "    <tr>\n",
       "      <td>4</td>\n",
       "      <td>1981-01-07 00:00:00</td>\n",
       "      <td>1.5264</td>\n",
       "    </tr>\n",
       "    <tr>\n",
       "      <td>5</td>\n",
       "      <td>1981-01-08 00:00:00</td>\n",
       "      <td>1.5264</td>\n",
       "    </tr>\n",
       "    <tr>\n",
       "      <td>...</td>\n",
       "      <td>...</td>\n",
       "      <td>...</td>\n",
       "    </tr>\n",
       "    <tr>\n",
       "      <td>10012</td>\n",
       "      <td>2020-02-17 00:00:00</td>\n",
       "      <td>6.9807</td>\n",
       "    </tr>\n",
       "    <tr>\n",
       "      <td>10013</td>\n",
       "      <td>2020-02-18 00:00:00</td>\n",
       "      <td>7.0052</td>\n",
       "    </tr>\n",
       "    <tr>\n",
       "      <td>10014</td>\n",
       "      <td>2020-02-19 00:00:00</td>\n",
       "      <td>6.9941</td>\n",
       "    </tr>\n",
       "    <tr>\n",
       "      <td>10015</td>\n",
       "      <td>2020-02-20 00:00:00</td>\n",
       "      <td>7.0153</td>\n",
       "    </tr>\n",
       "    <tr>\n",
       "      <td>10016</td>\n",
       "      <td>2020-02-21 00:00:00</td>\n",
       "      <td>7.0386</td>\n",
       "    </tr>\n",
       "  </tbody>\n",
       "</table>\n",
       "<p>9888 rows × 2 columns</p>\n",
       "</div>"
      ],
      "text/plain": [
       "                      date spotrate\n",
       "1      1981-01-02 00:00:00   1.5341\n",
       "2      1981-01-05 00:00:00   1.5418\n",
       "3      1981-01-06 00:00:00   1.5264\n",
       "4      1981-01-07 00:00:00   1.5264\n",
       "5      1981-01-08 00:00:00   1.5264\n",
       "...                    ...      ...\n",
       "10012  2020-02-17 00:00:00   6.9807\n",
       "10013  2020-02-18 00:00:00   7.0052\n",
       "10014  2020-02-19 00:00:00   6.9941\n",
       "10015  2020-02-20 00:00:00   7.0153\n",
       "10016  2020-02-21 00:00:00   7.0386\n",
       "\n",
       "[9888 rows x 2 columns]"
      ]
     },
     "execution_count": 64,
     "metadata": {},
     "output_type": "execute_result"
    }
   ],
   "source": [
    "usdspot = pd.read_excel('人民币即期汇率(日).xlsx')\n",
    "usdspot = usdspot.drop([0,10017,10018])\n",
    "usdspot = usdspot.iloc[:,[0,1]]\n",
    "usdspot.columns = ['date','spotrate']\n",
    "usdspot = usdspot.dropna()\n",
    "usdspot"
   ]
  },
  {
   "cell_type": "code",
   "execution_count": 65,
   "metadata": {},
   "outputs": [
    {
     "data": {
      "text/plain": [
       "ym\n",
       "198101    1.5886\n",
       "198102    1.6179\n",
       "198103    1.6165\n",
       "198104    1.6882\n",
       "198105     1.748\n",
       "           ...  \n",
       "201909    7.1381\n",
       "201910     7.035\n",
       "201911    7.0261\n",
       "201912    6.9662\n",
       "202001      6.93\n",
       "Name: spotrate, Length: 469, dtype: object"
      ]
     },
     "execution_count": 65,
     "metadata": {},
     "output_type": "execute_result"
    }
   ],
   "source": [
    "usdspot['ym'] = usdspot['date'].map(lambda x: 100*x.year + x.month)\n",
    "usdspot.drop_duplicates('ym','last',inplace = True)\n",
    "usdspot = usdspot.set_index('ym').drop(202002)\n",
    "usdspot = usdspot.iloc[:,1]\n",
    "usdspot.to_excel('nominalusdspot.xlsx')\n",
    "usdspot"
   ]
  },
  {
   "cell_type": "code",
   "execution_count": 66,
   "metadata": {},
   "outputs": [
    {
     "data": {
      "text/plain": [
       "ym\n",
       "200601    7.9685\n",
       "200602    7.9245\n",
       "200603    7.9495\n",
       "200604    7.9225\n",
       "200605    7.9465\n",
       "           ...  \n",
       "201909    7.1474\n",
       "201910    7.0589\n",
       "201911    7.0473\n",
       "201912    6.9768\n",
       "202001    7.0220\n",
       "Name: NDF3M, Length: 169, dtype: float64"
      ]
     },
     "execution_count": 66,
     "metadata": {},
     "output_type": "execute_result"
    }
   ],
   "source": [
    "ndf = pd.read_excel('NDF 3M_Bloomberg.xlsx')\n",
    "ndf.columns = ['date','NDF3M']\n",
    "ndf = ndf.dropna()\n",
    "ndf['ym'] = ndf['date'].map(lambda x: 100*x.year + x.month)\n",
    "ndf.drop_duplicates('ym','last',inplace = True)\n",
    "ndf = ndf.set_index('ym').drop([202002,202003,202004],axis = 0)\n",
    "ndf = ndf.iloc[:,1]\n",
    "ndf"
   ]
  },
  {
   "cell_type": "code",
   "execution_count": 67,
   "metadata": {},
   "outputs": [
    {
     "data": {
      "text/plain": [
       "ym\n",
       "200610    0.00661975\n",
       "200611     0.0070135\n",
       "200612     0.0070205\n",
       "200701    0.00702075\n",
       "200702    0.00713475\n",
       "             ...    \n",
       "201909       0.00682\n",
       "201910     0.0072175\n",
       "201911     0.0075425\n",
       "201912       0.00755\n",
       "202001      0.007145\n",
       "Name: Shibor3M, Length: 160, dtype: object"
      ]
     },
     "execution_count": 67,
     "metadata": {},
     "output_type": "execute_result"
    }
   ],
   "source": [
    "shibor = pd.read_excel('SHIBOR(日).xlsx')\n",
    "shibor = shibor.drop([0,1])\n",
    "shibor.rename(columns = {'指标名称':'date'},inplace = True)\n",
    "# shibor['date'] = shibor['date'].dt.strftime('%Y/%m/%d')\n",
    "shibor['ym'] = shibor['date'].map(lambda x: 100*x.year + x.month)\n",
    "shibor.drop_duplicates('ym','last',inplace = True)\n",
    "shibor = shibor.set_index('ym').drop([202002])\n",
    "shibor.rename(columns = {'SHIBOR:3个月':'Shibor3M'},inplace = True)\n",
    "# shibor\n",
    "# ibcn = shibor.iloc[:,5]\n",
    "# ibcn = pd.DataFrame(ibcn)\n",
    "# ibcn.rename(columns = {'SHIBOR:3个月':'shibor3M'},inplace = True)\n",
    "# ibcn\n",
    "sh3m = shibor.loc[:,'Shibor3M'] / 400\n",
    "sh3m"
   ]
  },
  {
   "cell_type": "code",
   "execution_count": 68,
   "metadata": {},
   "outputs": [
    {
     "data": {
      "text/html": [
       "<div>\n",
       "<style scoped>\n",
       "    .dataframe tbody tr th:only-of-type {\n",
       "        vertical-align: middle;\n",
       "    }\n",
       "\n",
       "    .dataframe tbody tr th {\n",
       "        vertical-align: top;\n",
       "    }\n",
       "\n",
       "    .dataframe thead th {\n",
       "        text-align: right;\n",
       "    }\n",
       "</style>\n",
       "<table border=\"1\" class=\"dataframe\">\n",
       "  <thead>\n",
       "    <tr style=\"text-align: right;\">\n",
       "      <th></th>\n",
       "      <th>Shibor3M</th>\n",
       "      <th>USLibor3M</th>\n",
       "      <th>NDF3M</th>\n",
       "      <th>spotrate</th>\n",
       "    </tr>\n",
       "    <tr>\n",
       "      <th>ym</th>\n",
       "      <th></th>\n",
       "      <th></th>\n",
       "      <th></th>\n",
       "      <th></th>\n",
       "    </tr>\n",
       "  </thead>\n",
       "  <tbody>\n",
       "    <tr>\n",
       "      <td>200610</td>\n",
       "      <td>0.00661975</td>\n",
       "      <td>0.0134266</td>\n",
       "      <td>7.8195</td>\n",
       "      <td>7.8765</td>\n",
       "    </tr>\n",
       "    <tr>\n",
       "      <td>200611</td>\n",
       "      <td>0.0070135</td>\n",
       "      <td>0.013425</td>\n",
       "      <td>7.7385</td>\n",
       "      <td>7.8323</td>\n",
       "    </tr>\n",
       "    <tr>\n",
       "      <td>200612</td>\n",
       "      <td>0.0070205</td>\n",
       "      <td>0.0134</td>\n",
       "      <td>7.7046</td>\n",
       "      <td>7.8065</td>\n",
       "    </tr>\n",
       "    <tr>\n",
       "      <td>200701</td>\n",
       "      <td>0.00702075</td>\n",
       "      <td>0.0134</td>\n",
       "      <td>7.6615</td>\n",
       "      <td>7.7743</td>\n",
       "    </tr>\n",
       "    <tr>\n",
       "      <td>200702</td>\n",
       "      <td>0.00713475</td>\n",
       "      <td>0.0133703</td>\n",
       "      <td>7.6410</td>\n",
       "      <td>7.7365</td>\n",
       "    </tr>\n",
       "    <tr>\n",
       "      <td>...</td>\n",
       "      <td>...</td>\n",
       "      <td>...</td>\n",
       "      <td>...</td>\n",
       "      <td>...</td>\n",
       "    </tr>\n",
       "    <tr>\n",
       "      <td>201909</td>\n",
       "      <td>0.00682</td>\n",
       "      <td>0.00521282</td>\n",
       "      <td>7.1474</td>\n",
       "      <td>7.1381</td>\n",
       "    </tr>\n",
       "    <tr>\n",
       "      <td>201910</td>\n",
       "      <td>0.0072175</td>\n",
       "      <td>0.00475563</td>\n",
       "      <td>7.0589</td>\n",
       "      <td>7.035</td>\n",
       "    </tr>\n",
       "    <tr>\n",
       "      <td>201911</td>\n",
       "      <td>0.0075425</td>\n",
       "      <td>0.00476375</td>\n",
       "      <td>7.0473</td>\n",
       "      <td>7.0261</td>\n",
       "    </tr>\n",
       "    <tr>\n",
       "      <td>201912</td>\n",
       "      <td>0.00755</td>\n",
       "      <td>0.00477095</td>\n",
       "      <td>6.9768</td>\n",
       "      <td>6.9662</td>\n",
       "    </tr>\n",
       "    <tr>\n",
       "      <td>202001</td>\n",
       "      <td>0.007145</td>\n",
       "      <td>0.00437783</td>\n",
       "      <td>7.0220</td>\n",
       "      <td>6.93</td>\n",
       "    </tr>\n",
       "  </tbody>\n",
       "</table>\n",
       "<p>160 rows × 4 columns</p>\n",
       "</div>"
      ],
      "text/plain": [
       "          Shibor3M   USLibor3M   NDF3M spotrate\n",
       "ym                                             \n",
       "200610  0.00661975   0.0134266  7.8195   7.8765\n",
       "200611   0.0070135    0.013425  7.7385   7.8323\n",
       "200612   0.0070205      0.0134  7.7046   7.8065\n",
       "200701  0.00702075      0.0134  7.6615   7.7743\n",
       "200702  0.00713475   0.0133703  7.6410   7.7365\n",
       "...            ...         ...     ...      ...\n",
       "201909     0.00682  0.00521282  7.1474   7.1381\n",
       "201910   0.0072175  0.00475563  7.0589    7.035\n",
       "201911   0.0075425  0.00476375  7.0473   7.0261\n",
       "201912     0.00755  0.00477095  6.9768   6.9662\n",
       "202001    0.007145  0.00437783  7.0220     6.93\n",
       "\n",
       "[160 rows x 4 columns]"
      ]
     },
     "execution_count": 68,
     "metadata": {},
     "output_type": "execute_result"
    }
   ],
   "source": [
    "ndfimplied = pd.concat([sh3m,us3m,ndf,usdspot],axis = 1)\n",
    "ndfimplied = ndfimplied.dropna()\n",
    "ndfimplied\n",
    "# ndfimplied.to_excel('ndfimplied.xlsx')"
   ]
  },
  {
   "cell_type": "code",
   "execution_count": 69,
   "metadata": {},
   "outputs": [
    {
     "data": {
      "text/html": [
       "<div>\n",
       "<style scoped>\n",
       "    .dataframe tbody tr th:only-of-type {\n",
       "        vertical-align: middle;\n",
       "    }\n",
       "\n",
       "    .dataframe tbody tr th {\n",
       "        vertical-align: top;\n",
       "    }\n",
       "\n",
       "    .dataframe thead th {\n",
       "        text-align: right;\n",
       "    }\n",
       "</style>\n",
       "<table border=\"1\" class=\"dataframe\">\n",
       "  <thead>\n",
       "    <tr style=\"text-align: right;\">\n",
       "      <th></th>\n",
       "      <th>Shibor3M</th>\n",
       "      <th>USLibor3M</th>\n",
       "      <th>NDF3M</th>\n",
       "      <th>spotrate</th>\n",
       "      <th>impldint</th>\n",
       "    </tr>\n",
       "    <tr>\n",
       "      <th>ym</th>\n",
       "      <th></th>\n",
       "      <th></th>\n",
       "      <th></th>\n",
       "      <th></th>\n",
       "      <th></th>\n",
       "    </tr>\n",
       "  </thead>\n",
       "  <tbody>\n",
       "    <tr>\n",
       "      <td>200610</td>\n",
       "      <td>0.00661975</td>\n",
       "      <td>0.0134266</td>\n",
       "      <td>7.8195</td>\n",
       "      <td>7.8765</td>\n",
       "      <td>0.00609269</td>\n",
       "    </tr>\n",
       "    <tr>\n",
       "      <td>200611</td>\n",
       "      <td>0.0070135</td>\n",
       "      <td>0.013425</td>\n",
       "      <td>7.7385</td>\n",
       "      <td>7.8323</td>\n",
       "      <td>0.00128817</td>\n",
       "    </tr>\n",
       "    <tr>\n",
       "      <td>200612</td>\n",
       "      <td>0.0070205</td>\n",
       "      <td>0.0134</td>\n",
       "      <td>7.7046</td>\n",
       "      <td>7.8065</td>\n",
       "      <td>0.000171862</td>\n",
       "    </tr>\n",
       "    <tr>\n",
       "      <td>200701</td>\n",
       "      <td>0.00702075</td>\n",
       "      <td>0.0134</td>\n",
       "      <td>7.6615</td>\n",
       "      <td>7.7743</td>\n",
       "      <td>-0.00130377</td>\n",
       "    </tr>\n",
       "    <tr>\n",
       "      <td>200702</td>\n",
       "      <td>0.00713475</td>\n",
       "      <td>0.0133703</td>\n",
       "      <td>7.6410</td>\n",
       "      <td>7.7365</td>\n",
       "      <td>0.000861197</td>\n",
       "    </tr>\n",
       "    <tr>\n",
       "      <td>...</td>\n",
       "      <td>...</td>\n",
       "      <td>...</td>\n",
       "      <td>...</td>\n",
       "      <td>...</td>\n",
       "      <td>...</td>\n",
       "    </tr>\n",
       "    <tr>\n",
       "      <td>201909</td>\n",
       "      <td>0.00682</td>\n",
       "      <td>0.00521282</td>\n",
       "      <td>7.1474</td>\n",
       "      <td>7.1381</td>\n",
       "      <td>0.00652248</td>\n",
       "    </tr>\n",
       "    <tr>\n",
       "      <td>201910</td>\n",
       "      <td>0.0072175</td>\n",
       "      <td>0.00475563</td>\n",
       "      <td>7.0589</td>\n",
       "      <td>7.035</td>\n",
       "      <td>0.00816908</td>\n",
       "    </tr>\n",
       "    <tr>\n",
       "      <td>201911</td>\n",
       "      <td>0.0075425</td>\n",
       "      <td>0.00476375</td>\n",
       "      <td>7.0473</td>\n",
       "      <td>7.0261</td>\n",
       "      <td>0.00779544</td>\n",
       "    </tr>\n",
       "    <tr>\n",
       "      <td>201912</td>\n",
       "      <td>0.00755</td>\n",
       "      <td>0.00477095</td>\n",
       "      <td>6.9768</td>\n",
       "      <td>6.9662</td>\n",
       "      <td>0.00629984</td>\n",
       "    </tr>\n",
       "    <tr>\n",
       "      <td>202001</td>\n",
       "      <td>0.007145</td>\n",
       "      <td>0.00437783</td>\n",
       "      <td>7.0220</td>\n",
       "      <td>6.93</td>\n",
       "      <td>0.0177116</td>\n",
       "    </tr>\n",
       "  </tbody>\n",
       "</table>\n",
       "<p>160 rows × 5 columns</p>\n",
       "</div>"
      ],
      "text/plain": [
       "          Shibor3M   USLibor3M   NDF3M spotrate     impldint\n",
       "ym                                                          \n",
       "200610  0.00661975   0.0134266  7.8195   7.8765   0.00609269\n",
       "200611   0.0070135    0.013425  7.7385   7.8323   0.00128817\n",
       "200612   0.0070205      0.0134  7.7046   7.8065  0.000171862\n",
       "200701  0.00702075      0.0134  7.6615   7.7743  -0.00130377\n",
       "200702  0.00713475   0.0133703  7.6410   7.7365  0.000861197\n",
       "...            ...         ...     ...      ...          ...\n",
       "201909     0.00682  0.00521282  7.1474   7.1381   0.00652248\n",
       "201910   0.0072175  0.00475563  7.0589    7.035   0.00816908\n",
       "201911   0.0075425  0.00476375  7.0473   7.0261   0.00779544\n",
       "201912     0.00755  0.00477095  6.9768   6.9662   0.00629984\n",
       "202001    0.007145  0.00437783  7.0220     6.93    0.0177116\n",
       "\n",
       "[160 rows x 5 columns]"
      ]
     },
     "execution_count": 69,
     "metadata": {},
     "output_type": "execute_result"
    }
   ],
   "source": [
    "ndfimplied['impldint'] = (1 + ndfimplied['USLibor3M']) * ndfimplied['NDF3M'] / ndfimplied['spotrate'] - 1\n",
    "ndfimplied"
   ]
  },
  {
   "cell_type": "code",
   "execution_count": 70,
   "metadata": {},
   "outputs": [
    {
     "data": {
      "text/plain": [
       "ym\n",
       "200611     0.00572533\n",
       "200612     0.00684864\n",
       "200701     0.00832452\n",
       "200702     0.00627355\n",
       "200703     0.00839512\n",
       "             ...     \n",
       "201909    0.000297516\n",
       "201910    -0.00095158\n",
       "201911   -0.000252945\n",
       "201912     0.00125016\n",
       "202001     -0.0105666\n",
       "Name: CCgap, Length: 159, dtype: object"
      ]
     },
     "execution_count": 70,
     "metadata": {},
     "output_type": "execute_result"
    }
   ],
   "source": [
    "ndfimplied['CCgap'] = ndfimplied['Shibor3M'] - ndfimplied['impldint']\n",
    "CCgap = ndfimplied['CCgap']\n",
    "CCgap = CCgap.drop(200610)\n",
    "CCgap.to_excel('CCgap.xlsx')\n",
    "CCgap"
   ]
  },
  {
   "cell_type": "markdown",
   "metadata": {},
   "source": [
    "### VIX"
   ]
  },
  {
   "cell_type": "code",
   "execution_count": null,
   "metadata": {},
   "outputs": [],
   "source": [
    "vix = pd.read_excel('标普500波动率指数.xlsx')\n",
    "vix = vix.drop([0,1,7595,7596])\n",
    "vix = vix.iloc[:,[0,2]]\n",
    "vix.columns = ['date','vix']\n",
    "vix = vix.dropna()\n",
    "vix['ym'] = vix['date'].map(lambda x: 100 * x.year + x.month)\n",
    "vix['vix'] = vix['vix'].apply(pd.to_numeric)\n",
    "vixmtavg = vix.groupby('ym')['vix'].mean()\n",
    "vixmtavg = vixmtavg.drop(202002) / 100\n",
    "vixmtavg.to_excel('vixmtavg.xlsx')"
   ]
  },
  {
   "cell_type": "code",
   "execution_count": null,
   "metadata": {},
   "outputs": [],
   "source": []
  }
 ],
 "metadata": {
  "kernelspec": {
   "display_name": "Python 3",
   "language": "python",
   "name": "python3"
  },
  "language_info": {
   "codemirror_mode": {
    "name": "ipython",
    "version": 3
   },
   "file_extension": ".py",
   "mimetype": "text/x-python",
   "name": "python",
   "nbconvert_exporter": "python",
   "pygments_lexer": "ipython3",
   "version": "3.7.4"
  },
  "toc": {
   "base_numbering": 1,
   "nav_menu": {},
   "number_sections": true,
   "sideBar": true,
   "skip_h1_title": false,
   "title_cell": "Table of Contents",
   "title_sidebar": "Contents",
   "toc_cell": false,
   "toc_position": {
    "height": "calc(100% - 180px)",
    "left": "10px",
    "top": "150px",
    "width": "215.788px"
   },
   "toc_section_display": true,
   "toc_window_display": true
  }
 },
 "nbformat": 4,
 "nbformat_minor": 2
}
